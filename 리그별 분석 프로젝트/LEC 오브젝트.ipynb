{
 "cells": [
  {
   "cell_type": "code",
   "execution_count": 23,
   "id": "0df19c76",
   "metadata": {},
   "outputs": [],
   "source": [
    "import pandas as pd\n",
    "import numpy as np\n",
    "import matplotlib.pyplot as plt\n",
    "import seaborn as sns"
   ]
  },
  {
   "cell_type": "code",
   "execution_count": 24,
   "id": "f191f0e9",
   "metadata": {},
   "outputs": [
    {
     "name": "stdout",
     "output_type": "stream",
     "text": [
      "<class 'pandas.core.frame.DataFrame'>\n",
      "Int64Index: 685 entries, 0 to 684\n",
      "Data columns (total 29 columns):\n",
      " #   Column             Non-Null Count  Dtype \n",
      "---  ------             --------------  ----- \n",
      " 0   game_date          685 non-null    object\n",
      " 1   version            685 non-null    object\n",
      " 2   team1_name         685 non-null    object\n",
      " 3   team1_score        685 non-null    int64 \n",
      " 4   team2_score        685 non-null    int64 \n",
      " 5   team2_name         685 non-null    object\n",
      " 6   gametime           685 non-null    object\n",
      " 7   blue_team          685 non-null    object\n",
      " 8   blue_score         685 non-null    int64 \n",
      " 9   blue_ban           685 non-null    object\n",
      " 10  blue_object        685 non-null    object\n",
      " 11  blue_object_count  685 non-null    int64 \n",
      " 12  blue_call_name     685 non-null    object\n",
      " 13  blue_line          685 non-null    object\n",
      " 14  blue_champion      685 non-null    object\n",
      " 15  blue_kill          685 non-null    int64 \n",
      " 16  blue_death         685 non-null    object\n",
      " 17  blue_assist        685 non-null    object\n",
      " 18  red_team           685 non-null    object\n",
      " 19  red_score          685 non-null    int64 \n",
      " 20  red_ban            685 non-null    object\n",
      " 21  red_object         685 non-null    object\n",
      " 22  red_object_count   685 non-null    int64 \n",
      " 23  red_call_name      685 non-null    object\n",
      " 24  red_line           685 non-null    object\n",
      " 25  red_champion       685 non-null    object\n",
      " 26  red_kill           685 non-null    int64 \n",
      " 27  red_death          685 non-null    object\n",
      " 28  red_assist         685 non-null    object\n",
      "dtypes: int64(8), object(21)\n",
      "memory usage: 176.7+ KB\n"
     ]
    }
   ],
   "source": [
    "LEC = pd.read_csv('projectData/LEC_RESULT.csv', index_col=0, encoding='CP949')\n",
    "LEC['version'] = LEC['version'].str.replace('버전','')\n",
    "LEC['version'] = LEC['version'].str.replace(' ','')\n",
    "LEC['version'] = LEC['version'].str.replace('<!----><!---->','')\n",
    "ind = LEC[LEC['version'] == '11.5'].index\n",
    "LEC = LEC.drop(index=ind)\n",
    "LEC.info()"
   ]
  },
  {
   "cell_type": "code",
   "execution_count": 3,
   "id": "ccaf97f0",
   "metadata": {},
   "outputs": [
    {
     "data": {
      "text/html": [
       "<div>\n",
       "<style scoped>\n",
       "    .dataframe tbody tr th:only-of-type {\n",
       "        vertical-align: middle;\n",
       "    }\n",
       "\n",
       "    .dataframe tbody tr th {\n",
       "        vertical-align: top;\n",
       "    }\n",
       "\n",
       "    .dataframe thead th {\n",
       "        text-align: right;\n",
       "    }\n",
       "</style>\n",
       "<table border=\"1\" class=\"dataframe\">\n",
       "  <thead>\n",
       "    <tr style=\"text-align: right;\">\n",
       "      <th></th>\n",
       "      <th>blue_object</th>\n",
       "      <th>blue_object_count</th>\n",
       "      <th>red_object</th>\n",
       "      <th>red_object_count</th>\n",
       "    </tr>\n",
       "  </thead>\n",
       "  <tbody>\n",
       "    <tr>\n",
       "      <th>0</th>\n",
       "      <td>turret@blue</td>\n",
       "      <td>9</td>\n",
       "      <td>turret@red</td>\n",
       "      <td>2</td>\n",
       "    </tr>\n",
       "    <tr>\n",
       "      <th>1</th>\n",
       "      <td>inhibitor@blue</td>\n",
       "      <td>1</td>\n",
       "      <td>inhibitor@red</td>\n",
       "      <td>0</td>\n",
       "    </tr>\n",
       "    <tr>\n",
       "      <th>2</th>\n",
       "      <td>baron@blue</td>\n",
       "      <td>1</td>\n",
       "      <td>baron@red</td>\n",
       "      <td>1</td>\n",
       "    </tr>\n",
       "    <tr>\n",
       "      <th>3</th>\n",
       "      <td>dragon@blue</td>\n",
       "      <td>4</td>\n",
       "      <td>dragon@red</td>\n",
       "      <td>2</td>\n",
       "    </tr>\n",
       "    <tr>\n",
       "      <th>4</th>\n",
       "      <td>riftHerald@blue</td>\n",
       "      <td>0</td>\n",
       "      <td>riftHerald@red</td>\n",
       "      <td>2</td>\n",
       "    </tr>\n",
       "    <tr>\n",
       "      <th>...</th>\n",
       "      <td>...</td>\n",
       "      <td>...</td>\n",
       "      <td>...</td>\n",
       "      <td>...</td>\n",
       "    </tr>\n",
       "    <tr>\n",
       "      <th>680</th>\n",
       "      <td>turret@blue</td>\n",
       "      <td>3</td>\n",
       "      <td>turret@red</td>\n",
       "      <td>8</td>\n",
       "    </tr>\n",
       "    <tr>\n",
       "      <th>681</th>\n",
       "      <td>inhibitor@blue</td>\n",
       "      <td>0</td>\n",
       "      <td>inhibitor@red</td>\n",
       "      <td>1</td>\n",
       "    </tr>\n",
       "    <tr>\n",
       "      <th>682</th>\n",
       "      <td>baron@blue</td>\n",
       "      <td>0</td>\n",
       "      <td>baron@red</td>\n",
       "      <td>1</td>\n",
       "    </tr>\n",
       "    <tr>\n",
       "      <th>683</th>\n",
       "      <td>dragon@blue</td>\n",
       "      <td>3</td>\n",
       "      <td>dragon@red</td>\n",
       "      <td>1</td>\n",
       "    </tr>\n",
       "    <tr>\n",
       "      <th>684</th>\n",
       "      <td>riftHerald@blue</td>\n",
       "      <td>1</td>\n",
       "      <td>riftHerald@red</td>\n",
       "      <td>1</td>\n",
       "    </tr>\n",
       "  </tbody>\n",
       "</table>\n",
       "<p>685 rows × 4 columns</p>\n",
       "</div>"
      ],
      "text/plain": [
       "         blue_object  blue_object_count      red_object  red_object_count\n",
       "0        turret@blue                  9      turret@red                 2\n",
       "1     inhibitor@blue                  1   inhibitor@red                 0\n",
       "2         baron@blue                  1       baron@red                 1\n",
       "3        dragon@blue                  4      dragon@red                 2\n",
       "4    riftHerald@blue                  0  riftHerald@red                 2\n",
       "..               ...                ...             ...               ...\n",
       "680      turret@blue                  3      turret@red                 8\n",
       "681   inhibitor@blue                  0   inhibitor@red                 1\n",
       "682       baron@blue                  0       baron@red                 1\n",
       "683      dragon@blue                  3      dragon@red                 1\n",
       "684  riftHerald@blue                  1  riftHerald@red                 1\n",
       "\n",
       "[685 rows x 4 columns]"
      ]
     },
     "execution_count": 3,
     "metadata": {},
     "output_type": "execute_result"
    }
   ],
   "source": [
    "LEC_object = LEC[['blue_object','blue_object_count','red_object','red_object_count']]\n",
    "LEC_object"
   ]
  },
  {
   "cell_type": "code",
   "execution_count": 4,
   "id": "af3b1412",
   "metadata": {},
   "outputs": [],
   "source": [
    "a = LEC_object[LEC_object['blue_object'] == 'turret@blue']\n",
    "aa = LEC_object[LEC_object['blue_object'] == 'inhibitor@blue']"
   ]
  },
  {
   "cell_type": "code",
   "execution_count": 5,
   "id": "daa777c0",
   "metadata": {},
   "outputs": [],
   "source": [
    "LEC_turret = a.drop(columns=['blue_object','red_object'])\n",
    "LEC_inhibitor = aa.drop(columns=['blue_object','red_object'])"
   ]
  },
  {
   "cell_type": "code",
   "execution_count": 27,
   "id": "5a9ca325",
   "metadata": {
    "scrolled": true
   },
   "outputs": [
    {
     "data": {
      "text/plain": [
       "blue_object_count    6.669355\n",
       "red_object_count     6.975806\n",
       "dtype: float64"
      ]
     },
     "execution_count": 27,
     "metadata": {},
     "output_type": "execute_result"
    }
   ],
   "source": [
    "LEC_turret.sum()/(90+34)"
   ]
  },
  {
   "cell_type": "markdown",
   "id": "6c85a942",
   "metadata": {},
   "source": [
    "LEC는 블루일때 827개   레드일때 865개로 레드가 타워를 더 많이 깍아냄\n",
    "\n",
    "블루팀은 경기당 6.7개\n",
    "\n",
    "레드팀은 경기당 7.0개의 포탑을 밀어냄"
   ]
  },
  {
   "cell_type": "code",
   "execution_count": 10,
   "id": "4fc458d1",
   "metadata": {},
   "outputs": [],
   "source": [
    "b = LEC_object[LEC_object['blue_object'] == 'riftHerald@blue']"
   ]
  },
  {
   "cell_type": "code",
   "execution_count": 11,
   "id": "617cee3c",
   "metadata": {},
   "outputs": [],
   "source": [
    "LEC_riftHerald = b.drop(columns=['blue_object','red_object'])"
   ]
  },
  {
   "cell_type": "code",
   "execution_count": 12,
   "id": "d531cc9a",
   "metadata": {
    "scrolled": true
   },
   "outputs": [
    {
     "data": {
      "text/plain": [
       "blue_object_count    159\n",
       "red_object_count     106\n",
       "dtype: int64"
      ]
     },
     "execution_count": 12,
     "metadata": {},
     "output_type": "execute_result"
    }
   ],
   "source": [
    "LEC_riftHerald.sum()"
   ]
  },
  {
   "cell_type": "markdown",
   "id": "4b16313a",
   "metadata": {},
   "source": [
    "여기도 전령을 블루팀이 1.5배 잘먹는걸 알 수 있음\n",
    "\n",
    "블루팀이 경기당 1.2마리\n",
    "\n",
    "레드팀이 경기당 0.8마리로\n",
    "\n",
    "거의 모든 경기에서 전령을 두마리 다 챙겨먹었다고 알 수 있음\n",
    "\n",
    "LEC도 전령에 대한 중요도를 엄청 중요하게 생각하는듯\n",
    "\n",
    "실제로 게임중 한마리만 먹은 경기는 딱 9경기에 밖에없었음"
   ]
  },
  {
   "cell_type": "code",
   "execution_count": 16,
   "id": "8d0aea8d",
   "metadata": {},
   "outputs": [],
   "source": [
    "c = LEC_object[LEC_object['blue_object'] == 'dragon@blue']\n",
    "LEC_dragon= c.drop(columns=['blue_object','red_object'])"
   ]
  },
  {
   "cell_type": "code",
   "execution_count": 17,
   "id": "9d8c49b6",
   "metadata": {},
   "outputs": [
    {
     "data": {
      "text/plain": [
       "blue_object_count    262\n",
       "red_object_count     344\n",
       "dtype: int64"
      ]
     },
     "execution_count": 17,
     "metadata": {},
     "output_type": "execute_result"
    }
   ],
   "source": [
    "LEC_dragon.sum()"
   ]
  },
  {
   "cell_type": "markdown",
   "id": "74f36ce8",
   "metadata": {},
   "source": [
    "드래곤은 역시 LEC도 레드팀이 더 많이 가져가는 모습을 알 수 있음\n",
    "\n",
    "블루팀은 경기당 2.1마리\n",
    "\n",
    "레드팀은 경기당 2.7마리"
   ]
  },
  {
   "cell_type": "code",
   "execution_count": 29,
   "id": "c4c7d723",
   "metadata": {},
   "outputs": [],
   "source": [
    "d = LEC_object[LEC_object['blue_object'] == 'baron@blue']\n",
    "LEC_baron= d.drop(columns=['blue_object','red_object'])"
   ]
  },
  {
   "cell_type": "code",
   "execution_count": 30,
   "id": "99f2de52",
   "metadata": {},
   "outputs": [
    {
     "data": {
      "text/plain": [
       "blue_object_count     89\n",
       "red_object_count     108\n",
       "dtype: int64"
      ]
     },
     "execution_count": 30,
     "metadata": {},
     "output_type": "execute_result"
    }
   ],
   "source": [
    "LEC_baron.sum()"
   ]
  },
  {
   "cell_type": "markdown",
   "id": "4f06c838",
   "metadata": {},
   "source": [
    "LEC도 레드팀이 바론을 많이 먹네\n",
    "\n",
    "LCK의 블루팀이 많이 먹는게 독특한 거일수도\n",
    "\n",
    "\n",
    "경기당 1.6마리의 바론을 먹음"
   ]
  },
  {
   "cell_type": "code",
   "execution_count": 34,
   "id": "00a23b04",
   "metadata": {},
   "outputs": [
    {
     "data": {
      "text/plain": [
       "blue_object_count  red_object_count\n",
       "0                  1                   44\n",
       "1                  0                   37\n",
       "                   1                   17\n",
       "0                  2                   16\n",
       "2                  0                   11\n",
       "0                  0                    3\n",
       "1                  2                    3\n",
       "2                  1                    3\n",
       "0                  3                    1\n",
       "1                  3                    1\n",
       "3                  0                    1\n",
       "dtype: int64"
      ]
     },
     "execution_count": 34,
     "metadata": {},
     "output_type": "execute_result"
    }
   ],
   "source": [
    "LEC_baron.value_counts()"
   ]
  },
  {
   "cell_type": "code",
   "execution_count": 38,
   "id": "852f2d30",
   "metadata": {},
   "outputs": [
    {
     "name": "stdout",
     "output_type": "stream",
     "text": [
      "1\n",
      "1\n",
      "2\n",
      "0\n",
      "2\n",
      "0\n",
      "0\n",
      "1\n",
      "1\n",
      "0\n",
      "1\n",
      "0\n",
      "0\n",
      "1\n",
      "1\n",
      "1\n",
      "0\n",
      "2\n",
      "1\n",
      "0\n",
      "0\n",
      "1\n",
      "0\n",
      "0\n",
      "0\n",
      "1\n",
      "0\n",
      "1\n",
      "0\n",
      "1\n",
      "0\n",
      "1\n",
      "0\n",
      "1\n",
      "1\n",
      "0\n",
      "0\n",
      "1\n",
      "1\n",
      "0\n",
      "1\n",
      "1\n",
      "1\n",
      "3\n",
      "1\n",
      "1\n",
      "1\n",
      "0\n",
      "0\n",
      "0\n",
      "0\n",
      "0\n",
      "1\n",
      "1\n",
      "0\n",
      "1\n",
      "2\n",
      "0\n",
      "0\n",
      "0\n",
      "0\n",
      "1\n",
      "0\n",
      "0\n",
      "0\n",
      "1\n",
      "2\n",
      "1\n",
      "0\n",
      "1\n",
      "1\n",
      "1\n",
      "1\n",
      "0\n",
      "0\n",
      "1\n",
      "0\n",
      "1\n",
      "0\n",
      "0\n",
      "0\n",
      "1\n",
      "2\n",
      "0\n",
      "1\n",
      "1\n",
      "0\n",
      "1\n",
      "1\n",
      "1\n",
      "0\n",
      "1\n",
      "1\n",
      "1\n",
      "0\n",
      "0\n",
      "0\n",
      "1\n",
      "0\n",
      "0\n",
      "0\n",
      "0\n",
      "0\n",
      "1\n",
      "1\n",
      "1\n",
      "2\n",
      "1\n",
      "0\n",
      "0\n",
      "0\n",
      "0\n",
      "1\n",
      "2\n",
      "2\n",
      "2\n",
      "1\n",
      "0\n",
      "0\n",
      "2\n",
      "0\n",
      "1\n",
      "2\n",
      "1\n",
      "0\n",
      "2\n",
      "1\n",
      "0\n",
      "1\n",
      "1\n",
      "0\n",
      "0\n",
      "0\n",
      "0\n",
      "2\n",
      "1\n",
      "0\n"
     ]
    }
   ],
   "source": [
    "for i in LEC_baron['blue_object_count']:\n",
    "    print(i)"
   ]
  },
  {
   "cell_type": "code",
   "execution_count": null,
   "id": "d0755d84",
   "metadata": {},
   "outputs": [],
   "source": []
  }
 ],
 "metadata": {
  "kernelspec": {
   "display_name": "Python 3",
   "language": "python",
   "name": "python3"
  },
  "language_info": {
   "codemirror_mode": {
    "name": "ipython",
    "version": 3
   },
   "file_extension": ".py",
   "mimetype": "text/x-python",
   "name": "python",
   "nbconvert_exporter": "python",
   "pygments_lexer": "ipython3",
   "version": "3.8.8"
  }
 },
 "nbformat": 4,
 "nbformat_minor": 5
}
