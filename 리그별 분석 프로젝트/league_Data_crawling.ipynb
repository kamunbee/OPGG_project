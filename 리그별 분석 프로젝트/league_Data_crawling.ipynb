{
 "cells": [
  {
   "cell_type": "code",
   "execution_count": 1,
   "id": "ddc366c8",
   "metadata": {},
   "outputs": [],
   "source": [
    "import requests\n",
    "import time\n",
    "import pandas as pd\n",
    "from bs4 import BeautifulSoup\n",
    "from selenium import webdriver"
   ]
  },
  {
   "cell_type": "code",
   "execution_count": 2,
   "id": "fde4b852",
   "metadata": {},
   "outputs": [],
   "source": [
    "# selenium을 백그라운드로 실행하기 위해 옵션 설정\n",
    "options = webdriver.ChromeOptions()\n",
    "options.add_argument('headless')\n",
    "options.add_argument('window-size=1920x1080')"
   ]
  },
  {
   "cell_type": "code",
   "execution_count": 3,
   "id": "604bdee3",
   "metadata": {},
   "outputs": [],
   "source": [
    "# 우리가 데이터를 가져올 웹 페이지입니다.\n",
    "qwergg_url = 'https://qwer.gg/stats/top'\n",
    "\n",
    "# selenium이 제어할 chrome을 실행합니다.\n",
    "driver = webdriver.Chrome(\"C:/Users/LUNA/Desktop/OPGG/chromedriver_win32/chromedriver\")\n",
    "# driver = webdriver.Chrome(\"C:/Users/LUNA/Desktop/OPGG/chromedriver_win32/chromedriver\", options= options)"
   ]
  },
  {
   "cell_type": "code",
   "execution_count": 4,
   "id": "2b382a30",
   "metadata": {},
   "outputs": [],
   "source": [
    "# 데이터를 가져올 페이지로 이동합니다.\n",
    "driver.get(qwergg_url)"
   ]
  },
  {
   "cell_type": "code",
   "execution_count": 5,
   "id": "9dda1b54",
   "metadata": {},
   "outputs": [],
   "source": [
    "# 채팅뜨는거 내려주기\n",
    "time.sleep(1)\n",
    "driver.find_element_by_css_selector('#root > div.Chat.Chat--opened > div.Chat__window > div.Chat__header > svg').click()"
   ]
  },
  {
   "cell_type": "code",
   "execution_count": null,
   "id": "b6e3f1ba",
   "metadata": {},
   "outputs": [],
   "source": [
    "# 결과가 들어갈 리스트\n",
    "name = []\n",
    "pro_name = []\n",
    "champions = []\n",
    "game = []\n",
    "win_rate = []\n",
    "kill = []\n",
    "death = []\n",
    "assist = []\n",
    "kda = []\n",
    "win = []\n",
    "lose = []\n",
    "dpm = []\n",
    "lane = []"
   ]
  },
  {
   "cell_type": "code",
   "execution_count": 7,
   "id": "01699ee9",
   "metadata": {},
   "outputs": [],
   "source": [
    "    \n",
    "def full_statappend(leagueNum, SUMMER): # 리그 넘버는 2부터 시작임\n",
    "    ## 리그 필터 선택하기\n",
    "    a = driver.find_element_by_css_selector('#root > div:nth-child(4) > div > div.LeagueFilter.dark')\n",
    "    a.click()\n",
    "    time.sleep(1)\n",
    "    \n",
    "    ## 4대리그 선택하기\n",
    "    a2 = driver.find_element_by_css_selector(f'#root > div:nth-child(4) > div > div.LeagueFilter.dark > div.LeagueFilter__primary.Gilroy.LeagueFilter__primary--extended > div.LeagueFilter__primary__list > div:nth-child({leagueNum})')\n",
    "    a2.click()\n",
    "    time.sleep(1)\n",
    "\n",
    "# summer 기록 체크를 위한 필터 클릭\n",
    "    a3 = driver.find_element_by_css_selector('#root > div:nth-child(4) > div > div.LeagueFilter.dark > div:nth-child(2) > div.LeagueFilter__primary__value')\n",
    "    a3.click()\n",
    "    time.sleep(1)\n",
    "\n",
    "# SUMMER Season 클릭 \n",
    "    a4 = driver.find_element_by_css_selector(f'#root > div:nth-child(4) > div > div.LeagueFilter.dark > div.LeagueFilter__primary.Gilroy.LeagueFilter__primary--extended > div.LeagueFilter__primary__list > div:nth-child({SUMMER})')\n",
    "    a4.click()\n",
    "    time.sleep(1)\n",
    "\n",
    "    for linenum in range(1, 6):\n",
    "        line= driver.find_element_by_css_selector(f'#root > div:nth-child(4) > div > div.ProStatsCC > div.ProStats__positions > div:nth-child({linenum})')\n",
    "        line.click()\n",
    "        time.sleep(2)\n",
    "            \n",
    "    ## 라인 선수 수에 맞춰서 설정\n",
    "        player_len = driver.find_elements_by_css_selector('#root > div:nth-child(4) > div > div.ProStatsCC > div.ProStats__container > div.ProStats__ranks > a')    \n",
    "        time.sleep(2)\n",
    "    ## 정한 라인의 선수들의 상세스탯을 확인하기 위해 클릭 \n",
    "        for num in range(1, len(player_len)+1):\n",
    "            player = driver.find_element_by_css_selector(f'#root > div:nth-child(4) > div > div.ProStatsCC > div.ProStats__container > div.ProStats__ranks > a:nth-child({num})')\n",
    "            player.click()\n",
    "            time.sleep(3)\n",
    "\n",
    "            stat = driver.find_elements_by_css_selector('#root > div.Player > div:nth-child(2) > div > section > table > tbody')\n",
    "            time.sleep(2)\n",
    "\n",
    "    ## 선수들의 챔피언 관련 스탯 리스트에 담기\n",
    "            for i in stat:\n",
    "                for n in i.find_elements_by_css_selector('tr'):\n",
    "                    name.append(driver.find_element_by_css_selector('#root > div.Player > div.FluidContainer.container-fluid.Player__profile__container > div > h1').text.strip())\n",
    "                    pro_name.append(driver.find_element_by_css_selector('#root > div.Player > div.FluidContainer.container-fluid.Player__profile__container > div > h3').text.strip())\n",
    "                    champions.append(n.find_element_by_css_selector('td:nth-child(1)').text.strip())\n",
    "                    game.append(n.find_element_by_css_selector('td:nth-child(2)').text.strip())\n",
    "                    win_rate.append(n.find_element_by_css_selector('td:nth-child(3)').text.strip())\n",
    "                    kill.append(n.find_element_by_css_selector('td:nth-child(4)').text.strip())\n",
    "                    death.append(n.find_element_by_css_selector('td:nth-child(5)').text.strip())\n",
    "                    assist.append(n.find_element_by_css_selector('td:nth-child(6)').text.strip())\n",
    "                    kda.append(n.find_element_by_css_selector('td:nth-child(7)').text.strip())\n",
    "                    win.append(n.find_element_by_css_selector('td:nth-child(8)').text.strip())\n",
    "                    lose.append(n.find_element_by_css_selector('td:nth-child(9)').text.strip())\n",
    "                    dpm.append(n.find_element_by_css_selector('td:nth-child(10)').text.strip())\n",
    "                    time.sleep(1)\n",
    "                    \n",
    "                    if linenum == 1:\n",
    "                        lane.append('TOP')\n",
    "                    elif linenum == 2:\n",
    "                        lane.append('JG')\n",
    "                    elif linenum == 3:\n",
    "                        lane.append('MID')\n",
    "                    elif linenum == 4:\n",
    "                        lane.append('AD')\n",
    "                    elif linenum == 5:\n",
    "                        lane.append('SUP')\n",
    "\n",
    "            time.sleep(2)\n",
    "            # 한 선수가 끝나면 다음 선수를 확인하기위해 뒤로가기\n",
    "            driver.back()"
   ]
  },
  {
   "cell_type": "markdown",
   "id": "47711fe6",
   "metadata": {},
   "source": [
    "# LCK"
   ]
  },
  {
   "cell_type": "code",
   "execution_count": 8,
   "id": "fed7b679",
   "metadata": {},
   "outputs": [
    {
     "ename": "KeyboardInterrupt",
     "evalue": "",
     "output_type": "error",
     "traceback": [
      "\u001b[1;31m---------------------------------------------------------------------------\u001b[0m",
      "\u001b[1;31mKeyboardInterrupt\u001b[0m                         Traceback (most recent call last)",
      "\u001b[1;32m<ipython-input-8-549258b5d46b>\u001b[0m in \u001b[0;36m<module>\u001b[1;34m\u001b[0m\n\u001b[1;32m----> 1\u001b[1;33m \u001b[0mfull_statappend\u001b[0m\u001b[1;33m(\u001b[0m\u001b[1;36m2\u001b[0m\u001b[1;33m,\u001b[0m\u001b[1;36m3\u001b[0m\u001b[1;33m)\u001b[0m \u001b[1;31m#\u001b[0m\u001b[1;33m\u001b[0m\u001b[1;33m\u001b[0m\u001b[0m\n\u001b[0m",
      "\u001b[1;32m<ipython-input-7-d6cb8917b223>\u001b[0m in \u001b[0;36mfull_statappend\u001b[1;34m(leagueNum, SUMMER)\u001b[0m\n\u001b[0;32m     13\u001b[0m     \u001b[0ma3\u001b[0m \u001b[1;33m=\u001b[0m \u001b[0mdriver\u001b[0m\u001b[1;33m.\u001b[0m\u001b[0mfind_element_by_css_selector\u001b[0m\u001b[1;33m(\u001b[0m\u001b[1;34m'#root > div:nth-child(4) > div > div.LeagueFilter.dark > div:nth-child(2) > div.LeagueFilter__primary__value'\u001b[0m\u001b[1;33m)\u001b[0m\u001b[1;33m\u001b[0m\u001b[1;33m\u001b[0m\u001b[0m\n\u001b[0;32m     14\u001b[0m     \u001b[0ma3\u001b[0m\u001b[1;33m.\u001b[0m\u001b[0mclick\u001b[0m\u001b[1;33m(\u001b[0m\u001b[1;33m)\u001b[0m\u001b[1;33m\u001b[0m\u001b[1;33m\u001b[0m\u001b[0m\n\u001b[1;32m---> 15\u001b[1;33m     \u001b[0mtime\u001b[0m\u001b[1;33m.\u001b[0m\u001b[0msleep\u001b[0m\u001b[1;33m(\u001b[0m\u001b[1;36m1\u001b[0m\u001b[1;33m)\u001b[0m\u001b[1;33m\u001b[0m\u001b[1;33m\u001b[0m\u001b[0m\n\u001b[0m\u001b[0;32m     16\u001b[0m \u001b[1;33m\u001b[0m\u001b[0m\n\u001b[0;32m     17\u001b[0m \u001b[1;31m# SUMMER Season 클릭\u001b[0m\u001b[1;33m\u001b[0m\u001b[1;33m\u001b[0m\u001b[1;33m\u001b[0m\u001b[0m\n",
      "\u001b[1;31mKeyboardInterrupt\u001b[0m: "
     ]
    }
   ],
   "source": [
    "full_statappend(2,3) #"
   ]
  },
  {
   "cell_type": "code",
   "execution_count": null,
   "id": "8a790f6d",
   "metadata": {},
   "outputs": [],
   "source": [
    "# DataFrame으로 변환 후 출력해봄\n",
    "# 다른 라인 만들어지면 넘어가기\n",
    "total_df = pd.DataFrame([name,\n",
    "                         pro_name,\n",
    "                         lane,\n",
    "                         champions,\n",
    "                         game,\n",
    "                        win_rate,\n",
    "                        kill,\n",
    "                        death,\n",
    "                        assist,\n",
    "                        kda,\n",
    "                        win,\n",
    "                        lose,\n",
    "                        dpm],\n",
    "                               index = ['call_name','player_name','line','champion','game', 'win_rate', 'kill', 'death', 'assist','kda','win','lose','dpm']).T"
   ]
  },
  {
   "cell_type": "code",
   "execution_count": null,
   "id": "63200eb3",
   "metadata": {},
   "outputs": [],
   "source": [
    "total_df.to_csv('projectData/LCK1.csv', encoding='cp949')"
   ]
  },
  {
   "cell_type": "markdown",
   "id": "bceaa4ee",
   "metadata": {},
   "source": [
    "# LEC"
   ]
  },
  {
   "cell_type": "code",
   "execution_count": null,
   "id": "2872025a",
   "metadata": {},
   "outputs": [],
   "source": [
    "# 결과가 들어갈 리스트\n",
    "name = []\n",
    "pro_name = []\n",
    "champions = []\n",
    "game = []\n",
    "win_rate = []\n",
    "kill = []\n",
    "death = []\n",
    "assist = []\n",
    "kda = []\n",
    "win = []\n",
    "lose = []\n",
    "dpm = []\n",
    "lane = []"
   ]
  },
  {
   "cell_type": "code",
   "execution_count": null,
   "id": "ce703c08",
   "metadata": {},
   "outputs": [],
   "source": [
    "full_statappend(4,2) # QWER.GG 기준으로"
   ]
  },
  {
   "cell_type": "code",
   "execution_count": null,
   "id": "4950d505",
   "metadata": {},
   "outputs": [],
   "source": [
    "# DataFrame으로 변환 후 출력해봄\n",
    "# 다른 라인 만들어지면 넘어가기\n",
    "total_df = pd.DataFrame([name,\n",
    "                         pro_name,\n",
    "                         lane,\n",
    "                         champions,\n",
    "                         game,\n",
    "                        win_rate,\n",
    "                        kill,\n",
    "                        death,\n",
    "                        assist,\n",
    "                        kda,\n",
    "                        win,\n",
    "                        lose,\n",
    "                        dpm],\n",
    "                               index = ['call_name','player_name','line','champion','game', 'win_rate', 'kill', 'death', 'assist','kda','win','lose','dpm']).T"
   ]
  },
  {
   "cell_type": "code",
   "execution_count": null,
   "id": "c404786d",
   "metadata": {},
   "outputs": [],
   "source": [
    "total_df.to_csv('projectData/LEC1.csv')"
   ]
  },
  {
   "cell_type": "markdown",
   "id": "107c31f2",
   "metadata": {},
   "source": [
    "# LCS"
   ]
  },
  {
   "cell_type": "code",
   "execution_count": null,
   "id": "ec8990a0",
   "metadata": {},
   "outputs": [],
   "source": [
    "# 결과가 들어갈 리스트\n",
    "name = []\n",
    "pro_name = []\n",
    "champions = []\n",
    "game = []\n",
    "win_rate = []\n",
    "kill = []\n",
    "death = []\n",
    "assist = []\n",
    "kda = []\n",
    "win = []\n",
    "lose = []\n",
    "dpm = []\n",
    "lane = []"
   ]
  },
  {
   "cell_type": "code",
   "execution_count": null,
   "id": "69c90a0c",
   "metadata": {
    "scrolled": true
   },
   "outputs": [],
   "source": [
    "full_statappend(5,2) # QWER.GG 기준으로"
   ]
  },
  {
   "cell_type": "code",
   "execution_count": null,
   "id": "bfd8d2b0",
   "metadata": {},
   "outputs": [],
   "source": [
    "# DataFrame으로 변환 후 출력해봄\n",
    "# 다른 라인 만들어지면 넘어가기\n",
    "total_df = pd.DataFrame([name,\n",
    "                         pro_name,\n",
    "                         lane,\n",
    "                         champions,\n",
    "                         game,\n",
    "                        win_rate,\n",
    "                        kill,\n",
    "                        death,\n",
    "                        assist,\n",
    "                        kda,\n",
    "                        win,\n",
    "                        lose,\n",
    "                        dpm],\n",
    "                               index = ['call_name','player_name','line','champion','game', 'win_rate', 'kill', 'death', 'assist','kda','win','lose','dpm']).T"
   ]
  },
  {
   "cell_type": "code",
   "execution_count": null,
   "id": "2be44fdd",
   "metadata": {},
   "outputs": [],
   "source": [
    "total_df"
   ]
  },
  {
   "cell_type": "code",
   "execution_count": null,
   "id": "c19e78ba",
   "metadata": {},
   "outputs": [],
   "source": [
    "total_df.to_csv('projectData/LCS1.csv')"
   ]
  },
  {
   "cell_type": "code",
   "execution_count": null,
   "id": "c0193187",
   "metadata": {},
   "outputs": [],
   "source": [
    "driver.quit()"
   ]
  },
  {
   "cell_type": "markdown",
   "id": "4b687d58",
   "metadata": {},
   "source": [
    "# LJL"
   ]
  },
  {
   "cell_type": "code",
   "execution_count": null,
   "id": "8571f00c",
   "metadata": {},
   "outputs": [],
   "source": [
    "# 결과가 들어갈 리스트\n",
    "name = []\n",
    "pro_name = []\n",
    "champions = []\n",
    "game = []\n",
    "win_rate = []\n",
    "kill = []\n",
    "death = []\n",
    "assist = []\n",
    "kda = []\n",
    "win = []\n",
    "lose = []\n",
    "dpm = []\n",
    "lane = []"
   ]
  },
  {
   "cell_type": "code",
   "execution_count": null,
   "id": "72a7d5c4",
   "metadata": {},
   "outputs": [],
   "source": [
    "full_statappend(6,2) # QWER.GG 기준으로"
   ]
  },
  {
   "cell_type": "code",
   "execution_count": null,
   "id": "2f85174a",
   "metadata": {},
   "outputs": [],
   "source": [
    "# DataFrame으로 변환 후 출력해봄\n",
    "# 다른 라인 만들어지면 넘어가기\n",
    "total_df = pd.DataFrame([name,\n",
    "                         pro_name,\n",
    "                         lane,\n",
    "                         champions,\n",
    "                         game,\n",
    "                        win_rate,\n",
    "                        kill,\n",
    "                        death,\n",
    "                        assist,\n",
    "                        kda,\n",
    "                        win,\n",
    "                        lose,\n",
    "                        dpm],\n",
    "                               index = ['call_name','player_name','line','champion','game', 'win_rate', 'kill', 'death', 'assist','kda','win','lose','dpm']).T"
   ]
  },
  {
   "cell_type": "code",
   "execution_count": null,
   "id": "3dd55ab0",
   "metadata": {},
   "outputs": [],
   "source": [
    "total_df.to_csv('projectData/LJL1.csv')"
   ]
  },
  {
   "cell_type": "markdown",
   "id": "88b0770f",
   "metadata": {},
   "source": [
    "# CBLOL"
   ]
  },
  {
   "cell_type": "code",
   "execution_count": null,
   "id": "a80a09df",
   "metadata": {},
   "outputs": [],
   "source": [
    "# 결과가 들어갈 리스트\n",
    "name = []\n",
    "pro_name = []\n",
    "champions = []\n",
    "game = []\n",
    "win_rate = []\n",
    "kill = []\n",
    "death = []\n",
    "assist = []\n",
    "kda = []\n",
    "win = []\n",
    "lose = []\n",
    "dpm = []\n",
    "lane = []\n",
    "\n",
    "full_statappend(8,2) # QWER.GG 기준으로\n",
    "\n",
    "# DataFrame으로 변환 후 출력해봄\n",
    "# 다른 라인 만들어지면 넘어가기\n",
    "total_df = pd.DataFrame([name,\n",
    "                         pro_name,\n",
    "                         lane,\n",
    "                         champions,\n",
    "                         game,\n",
    "                        win_rate,\n",
    "                        kill,\n",
    "                        death,\n",
    "                        assist,\n",
    "                        kda,\n",
    "                        win,\n",
    "                        lose,\n",
    "                        dpm],\n",
    "                               index = ['call_name','player_name','line','champion','game', 'win_rate', 'kill', 'death', 'assist','kda','win','lose','dpm']).T\n",
    "\n",
    "total_df.to_csv('projectData/CBLOL1.csv')"
   ]
  },
  {
   "cell_type": "markdown",
   "id": "aad2a413",
   "metadata": {},
   "source": [
    "# LCL"
   ]
  },
  {
   "cell_type": "code",
   "execution_count": null,
   "id": "9d7d81eb",
   "metadata": {},
   "outputs": [],
   "source": [
    "# 결과가 들어갈 리스트\n",
    "name = []\n",
    "pro_name = []\n",
    "champions = []\n",
    "game = []\n",
    "win_rate = []\n",
    "kill = []\n",
    "death = []\n",
    "assist = []\n",
    "kda = []\n",
    "win = []\n",
    "lose = []\n",
    "dpm = []\n",
    "lane = []\n",
    "\n",
    "full_statappend(9,2) # QWER.GG 기준으로\n",
    "\n",
    "# DataFrame으로 변환 후 출력해봄\n",
    "# 다른 라인 만들어지면 넘어가기\n",
    "total_df = pd.DataFrame([name,\n",
    "                         pro_name,\n",
    "                         lane,\n",
    "                         champions,\n",
    "                         game,\n",
    "                        win_rate,\n",
    "                        kill,\n",
    "                        death,\n",
    "                        assist,\n",
    "                        kda,\n",
    "                        win,\n",
    "                        lose,\n",
    "                        dpm],\n",
    "                               index = ['call_name','player_name','line','champion','game', 'win_rate', 'kill', 'death', 'assist','kda','win','lose','dpm']).T\n",
    "\n",
    "total_df.to_csv('projectData/LCL1.csv')"
   ]
  },
  {
   "cell_type": "markdown",
   "id": "51c2f9e5",
   "metadata": {},
   "source": [
    "# LLA"
   ]
  },
  {
   "cell_type": "code",
   "execution_count": null,
   "id": "ae2cd450",
   "metadata": {},
   "outputs": [],
   "source": [
    "# 결과가 들어갈 리스트\n",
    "name = []\n",
    "pro_name = []\n",
    "champions = []\n",
    "game = []\n",
    "win_rate = []\n",
    "kill = []\n",
    "death = []\n",
    "assist = []\n",
    "kda = []\n",
    "win = []\n",
    "lose = []\n",
    "dpm = []\n",
    "lane = []\n",
    "\n",
    "full_statappend(10,2) # QWER.GG 기준으로\n",
    "\n",
    "# DataFrame으로 변환 후 출력해봄\n",
    "# 다른 라인 만들어지면 넘어가기\n",
    "total_df = pd.DataFrame([name,\n",
    "                         pro_name,\n",
    "                         lane,\n",
    "                         champions,\n",
    "                         game,\n",
    "                        win_rate,\n",
    "                        kill,\n",
    "                        death,\n",
    "                        assist,\n",
    "                        kda,\n",
    "                        win,\n",
    "                        lose,\n",
    "                        dpm],\n",
    "                               index = ['call_name','player_name','line','champion','game', 'win_rate', 'kill', 'death', 'assist','kda','win','lose','dpm']).T\n",
    "\n",
    "total_df.to_csv('projectData/LLA1.csv')"
   ]
  },
  {
   "cell_type": "markdown",
   "id": "958f3dfa",
   "metadata": {},
   "source": [
    "# TCL"
   ]
  },
  {
   "cell_type": "code",
   "execution_count": 9,
   "id": "c1fc0fe2",
   "metadata": {},
   "outputs": [],
   "source": [
    "# 결과가 들어갈 리스트\n",
    "name = []\n",
    "pro_name = []\n",
    "champions = []\n",
    "game = []\n",
    "win_rate = []\n",
    "kill = []\n",
    "death = []\n",
    "assist = []\n",
    "kda = []\n",
    "win = []\n",
    "lose = []\n",
    "dpm = []\n",
    "lane = []\n",
    "\n",
    "full_statappend(11,2) # QWER.GG 기준으로\n",
    "\n",
    "# DataFrame으로 변환 후 출력해봄\n",
    "# 다른 라인 만들어지면 넘어가기\n",
    "total_df = pd.DataFrame([name,\n",
    "                         pro_name,\n",
    "                         lane,\n",
    "                         champions,\n",
    "                         game,\n",
    "                        win_rate,\n",
    "                        kill,\n",
    "                        death,\n",
    "                        assist,\n",
    "                        kda,\n",
    "                        win,\n",
    "                        lose,\n",
    "                        dpm],\n",
    "                               index = ['call_name','player_name','line','champion','game', 'win_rate', 'kill', 'death', 'assist','kda','win','lose','dpm']).T\n",
    "\n",
    "total_df.to_csv('projectData/TCL1.csv')"
   ]
  },
  {
   "cell_type": "markdown",
   "id": "98aacac4",
   "metadata": {},
   "source": [
    "# PCS"
   ]
  },
  {
   "cell_type": "code",
   "execution_count": 10,
   "id": "15adc021",
   "metadata": {},
   "outputs": [],
   "source": [
    "# 결과가 들어갈 리스트\n",
    "name = []\n",
    "pro_name = []\n",
    "champions = []\n",
    "game = []\n",
    "win_rate = []\n",
    "kill = []\n",
    "death = []\n",
    "assist = []\n",
    "kda = []\n",
    "win = []\n",
    "lose = []\n",
    "dpm = []\n",
    "lane = []\n",
    "\n",
    "full_statappend(12,2) # QWER.GG 기준으로\n",
    "\n",
    "# DataFrame으로 변환 후 출력해봄\n",
    "# 다른 라인 만들어지면 넘어가기\n",
    "total_df = pd.DataFrame([name,\n",
    "                         pro_name,\n",
    "                         lane,\n",
    "                         champions,\n",
    "                         game,\n",
    "                        win_rate,\n",
    "                        kill,\n",
    "                        death,\n",
    "                        assist,\n",
    "                        kda,\n",
    "                        win,\n",
    "                        lose,\n",
    "                        dpm],\n",
    "                               index = ['call_name','player_name','line','champion','game', 'win_rate', 'kill', 'death', 'assist','kda','win','lose','dpm']).T\n",
    "\n",
    "total_df.to_csv('projectData/PCS1.csv')"
   ]
  },
  {
   "cell_type": "markdown",
   "id": "fe3d6d06",
   "metadata": {},
   "source": [
    "# LCO"
   ]
  },
  {
   "cell_type": "code",
   "execution_count": 11,
   "id": "81bce885",
   "metadata": {},
   "outputs": [],
   "source": [
    "# 결과가 들어갈 리스트\n",
    "name = []\n",
    "pro_name = []\n",
    "champions = []\n",
    "game = []\n",
    "win_rate = []\n",
    "kill = []\n",
    "death = []\n",
    "assist = []\n",
    "kda = []\n",
    "win = []\n",
    "lose = []\n",
    "dpm = []\n",
    "lane = []\n",
    "\n",
    "full_statappend(13,2) # QWER.GG 기준으로\n",
    "\n",
    "# DataFrame으로 변환 후 출력해봄\n",
    "# 다른 라인 만들어지면 넘어가기\n",
    "total_df = pd.DataFrame([name,\n",
    "                         pro_name,\n",
    "                         lane,\n",
    "                         champions,\n",
    "                         game,\n",
    "                        win_rate,\n",
    "                        kill,\n",
    "                        death,\n",
    "                        assist,\n",
    "                        kda,\n",
    "                        win,\n",
    "                        lose,\n",
    "                        dpm],\n",
    "                               index = ['call_name','player_name','line','champion','game', 'win_rate', 'kill', 'death', 'assist','kda','win','lose','dpm']).T\n",
    "\n",
    "total_df.to_csv('projectData/LCO1.csv')"
   ]
  },
  {
   "cell_type": "markdown",
   "id": "06b79bec",
   "metadata": {},
   "source": [
    "# 플레이오프 진출팀 수동 데이터 수집"
   ]
  },
  {
   "cell_type": "code",
   "execution_count": null,
   "id": "f21106ae",
   "metadata": {},
   "outputs": [],
   "source": [
    "stat = driver.find_elements_by_css_selector('#root > div.Player > div:nth-child(2) > div > section > table > tbody')\n",
    "for i in stat:\n",
    "    for n in i.find_elements_by_css_selector('tr'):\n",
    "        name.append(driver.find_element_by_css_selector('#root > div.Player > div.FluidContainer.container-fluid.Player__profile__container > div > h1').text.strip())\n",
    "        pro_name.append(driver.find_element_by_css_selector('#root > div.Player > div.FluidContainer.container-fluid.Player__profile__container > div > h3').text.strip())\n",
    "        champions.append(n.find_element_by_css_selector('td:nth-child(1)').text.strip())\n",
    "        game.append(n.find_element_by_css_selector('td:nth-child(2)').text.strip())\n",
    "        win_rate.append(n.find_element_by_css_selector('td:nth-child(3)').text.strip())\n",
    "        kill.append(n.find_element_by_css_selector('td:nth-child(4)').text.strip())\n",
    "        death.append(n.find_element_by_css_selector('td:nth-child(5)').text.strip())\n",
    "        assist.append(n.find_element_by_css_selector('td:nth-child(6)').text.strip())\n",
    "        kda.append(n.find_element_by_css_selector('td:nth-child(7)').text.strip())\n",
    "        win.append(n.find_element_by_css_selector('td:nth-child(8)').text.strip())\n",
    "        lose.append(n.find_element_by_css_selector('td:nth-child(9)').text.strip())\n",
    "        dpm.append(n.find_element_by_css_selector('td:nth-child(10)').text.strip())\n",
    "        lane.append('SUP')\n",
    "        \n",
    "        time.sleep(1)"
   ]
  },
  {
   "cell_type": "code",
   "execution_count": null,
   "id": "c05292a7",
   "metadata": {},
   "outputs": [],
   "source": [
    "lane"
   ]
  },
  {
   "cell_type": "code",
   "execution_count": null,
   "id": "5ed7ad1d",
   "metadata": {},
   "outputs": [],
   "source": [
    "# DataFrame으로 변환 후 출력해봄\n",
    "# 다른 라인 만들어지면 넘어가기\n",
    "total_df = pd.DataFrame([name,\n",
    "                         pro_name,\n",
    "                         lane,\n",
    "                         champions,\n",
    "                         game,\n",
    "                        win_rate,\n",
    "                        kill,\n",
    "                        death,\n",
    "                        assist,\n",
    "                        kda,\n",
    "                        win,\n",
    "                        lose,\n",
    "                        dpm],\n",
    "                               index = ['call_name','player_name','line','champion','game', 'win_rate', 'kill', 'death', 'assist','kda','win','lose','dpm']).T"
   ]
  },
  {
   "cell_type": "code",
   "execution_count": null,
   "id": "e7af4f09",
   "metadata": {},
   "outputs": [],
   "source": [
    "total_df.to_csv('projectData/LCK_PO.csv')"
   ]
  },
  {
   "cell_type": "markdown",
   "id": "a870eef7",
   "metadata": {},
   "source": [
    "# 오류난 LCS 원딜 서폿 수동추가"
   ]
  },
  {
   "cell_type": "code",
   "execution_count": null,
   "id": "f85f385e",
   "metadata": {},
   "outputs": [],
   "source": [
    "lane"
   ]
  },
  {
   "cell_type": "code",
   "execution_count": null,
   "id": "28cdf46a",
   "metadata": {},
   "outputs": [],
   "source": [
    "## 라인 선수 수에 맞춰서 설정\n",
    "player_len = driver.find_elements_by_css_selector('#root > div:nth-child(4) > div > div.ProStatsCC > div.ProStats__container > div.ProStats__ranks > a')    \n",
    "time.sleep(2)\n",
    "## 정한 라인의 선수들의 상세스탯을 확인하기 위해 클릭 \n",
    "for num in range(1, len(player_len)+1):\n",
    "    player = driver.find_element_by_css_selector(f'#root > div:nth-child(4) > div > div.ProStatsCC > div.ProStats__container > div.ProStats__ranks > a:nth-child({num})')\n",
    "    player.click()\n",
    "    time.sleep(3)\n",
    "\n",
    "    stat = driver.find_elements_by_css_selector('#root > div.Player > div:nth-child(2) > div > section > table > tbody')\n",
    "    time.sleep(2)\n",
    "\n",
    "## 선수들의 챔피언 관련 스탯 리스트에 담기\n",
    "    for i in stat:\n",
    "        for n in i.find_elements_by_css_selector('tr'):\n",
    "            name.append(driver.find_element_by_css_selector('#root > div.Player > div.FluidContainer.container-fluid.Player__profile__container > div > h1').text.strip())\n",
    "            pro_name.append(driver.find_element_by_css_selector('#root > div.Player > div.FluidContainer.container-fluid.Player__profile__container > div > h3').text.strip())\n",
    "            champions.append(n.find_element_by_css_selector('td:nth-child(1)').text.strip())\n",
    "            game.append(n.find_element_by_css_selector('td:nth-child(2)').text.strip())\n",
    "            win_rate.append(n.find_element_by_css_selector('td:nth-child(3)').text.strip())\n",
    "            kill.append(n.find_element_by_css_selector('td:nth-child(4)').text.strip())\n",
    "            death.append(n.find_element_by_css_selector('td:nth-child(5)').text.strip())\n",
    "            assist.append(n.find_element_by_css_selector('td:nth-child(6)').text.strip())\n",
    "            kda.append(n.find_element_by_css_selector('td:nth-child(7)').text.strip())\n",
    "            win.append(n.find_element_by_css_selector('td:nth-child(8)').text.strip())\n",
    "            lose.append(n.find_element_by_css_selector('td:nth-child(9)').text.strip())\n",
    "            dpm.append(n.find_element_by_css_selector('td:nth-child(10)').text.strip())\n",
    "            time.sleep(1)\n",
    "            \n",
    "            \n",
    "            # 한 선수가 끝나면 다음 선수를 확인하기위해 뒤로가기\n",
    "            driver.back()\n"
   ]
  },
  {
   "cell_type": "code",
   "execution_count": null,
   "id": "9aa6f08b",
   "metadata": {},
   "outputs": [],
   "source": []
  }
 ],
 "metadata": {
  "kernelspec": {
   "display_name": "Python 3",
   "language": "python",
   "name": "python3"
  },
  "language_info": {
   "codemirror_mode": {
    "name": "ipython",
    "version": 3
   },
   "file_extension": ".py",
   "mimetype": "text/x-python",
   "name": "python",
   "nbconvert_exporter": "python",
   "pygments_lexer": "ipython3",
   "version": "3.8.8"
  }
 },
 "nbformat": 4,
 "nbformat_minor": 5
}
