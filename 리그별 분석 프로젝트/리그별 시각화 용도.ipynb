{
 "cells": [
  {
   "cell_type": "code",
   "execution_count": 1,
   "id": "c2f2a406",
   "metadata": {},
   "outputs": [],
   "source": [
    "import requests\n",
    "import time\n",
    "import pandas as pd\n",
    "from bs4 import BeautifulSoup\n",
    "from selenium import webdriver\n",
    "\n",
    "import pandas as pd\n",
    "import numpy as np\n",
    "import matplotlib.pyplot as plt\n",
    "import seaborn as sns"
   ]
  },
  {
   "cell_type": "code",
   "execution_count": 2,
   "id": "7e397609",
   "metadata": {},
   "outputs": [],
   "source": [
    "LEC = pd.read_csv('projectData/LEC_RESULT.csv', index_col=0, encoding='CP949')\n",
    "LEC['version'] = LEC['version'].str.replace('버전','')\n",
    "LEC['version'] = LEC['version'].str.replace(' ','')\n",
    "LEC['version'] = LEC['version'].str.replace('<!----><!---->','')\n",
    "ind = LEC[LEC['version'] == '11.5'].index\n",
    "LEC = LEC.drop(index=ind)"
   ]
  },
  {
   "cell_type": "code",
   "execution_count": 3,
   "id": "f98fea9d",
   "metadata": {},
   "outputs": [],
   "source": [
    "LCS = pd.read_csv('projectData/LCS3_RESULT.csv', index_col=0, encoding='CP949')\n",
    "LCS['version'] = LCS['version'].str.replace('버전','')\n",
    "LCS['version'] = LCS['version'].str.replace(' ','')\n",
    "LCS['version'] = LCS['version'].str.replace('<!----><!---->','')\n",
    "ind = LCS[LCS['version'] == '11.5'].index\n",
    "LCS = LCS.drop(index=ind)"
   ]
  },
  {
   "cell_type": "code",
   "execution_count": 4,
   "id": "d74e9625",
   "metadata": {
    "scrolled": true
   },
   "outputs": [
    {
     "name": "stdout",
     "output_type": "stream",
     "text": [
      "<class 'pandas.core.frame.DataFrame'>\n",
      "Int64Index: 1215 entries, 0 to 1214\n",
      "Data columns (total 29 columns):\n",
      " #   Column             Non-Null Count  Dtype \n",
      "---  ------             --------------  ----- \n",
      " 0   game_date          1215 non-null   object\n",
      " 1   version            1215 non-null   object\n",
      " 2   team1_name         1215 non-null   object\n",
      " 3   team1_score        1215 non-null   int64 \n",
      " 4   team2_score        1215 non-null   int64 \n",
      " 5   team2_name         1215 non-null   object\n",
      " 6   gametime           1215 non-null   object\n",
      " 7   blue_team          1215 non-null   object\n",
      " 8   blue_score         1215 non-null   int64 \n",
      " 9   blue_ban           1215 non-null   object\n",
      " 10  blue_object        1215 non-null   object\n",
      " 11  blue_object_count  1215 non-null   int64 \n",
      " 12  blue_call_name     1215 non-null   object\n",
      " 13  blue_line          1215 non-null   object\n",
      " 14  blue_champion      1215 non-null   object\n",
      " 15  blue_kill          1215 non-null   int64 \n",
      " 16  blue_death         1215 non-null   object\n",
      " 17  blue_assist        1215 non-null   object\n",
      " 18  red_team           1215 non-null   object\n",
      " 19  red_score          1215 non-null   int64 \n",
      " 20  red_ban            1215 non-null   object\n",
      " 21  red_object         1215 non-null   object\n",
      " 22  red_object_count   1215 non-null   int64 \n",
      " 23  red_call_name      1215 non-null   object\n",
      " 24  red_line           1215 non-null   object\n",
      " 25  red_champion       1215 non-null   object\n",
      " 26  red_kill           1215 non-null   int64 \n",
      " 27  red_death          1215 non-null   object\n",
      " 28  red_assist         1215 non-null   object\n",
      "dtypes: int64(8), object(21)\n",
      "memory usage: 284.8+ KB\n"
     ]
    }
   ],
   "source": [
    "LCK = pd.read_csv('projectData/LCK_RESULT.csv', index_col=0)\n",
    "LCK['version'] = LCK['version'].str.replace('버전','')\n",
    "LCK['version'] = LCK['version'].str.replace(' ','')"
   ]
  },
  {
   "cell_type": "code",
   "execution_count": 5,
   "id": "163dc485",
   "metadata": {},
   "outputs": [],
   "source": [
    "LEC_object = LEC[['blue_object','blue_object_count','red_object','red_object_count']]\n",
    "LCK_object = LCK[['blue_object','blue_object_count','red_object','red_object_count']]\n",
    "LCS_object = LCS[['blue_object','blue_object_count','red_object','red_object_count']]"
   ]
  },
  {
   "cell_type": "code",
   "execution_count": 6,
   "id": "bae9f4c7",
   "metadata": {},
   "outputs": [],
   "source": [
    "LEC_object_turret = LEC_object[LEC_object['blue_object'] == 'turret@blue']\n",
    "LCS_object_turret = LCS_object[LCS_object['blue_object'] == 'turret@blue']\n",
    "LCK_object_turret = LCK_object[LCK_object['blue_object'] == 'turret@blue']"
   ]
  },
  {
   "cell_type": "code",
   "execution_count": 10,
   "id": "f29b7600",
   "metadata": {},
   "outputs": [],
   "source": [
    "LCK_turret = LCK_object_turret.drop(columns=['blue_object','red_object'])\n",
    "LEC_turret = LEC_object_turret.drop(columns=['blue_object','red_object'])\n",
    "LCS_turret = LCS_object_turret.drop(columns=['blue_object','red_object'])"
   ]
  },
  {
   "cell_type": "code",
   "execution_count": 20,
   "id": "34cb11a8",
   "metadata": {},
   "outputs": [],
   "source": [
    "a = LCK_turret.sum()/256\n",
    "b = LEC_turret.sum()/124\n",
    "c = LCS_turret.sum()/182"
   ]
  },
  {
   "cell_type": "code",
   "execution_count": null,
   "id": "ca31da03",
   "metadata": {},
   "outputs": [],
   "source": [
    "# 색상 변경( 기본 설정 )\n",
    "sns.set_palette('BrBG')"
   ]
  },
  {
   "cell_type": "code",
   "execution_count": 61,
   "id": "1c4854bd",
   "metadata": {},
   "outputs": [],
   "source": [
    "aa = []"
   ]
  },
  {
   "cell_type": "code",
   "execution_count": 64,
   "id": "627b73e5",
   "metadata": {},
   "outputs": [
    {
     "name": "stdout",
     "output_type": "stream",
     "text": [
      "6.065934065934066\n",
      "6.082417582417582\n"
     ]
    }
   ],
   "source": [
    "for i in (c):\n",
    "    print(i)\n",
    "    aa.append(i)"
   ]
  },
  {
   "cell_type": "code",
   "execution_count": 65,
   "id": "eb417d68",
   "metadata": {},
   "outputs": [
    {
     "data": {
      "text/plain": [
       "[5.875,\n",
       " 5.4609375,\n",
       " 6.669354838709677,\n",
       " 6.975806451612903,\n",
       " 6.065934065934066,\n",
       " 6.082417582417582]"
      ]
     },
     "execution_count": 65,
     "metadata": {},
     "output_type": "execute_result"
    }
   ],
   "source": [
    "aa"
   ]
  },
  {
   "cell_type": "code",
   "execution_count": 48,
   "id": "9f7b3134",
   "metadata": {},
   "outputs": [],
   "source": [
    "name = ['LCK_blue','LCK_red','LEC_blue','LEC_red','LCS_blue','LCS_red']"
   ]
  },
  {
   "cell_type": "code",
   "execution_count": 87,
   "id": "b2cbfdea",
   "metadata": {},
   "outputs": [],
   "source": [
    "sns.set_palette('Pastel2')"
   ]
  },
  {
   "cell_type": "code",
   "execution_count": 88,
   "id": "b2832eb9",
   "metadata": {},
   "outputs": [
    {
     "data": {
      "image/png": "[encoded data removed]",
      "text/plain": [
       "<Figure size 864x432 with 1 Axes>"
      ]
     },
     "metadata": {
      "needs_background": "light"
     },
     "output_type": "display_data"
    }
   ],
   "source": [
    "# y축 이름 변경\n",
    "flg, ax = plt.subplots(figsize = (12,6))\n",
    "ax.bar(name, aa)\n",
    "plt.title('League Turret')\n",
    "plt.show()"
   ]
  },
  {
   "cell_type": "code",
   "execution_count": 105,
   "id": "0639b78a",
   "metadata": {},
   "outputs": [],
   "source": [
    "a =LCK['blue_champion'].value_counts().head(5)\n",
    "b = LCK['red_champion'].value_counts().head(5)"
   ]
  },
  {
   "cell_type": "code",
   "execution_count": 97,
   "id": "527000fa",
   "metadata": {},
   "outputs": [],
   "source": [
    "# 그래프 설정\n",
    "plt.rcParams['font.family']= 'Malgun Gothic'\n",
    "# plt.rcParams['font.family']= 'AppleGothic'\n",
    "plt.rcParams['font.size']  = 16\n",
    "plt.rcParams['figure.figsize'] = (20,10)\n",
    "plt.rcParams['axes.unicode_minus'] = False"
   ]
  },
  {
   "cell_type": "code",
   "execution_count": 101,
   "id": "886e7618",
   "metadata": {},
   "outputs": [],
   "source": [
    "sns.set_palette('Pastel2')"
   ]
  },
  {
   "cell_type": "code",
   "execution_count": 106,
   "id": "dff3abdd",
   "metadata": {},
   "outputs": [
    {
     "data": {
      "image/png": "[encoded data removed]",
      "text/plain": [
       "<Figure size 864x432 with 1 Axes>"
      ]
     },
     "metadata": {
      "needs_background": "light"
     },
     "output_type": "display_data"
    }
   ],
   "source": [
    "flg, ax = plt.subplots(figsize = (12,6))\n",
    "ax.bar(a.index, a.values)\n",
    "plt.title('blue_pick')\n",
    "plt.show()"
   ]
  },
  {
   "cell_type": "code",
   "execution_count": 108,
   "id": "7aeaf0ba",
   "metadata": {},
   "outputs": [],
   "source": [
    "sns.set_palette('Pastel1')"
   ]
  },
  {
   "cell_type": "code",
   "execution_count": 109,
   "id": "a2d00331",
   "metadata": {},
   "outputs": [
    {
     "data": {
      "image/png": "[encoded data removed]",
      "text/plain": [
       "<Figure size 864x432 with 1 Axes>"
      ]
     },
     "metadata": {
      "needs_background": "light"
     },
     "output_type": "display_data"
    }
   ],
   "source": [
    "flg, ax = plt.subplots(figsize = (12,6))\n",
    "ax.bar(b.index, b.values)\n",
    "plt.title('red_pick')\n",
    "plt.show()"
   ]
  },
  {
   "cell_type": "code",
   "execution_count": 111,
   "id": "35909156",
   "metadata": {},
   "outputs": [
    {
     "name": "stderr",
     "output_type": "stream",
     "text": [
      "<ipython-input-111-bcfe8b6a7953>:3: UserWarning: Boolean Series key will be reindexed to match DataFrame index.\n",
      "  LEC_baron = LEC_object[LCK_object['blue_object'] == 'baron@blue']\n"
     ]
    }
   ],
   "source": [
    "LCK_baron = LCK_object[LCK_object['blue_object'] == 'baron@blue']\n",
    "LCK_baron = LCK_baron.drop(columns=['blue_object','red_object'])\n",
    "LEC_baron = LEC_object[LCK_object['blue_object'] == 'baron@blue']\n",
    "LEC_baron = LEC_baron.drop(columns=['blue_object','red_object'])"
   ]
  },
  {
   "cell_type": "code",
   "execution_count": 116,
   "id": "f39145ef",
   "metadata": {},
   "outputs": [
    {
     "data": {
      "text/plain": [
       "blue_object_count    179\n",
       "red_object_count     163\n",
       "dtype: int64"
      ]
     },
     "execution_count": 116,
     "metadata": {},
     "output_type": "execute_result"
    }
   ],
   "source": [
    "LCK_baron.sum()"
   ]
  },
  {
   "cell_type": "code",
   "execution_count": 114,
   "id": "8110b25f",
   "metadata": {},
   "outputs": [
    {
     "data": {
      "text/plain": [
       "blue_object_count     89\n",
       "red_object_count     108\n",
       "dtype: int64"
      ]
     },
     "execution_count": 114,
     "metadata": {},
     "output_type": "execute_result"
    }
   ],
   "source": [
    "LEC_baron.sum()"
   ]
  },
  {
   "cell_type": "code",
   "execution_count": 119,
   "id": "fcffae4e",
   "metadata": {},
   "outputs": [],
   "source": [
    "a =LCS['blue_champion'].value_counts().head(5)\n",
    "b = LCS['red_champion'].value_counts().head(5)"
   ]
  },
  {
   "cell_type": "code",
   "execution_count": 120,
   "id": "f96f40ff",
   "metadata": {},
   "outputs": [],
   "source": [
    "sns.set_palette('Pastel2')"
   ]
  },
  {
   "cell_type": "code",
   "execution_count": 121,
   "id": "eadbc457",
   "metadata": {
    "scrolled": true
   },
   "outputs": [
    {
     "data": {
      "image/png": "[encoded data removed]",
      "text/plain": [
       "<Figure size 864x432 with 1 Axes>"
      ]
     },
     "metadata": {
      "needs_background": "light"
     },
     "output_type": "display_data"
    }
   ],
   "source": [
    "flg, ax = plt.subplots(figsize = (12,6))\n",
    "ax.bar(a.index, a.values)\n",
    "plt.title('blue_pick')\n",
    "plt.show()"
   ]
  },
  {
   "cell_type": "code",
   "execution_count": 122,
   "id": "cee0a83d",
   "metadata": {},
   "outputs": [],
   "source": [
    "sns.set_palette('Pastel1')"
   ]
  },
  {
   "cell_type": "code",
   "execution_count": 123,
   "id": "0b97ae06",
   "metadata": {
    "scrolled": true
   },
   "outputs": [
    {
     "data": {
      "image/png": "[encoded data removed]",
      "text/plain": [
       "<Figure size 864x432 with 1 Axes>"
      ]
     },
     "metadata": {
      "needs_background": "light"
     },
     "output_type": "display_data"
    }
   ],
   "source": [
    "flg, ax = plt.subplots(figsize = (12,6))\n",
    "ax.bar(b.index, b.values)\n",
    "plt.title('red_pick')\n",
    "plt.show()"
   ]
  },
  {
   "cell_type": "code",
   "execution_count": 124,
   "id": "66a3f8e8",
   "metadata": {},
   "outputs": [],
   "source": [
    "d = LCS_object[LCS_object['blue_object'] == 'baron@blue']\n",
    "LCS_baron= d.drop(columns=['blue_object','red_object'])"
   ]
  },
  {
   "cell_type": "code",
   "execution_count": 126,
   "id": "550722d6",
   "metadata": {},
   "outputs": [
    {
     "data": {
      "text/plain": [
       "blue_object_count  red_object_count\n",
       "0                  1                   58\n",
       "1                  0                   56\n",
       "0                  2                   20\n",
       "1                  1                   13\n",
       "2                  0                   12\n",
       "0                  0                    8\n",
       "                   3                    5\n",
       "1                  2                    4\n",
       "2                  1                    3\n",
       "1                  3                    1\n",
       "3                  0                    1\n",
       "dtype: int64"
      ]
     },
     "execution_count": 126,
     "metadata": {},
     "output_type": "execute_result"
    }
   ],
   "source": [
    "LCS_baron.value_counts()"
   ]
  },
  {
   "cell_type": "code",
   "execution_count": null,
   "id": "d8fcb5d6",
   "metadata": {},
   "outputs": [],
   "source": []
  }
 ],
 "metadata": {
  "kernelspec": {
   "display_name": "Python 3",
   "language": "python",
   "name": "python3"
  },
  "language_info": {
   "codemirror_mode": {
    "name": "ipython",
    "version": 3
   },
   "file_extension": ".py",
   "mimetype": "text/x-python",
   "name": "python",
   "nbconvert_exporter": "python",
   "pygments_lexer": "ipython3",
   "version": "3.8.8"
  }
 },
 "nbformat": 4,
 "nbformat_minor": 5
}
