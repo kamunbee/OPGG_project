{
 "cells": [
  {
   "cell_type": "code",
   "execution_count": 1,
   "id": "8007a6c2",
   "metadata": {},
   "outputs": [],
   "source": [
    "import pandas as pd\n",
    "import numpy as np\n",
    "import matplotlib.pyplot as plt\n",
    "import seaborn as sns"
   ]
  },
  {
   "cell_type": "code",
   "execution_count": 2,
   "id": "57de695d",
   "metadata": {},
   "outputs": [],
   "source": [
    "LEC = pd.read_csv('projectData/LEC1.csv',index_col='Unnamed: 0')"
   ]
  },
  {
   "cell_type": "markdown",
   "id": "e73ff57d",
   "metadata": {},
   "source": [
    "# 데이터 확인 겸 분석"
   ]
  },
  {
   "cell_type": "code",
   "execution_count": 3,
   "id": "d44abd8d",
   "metadata": {},
   "outputs": [
    {
     "data": {
      "text/html": [
       "<div>\n",
       "<style scoped>\n",
       "    .dataframe tbody tr th:only-of-type {\n",
       "        vertical-align: middle;\n",
       "    }\n",
       "\n",
       "    .dataframe tbody tr th {\n",
       "        vertical-align: top;\n",
       "    }\n",
       "\n",
       "    .dataframe thead th {\n",
       "        text-align: right;\n",
       "    }\n",
       "</style>\n",
       "<table border=\"1\" class=\"dataframe\">\n",
       "  <thead>\n",
       "    <tr style=\"text-align: right;\">\n",
       "      <th></th>\n",
       "      <th>champion</th>\n",
       "      <th>game</th>\n",
       "      <th>kill</th>\n",
       "      <th>death</th>\n",
       "      <th>assist</th>\n",
       "      <th>kda</th>\n",
       "      <th>win</th>\n",
       "      <th>lose</th>\n",
       "      <th>dpm</th>\n",
       "    </tr>\n",
       "  </thead>\n",
       "  <tbody>\n",
       "    <tr>\n",
       "      <th>34</th>\n",
       "      <td>비에고</td>\n",
       "      <td>63</td>\n",
       "      <td>57.3</td>\n",
       "      <td>54.7</td>\n",
       "      <td>82.2</td>\n",
       "      <td>55.2</td>\n",
       "      <td>32</td>\n",
       "      <td>31</td>\n",
       "      <td>6233</td>\n",
       "    </tr>\n",
       "    <tr>\n",
       "      <th>22</th>\n",
       "      <td>리 신</td>\n",
       "      <td>51</td>\n",
       "      <td>47.7</td>\n",
       "      <td>36.6</td>\n",
       "      <td>112.7</td>\n",
       "      <td>102.2</td>\n",
       "      <td>27</td>\n",
       "      <td>24</td>\n",
       "      <td>5725</td>\n",
       "    </tr>\n",
       "    <tr>\n",
       "      <th>88</th>\n",
       "      <td>트리스타나</td>\n",
       "      <td>43</td>\n",
       "      <td>30.9</td>\n",
       "      <td>17.2</td>\n",
       "      <td>33.4</td>\n",
       "      <td>77.2</td>\n",
       "      <td>20</td>\n",
       "      <td>23</td>\n",
       "      <td>3741</td>\n",
       "    </tr>\n",
       "    <tr>\n",
       "      <th>16</th>\n",
       "      <td>레오나</td>\n",
       "      <td>41</td>\n",
       "      <td>7.4</td>\n",
       "      <td>49.9</td>\n",
       "      <td>75.5</td>\n",
       "      <td>19.6</td>\n",
       "      <td>19</td>\n",
       "      <td>22</td>\n",
       "      <td>1288</td>\n",
       "    </tr>\n",
       "    <tr>\n",
       "      <th>32</th>\n",
       "      <td>브라움</td>\n",
       "      <td>37</td>\n",
       "      <td>4.0</td>\n",
       "      <td>33.3</td>\n",
       "      <td>88.6</td>\n",
       "      <td>35.2</td>\n",
       "      <td>23</td>\n",
       "      <td>14</td>\n",
       "      <td>1898</td>\n",
       "    </tr>\n",
       "    <tr>\n",
       "      <th>15</th>\n",
       "      <td>레넥톤</td>\n",
       "      <td>36</td>\n",
       "      <td>26.1</td>\n",
       "      <td>34.3</td>\n",
       "      <td>59.2</td>\n",
       "      <td>44.3</td>\n",
       "      <td>21</td>\n",
       "      <td>15</td>\n",
       "      <td>4415</td>\n",
       "    </tr>\n",
       "    <tr>\n",
       "      <th>50</th>\n",
       "      <td>알리스타</td>\n",
       "      <td>36</td>\n",
       "      <td>5.3</td>\n",
       "      <td>31.1</td>\n",
       "      <td>66.2</td>\n",
       "      <td>25.6</td>\n",
       "      <td>21</td>\n",
       "      <td>15</td>\n",
       "      <td>1036</td>\n",
       "    </tr>\n",
       "    <tr>\n",
       "      <th>29</th>\n",
       "      <td>바루스</td>\n",
       "      <td>31</td>\n",
       "      <td>31.0</td>\n",
       "      <td>20.4</td>\n",
       "      <td>43.1</td>\n",
       "      <td>53.8</td>\n",
       "      <td>20</td>\n",
       "      <td>11</td>\n",
       "      <td>5092</td>\n",
       "    </tr>\n",
       "    <tr>\n",
       "      <th>62</th>\n",
       "      <td>이즈리얼</td>\n",
       "      <td>30</td>\n",
       "      <td>20.5</td>\n",
       "      <td>15.6</td>\n",
       "      <td>28.3</td>\n",
       "      <td>30.0</td>\n",
       "      <td>12</td>\n",
       "      <td>18</td>\n",
       "      <td>4798</td>\n",
       "    </tr>\n",
       "    <tr>\n",
       "      <th>67</th>\n",
       "      <td>제이스</td>\n",
       "      <td>30</td>\n",
       "      <td>38.0</td>\n",
       "      <td>42.5</td>\n",
       "      <td>54.9</td>\n",
       "      <td>31.0</td>\n",
       "      <td>12</td>\n",
       "      <td>18</td>\n",
       "      <td>7910</td>\n",
       "    </tr>\n",
       "  </tbody>\n",
       "</table>\n",
       "</div>"
      ],
      "text/plain": [
       "   champion  game  kill  death  assist    kda  win  lose   dpm\n",
       "34      비에고    63  57.3   54.7    82.2   55.2   32    31  6233\n",
       "22      리 신    51  47.7   36.6   112.7  102.2   27    24  5725\n",
       "88    트리스타나    43  30.9   17.2    33.4   77.2   20    23  3741\n",
       "16      레오나    41   7.4   49.9    75.5   19.6   19    22  1288\n",
       "32      브라움    37   4.0   33.3    88.6   35.2   23    14  1898\n",
       "15      레넥톤    36  26.1   34.3    59.2   44.3   21    15  4415\n",
       "50     알리스타    36   5.3   31.1    66.2   25.6   21    15  1036\n",
       "29      바루스    31  31.0   20.4    43.1   53.8   20    11  5092\n",
       "62     이즈리얼    30  20.5   15.6    28.3   30.0   12    18  4798\n",
       "67      제이스    30  38.0   42.5    54.9   31.0   12    18  7910"
      ]
     },
     "execution_count": 3,
     "metadata": {},
     "output_type": "execute_result"
    }
   ],
   "source": [
    "# 가장 많이 사용된 챔피언 \n",
    "\n",
    "LEC.groupby('champion', as_index=False).sum().sort_values('game', ascending=False).head(10)"
   ]
  },
  {
   "cell_type": "code",
   "execution_count": 4,
   "id": "b104ceba",
   "metadata": {},
   "outputs": [
    {
     "data": {
      "text/plain": [
       "95"
      ]
     },
     "execution_count": 4,
     "metadata": {},
     "output_type": "execute_result"
    }
   ],
   "source": [
    "# 총 사용된 챔피언 갯수\n",
    "len(LEC.groupby('champion', as_index=False).sum().sort_values('game', ascending=False))"
   ]
  },
  {
   "cell_type": "code",
   "execution_count": 5,
   "id": "cc572ac9",
   "metadata": {},
   "outputs": [
    {
     "data": {
      "text/html": [
       "<div>\n",
       "<style scoped>\n",
       "    .dataframe tbody tr th:only-of-type {\n",
       "        vertical-align: middle;\n",
       "    }\n",
       "\n",
       "    .dataframe tbody tr th {\n",
       "        vertical-align: top;\n",
       "    }\n",
       "\n",
       "    .dataframe thead th {\n",
       "        text-align: right;\n",
       "    }\n",
       "</style>\n",
       "<table border=\"1\" class=\"dataframe\">\n",
       "  <thead>\n",
       "    <tr style=\"text-align: right;\">\n",
       "      <th></th>\n",
       "      <th>line</th>\n",
       "      <th>champion</th>\n",
       "      <th>game</th>\n",
       "      <th>kill</th>\n",
       "      <th>death</th>\n",
       "      <th>assist</th>\n",
       "      <th>kda</th>\n",
       "      <th>win</th>\n",
       "      <th>lose</th>\n",
       "      <th>dpm</th>\n",
       "    </tr>\n",
       "  </thead>\n",
       "  <tbody>\n",
       "    <tr>\n",
       "      <th>1</th>\n",
       "      <td>JG</td>\n",
       "      <td>비에고</td>\n",
       "      <td>42</td>\n",
       "      <td>28.2</td>\n",
       "      <td>25.0</td>\n",
       "      <td>45.1</td>\n",
       "      <td>28.2</td>\n",
       "      <td>23</td>\n",
       "      <td>19</td>\n",
       "      <td>2580</td>\n",
       "    </tr>\n",
       "    <tr>\n",
       "      <th>0</th>\n",
       "      <td>JG</td>\n",
       "      <td>리 신</td>\n",
       "      <td>35</td>\n",
       "      <td>26.3</td>\n",
       "      <td>22.0</td>\n",
       "      <td>55.8</td>\n",
       "      <td>36.9</td>\n",
       "      <td>18</td>\n",
       "      <td>17</td>\n",
       "      <td>2636</td>\n",
       "    </tr>\n",
       "    <tr>\n",
       "      <th>5</th>\n",
       "      <td>TOP</td>\n",
       "      <td>비에고</td>\n",
       "      <td>15</td>\n",
       "      <td>19.3</td>\n",
       "      <td>21.4</td>\n",
       "      <td>29.8</td>\n",
       "      <td>17.5</td>\n",
       "      <td>6</td>\n",
       "      <td>9</td>\n",
       "      <td>2635</td>\n",
       "    </tr>\n",
       "    <tr>\n",
       "      <th>4</th>\n",
       "      <td>TOP</td>\n",
       "      <td>리 신</td>\n",
       "      <td>13</td>\n",
       "      <td>14.4</td>\n",
       "      <td>8.6</td>\n",
       "      <td>33.9</td>\n",
       "      <td>42.8</td>\n",
       "      <td>7</td>\n",
       "      <td>6</td>\n",
       "      <td>1878</td>\n",
       "    </tr>\n",
       "    <tr>\n",
       "      <th>3</th>\n",
       "      <td>MID</td>\n",
       "      <td>비에고</td>\n",
       "      <td>6</td>\n",
       "      <td>9.8</td>\n",
       "      <td>8.3</td>\n",
       "      <td>7.3</td>\n",
       "      <td>9.5</td>\n",
       "      <td>3</td>\n",
       "      <td>3</td>\n",
       "      <td>1018</td>\n",
       "    </tr>\n",
       "    <tr>\n",
       "      <th>2</th>\n",
       "      <td>MID</td>\n",
       "      <td>리 신</td>\n",
       "      <td>3</td>\n",
       "      <td>7.0</td>\n",
       "      <td>6.0</td>\n",
       "      <td>23.0</td>\n",
       "      <td>22.5</td>\n",
       "      <td>2</td>\n",
       "      <td>1</td>\n",
       "      <td>1211</td>\n",
       "    </tr>\n",
       "  </tbody>\n",
       "</table>\n",
       "</div>"
      ],
      "text/plain": [
       "  line champion  game  kill  death  assist   kda  win  lose   dpm\n",
       "1   JG      비에고    42  28.2   25.0    45.1  28.2   23    19  2580\n",
       "0   JG      리 신    35  26.3   22.0    55.8  36.9   18    17  2636\n",
       "5  TOP      비에고    15  19.3   21.4    29.8  17.5    6     9  2635\n",
       "4  TOP      리 신    13  14.4    8.6    33.9  42.8    7     6  1878\n",
       "3  MID      비에고     6   9.8    8.3     7.3   9.5    3     3  1018\n",
       "2  MID      리 신     3   7.0    6.0    23.0  22.5    2     1  1211"
      ]
     },
     "execution_count": 5,
     "metadata": {},
     "output_type": "execute_result"
    }
   ],
   "source": [
    "# 리신과 비에고는 스왑카드로 많이 사용되었으니 어떤 자리에서 활용되었는지 확인\n",
    "\n",
    "LEC[(LEC['champion'] == '비에고') | (LEC['champion'] == '리 신') ].groupby(['line','champion'], as_index=False).sum().sort_values('game', ascending=False)"
   ]
  },
  {
   "cell_type": "markdown",
   "id": "f9a07648",
   "metadata": {},
   "source": [
    "## 리신과 비에고\n",
    "1. 정글에서 활용도가 가장 높으며 상황에 따라 탑, 미드에서 모두 사용할 수 있는 픽이었음\n",
    "2. 스왑을 통해 상체 어떤 라인도 갈 수 있다는 장점이 있으며 성능도 좋았기에 모든 팀이 선호했을 것\n",
    "3. 롤드컵에서도 스왑픽에 대한 고려를 많이 해야할 것 ( 세라핀 같은애들 )"
   ]
  },
  {
   "cell_type": "markdown",
   "id": "6fc7b5de",
   "metadata": {},
   "source": [
    "가장 많이 픽된 카드에서 트리스타나가 3번째인 것을 확인가능"
   ]
  },
  {
   "cell_type": "code",
   "execution_count": 6,
   "id": "2fa12db4",
   "metadata": {},
   "outputs": [
    {
     "data": {
      "text/html": [
       "<div>\n",
       "<style scoped>\n",
       "    .dataframe tbody tr th:only-of-type {\n",
       "        vertical-align: middle;\n",
       "    }\n",
       "\n",
       "    .dataframe tbody tr th {\n",
       "        vertical-align: top;\n",
       "    }\n",
       "\n",
       "    .dataframe thead th {\n",
       "        text-align: right;\n",
       "    }\n",
       "</style>\n",
       "<table border=\"1\" class=\"dataframe\">\n",
       "  <thead>\n",
       "    <tr style=\"text-align: right;\">\n",
       "      <th></th>\n",
       "      <th>call_name</th>\n",
       "      <th>player_name</th>\n",
       "      <th>line</th>\n",
       "      <th>champion</th>\n",
       "      <th>game</th>\n",
       "      <th>win_rate</th>\n",
       "      <th>kill</th>\n",
       "      <th>death</th>\n",
       "      <th>assist</th>\n",
       "      <th>kda</th>\n",
       "      <th>win</th>\n",
       "      <th>lose</th>\n",
       "      <th>dpm</th>\n",
       "    </tr>\n",
       "  </thead>\n",
       "  <tbody>\n",
       "    <tr>\n",
       "      <th>307</th>\n",
       "      <td>FNC Upset</td>\n",
       "      <td>Elias Lipp1999.12.16</td>\n",
       "      <td>AD</td>\n",
       "      <td>트리스타나</td>\n",
       "      <td>11</td>\n",
       "      <td>54.5%</td>\n",
       "      <td>5.8</td>\n",
       "      <td>1.1</td>\n",
       "      <td>4.2</td>\n",
       "      <td>9.2</td>\n",
       "      <td>6</td>\n",
       "      <td>5</td>\n",
       "      <td>523</td>\n",
       "    </tr>\n",
       "    <tr>\n",
       "      <th>317</th>\n",
       "      <td>G2 Rekkles</td>\n",
       "      <td>Martin Larsson1996.09.20</td>\n",
       "      <td>AD</td>\n",
       "      <td>트리스타나</td>\n",
       "      <td>11</td>\n",
       "      <td>45.5%</td>\n",
       "      <td>4.8</td>\n",
       "      <td>1.0</td>\n",
       "      <td>3.4</td>\n",
       "      <td>8.2</td>\n",
       "      <td>5</td>\n",
       "      <td>6</td>\n",
       "      <td>499</td>\n",
       "    </tr>\n",
       "    <tr>\n",
       "      <th>333</th>\n",
       "      <td>MAD Carzzy</td>\n",
       "      <td>Matyáš Orság2002.01.31</td>\n",
       "      <td>AD</td>\n",
       "      <td>트리스타나</td>\n",
       "      <td>1</td>\n",
       "      <td>0%</td>\n",
       "      <td>5.0</td>\n",
       "      <td>6.0</td>\n",
       "      <td>4.0</td>\n",
       "      <td>1.5</td>\n",
       "      <td>0</td>\n",
       "      <td>1</td>\n",
       "      <td>444</td>\n",
       "    </tr>\n",
       "    <tr>\n",
       "      <th>340</th>\n",
       "      <td>VIT Crownshot</td>\n",
       "      <td>Juš Marušič1998.04.17</td>\n",
       "      <td>AD</td>\n",
       "      <td>트리스타나</td>\n",
       "      <td>2</td>\n",
       "      <td>50.0%</td>\n",
       "      <td>5.0</td>\n",
       "      <td>1.0</td>\n",
       "      <td>4.5</td>\n",
       "      <td>9.5</td>\n",
       "      <td>1</td>\n",
       "      <td>1</td>\n",
       "      <td>565</td>\n",
       "    </tr>\n",
       "    <tr>\n",
       "      <th>364</th>\n",
       "      <td>AST Jeskla</td>\n",
       "      <td>Jesper Klarin Strömberg2000.07.08</td>\n",
       "      <td>AD</td>\n",
       "      <td>트리스타나</td>\n",
       "      <td>4</td>\n",
       "      <td>25.0%</td>\n",
       "      <td>1.5</td>\n",
       "      <td>3.0</td>\n",
       "      <td>5.3</td>\n",
       "      <td>2.3</td>\n",
       "      <td>1</td>\n",
       "      <td>3</td>\n",
       "      <td>544</td>\n",
       "    </tr>\n",
       "    <tr>\n",
       "      <th>376</th>\n",
       "      <td>MSF Kobbe</td>\n",
       "      <td>Kasper Kobberup1996.09.21</td>\n",
       "      <td>AD</td>\n",
       "      <td>트리스타나</td>\n",
       "      <td>4</td>\n",
       "      <td>100.0%</td>\n",
       "      <td>4.5</td>\n",
       "      <td>0.3</td>\n",
       "      <td>6.0</td>\n",
       "      <td>42.0</td>\n",
       "      <td>4</td>\n",
       "      <td>0</td>\n",
       "      <td>436</td>\n",
       "    </tr>\n",
       "    <tr>\n",
       "      <th>383</th>\n",
       "      <td>SK Jezu</td>\n",
       "      <td>Jean Massol2000.07.27</td>\n",
       "      <td>AD</td>\n",
       "      <td>트리스타나</td>\n",
       "      <td>7</td>\n",
       "      <td>42.9%</td>\n",
       "      <td>3.0</td>\n",
       "      <td>2.1</td>\n",
       "      <td>4.3</td>\n",
       "      <td>3.4</td>\n",
       "      <td>3</td>\n",
       "      <td>4</td>\n",
       "      <td>376</td>\n",
       "    </tr>\n",
       "    <tr>\n",
       "      <th>392</th>\n",
       "      <td>S04 Neon</td>\n",
       "      <td>Matúš Jakubčík1999.04.24</td>\n",
       "      <td>AD</td>\n",
       "      <td>트리스타나</td>\n",
       "      <td>3</td>\n",
       "      <td>0%</td>\n",
       "      <td>1.3</td>\n",
       "      <td>2.7</td>\n",
       "      <td>1.7</td>\n",
       "      <td>1.1</td>\n",
       "      <td>0</td>\n",
       "      <td>3</td>\n",
       "      <td>354</td>\n",
       "    </tr>\n",
       "  </tbody>\n",
       "</table>\n",
       "</div>"
      ],
      "text/plain": [
       "         call_name                        player_name line champion  game  \\\n",
       "307      FNC Upset               Elias Lipp1999.12.16   AD    트리스타나    11   \n",
       "317     G2 Rekkles           Martin Larsson1996.09.20   AD    트리스타나    11   \n",
       "333     MAD Carzzy             Matyáš Orság2002.01.31   AD    트리스타나     1   \n",
       "340  VIT Crownshot              Juš Marušič1998.04.17   AD    트리스타나     2   \n",
       "364     AST Jeskla  Jesper Klarin Strömberg2000.07.08   AD    트리스타나     4   \n",
       "376      MSF Kobbe          Kasper Kobberup1996.09.21   AD    트리스타나     4   \n",
       "383        SK Jezu              Jean Massol2000.07.27   AD    트리스타나     7   \n",
       "392       S04 Neon           Matúš Jakubčík1999.04.24   AD    트리스타나     3   \n",
       "\n",
       "    win_rate  kill  death  assist   kda  win  lose  dpm  \n",
       "307    54.5%   5.8    1.1     4.2   9.2    6     5  523  \n",
       "317    45.5%   4.8    1.0     3.4   8.2    5     6  499  \n",
       "333       0%   5.0    6.0     4.0   1.5    0     1  444  \n",
       "340    50.0%   5.0    1.0     4.5   9.5    1     1  565  \n",
       "364    25.0%   1.5    3.0     5.3   2.3    1     3  544  \n",
       "376   100.0%   4.5    0.3     6.0  42.0    4     0  436  \n",
       "383    42.9%   3.0    2.1     4.3   3.4    3     4  376  \n",
       "392       0%   1.3    2.7     1.7   1.1    0     3  354  "
      ]
     },
     "execution_count": 6,
     "metadata": {},
     "output_type": "execute_result"
    }
   ],
   "source": [
    "LEC[LEC['champion']== '트리스타나']"
   ]
  },
  {
   "cell_type": "markdown",
   "id": "b6d4f989",
   "metadata": {},
   "source": [
    "## 다른 데이터를 통해 오브젝트와 관련된 데이터를 확인"
   ]
  },
  {
   "cell_type": "code",
   "execution_count": 7,
   "id": "65a1b504",
   "metadata": {},
   "outputs": [
    {
     "name": "stdout",
     "output_type": "stream",
     "text": [
      "<class 'pandas.core.frame.DataFrame'>\n",
      "Int64Index: 685 entries, 0 to 684\n",
      "Data columns (total 29 columns):\n",
      " #   Column             Non-Null Count  Dtype \n",
      "---  ------             --------------  ----- \n",
      " 0   game_date          685 non-null    object\n",
      " 1   version            685 non-null    object\n",
      " 2   team1_name         685 non-null    object\n",
      " 3   team1_score        685 non-null    int64 \n",
      " 4   team2_score        685 non-null    int64 \n",
      " 5   team2_name         685 non-null    object\n",
      " 6   gametime           685 non-null    object\n",
      " 7   blue_team          685 non-null    object\n",
      " 8   blue_score         685 non-null    int64 \n",
      " 9   blue_ban           685 non-null    object\n",
      " 10  blue_object        685 non-null    object\n",
      " 11  blue_object_count  685 non-null    int64 \n",
      " 12  blue_call_name     685 non-null    object\n",
      " 13  blue_line          685 non-null    object\n",
      " 14  blue_champion      685 non-null    object\n",
      " 15  blue_kill          685 non-null    int64 \n",
      " 16  blue_death         685 non-null    object\n",
      " 17  blue_assist        685 non-null    object\n",
      " 18  red_team           685 non-null    object\n",
      " 19  red_score          685 non-null    int64 \n",
      " 20  red_ban            685 non-null    object\n",
      " 21  red_object         685 non-null    object\n",
      " 22  red_object_count   685 non-null    int64 \n",
      " 23  red_call_name      685 non-null    object\n",
      " 24  red_line           685 non-null    object\n",
      " 25  red_champion       685 non-null    object\n",
      " 26  red_kill           685 non-null    int64 \n",
      " 27  red_death          685 non-null    object\n",
      " 28  red_assist         685 non-null    object\n",
      "dtypes: int64(8), object(21)\n",
      "memory usage: 176.7+ KB\n"
     ]
    }
   ],
   "source": [
    "LEC = pd.read_csv('projectData/LEC_RESULT.csv', index_col=0, encoding='CP949')\n",
    "LEC['version'] = LEC['version'].str.replace('버전','')\n",
    "LEC['version'] = LEC['version'].str.replace(' ','')\n",
    "LEC['version'] = LEC['version'].str.replace('<!----><!---->','')\n",
    "ind = LEC[LEC['version'] == '11.5'].index\n",
    "LEC = LEC.drop(index=ind)\n",
    "LEC.info()"
   ]
  },
  {
   "cell_type": "code",
   "execution_count": 8,
   "id": "b8d514d5",
   "metadata": {},
   "outputs": [
    {
     "data": {
      "text/html": [
       "<div>\n",
       "<style scoped>\n",
       "    .dataframe tbody tr th:only-of-type {\n",
       "        vertical-align: middle;\n",
       "    }\n",
       "\n",
       "    .dataframe tbody tr th {\n",
       "        vertical-align: top;\n",
       "    }\n",
       "\n",
       "    .dataframe thead th {\n",
       "        text-align: right;\n",
       "    }\n",
       "</style>\n",
       "<table border=\"1\" class=\"dataframe\">\n",
       "  <thead>\n",
       "    <tr style=\"text-align: right;\">\n",
       "      <th></th>\n",
       "      <th>blue_object</th>\n",
       "      <th>blue_object_count</th>\n",
       "      <th>red_object</th>\n",
       "      <th>red_object_count</th>\n",
       "    </tr>\n",
       "  </thead>\n",
       "  <tbody>\n",
       "    <tr>\n",
       "      <th>0</th>\n",
       "      <td>turret@blue</td>\n",
       "      <td>9</td>\n",
       "      <td>turret@red</td>\n",
       "      <td>2</td>\n",
       "    </tr>\n",
       "    <tr>\n",
       "      <th>1</th>\n",
       "      <td>inhibitor@blue</td>\n",
       "      <td>1</td>\n",
       "      <td>inhibitor@red</td>\n",
       "      <td>0</td>\n",
       "    </tr>\n",
       "    <tr>\n",
       "      <th>2</th>\n",
       "      <td>baron@blue</td>\n",
       "      <td>1</td>\n",
       "      <td>baron@red</td>\n",
       "      <td>1</td>\n",
       "    </tr>\n",
       "    <tr>\n",
       "      <th>3</th>\n",
       "      <td>dragon@blue</td>\n",
       "      <td>4</td>\n",
       "      <td>dragon@red</td>\n",
       "      <td>2</td>\n",
       "    </tr>\n",
       "    <tr>\n",
       "      <th>4</th>\n",
       "      <td>riftHerald@blue</td>\n",
       "      <td>0</td>\n",
       "      <td>riftHerald@red</td>\n",
       "      <td>2</td>\n",
       "    </tr>\n",
       "    <tr>\n",
       "      <th>...</th>\n",
       "      <td>...</td>\n",
       "      <td>...</td>\n",
       "      <td>...</td>\n",
       "      <td>...</td>\n",
       "    </tr>\n",
       "    <tr>\n",
       "      <th>680</th>\n",
       "      <td>turret@blue</td>\n",
       "      <td>3</td>\n",
       "      <td>turret@red</td>\n",
       "      <td>8</td>\n",
       "    </tr>\n",
       "    <tr>\n",
       "      <th>681</th>\n",
       "      <td>inhibitor@blue</td>\n",
       "      <td>0</td>\n",
       "      <td>inhibitor@red</td>\n",
       "      <td>1</td>\n",
       "    </tr>\n",
       "    <tr>\n",
       "      <th>682</th>\n",
       "      <td>baron@blue</td>\n",
       "      <td>0</td>\n",
       "      <td>baron@red</td>\n",
       "      <td>1</td>\n",
       "    </tr>\n",
       "    <tr>\n",
       "      <th>683</th>\n",
       "      <td>dragon@blue</td>\n",
       "      <td>3</td>\n",
       "      <td>dragon@red</td>\n",
       "      <td>1</td>\n",
       "    </tr>\n",
       "    <tr>\n",
       "      <th>684</th>\n",
       "      <td>riftHerald@blue</td>\n",
       "      <td>1</td>\n",
       "      <td>riftHerald@red</td>\n",
       "      <td>1</td>\n",
       "    </tr>\n",
       "  </tbody>\n",
       "</table>\n",
       "<p>685 rows × 4 columns</p>\n",
       "</div>"
      ],
      "text/plain": [
       "         blue_object  blue_object_count      red_object  red_object_count\n",
       "0        turret@blue                  9      turret@red                 2\n",
       "1     inhibitor@blue                  1   inhibitor@red                 0\n",
       "2         baron@blue                  1       baron@red                 1\n",
       "3        dragon@blue                  4      dragon@red                 2\n",
       "4    riftHerald@blue                  0  riftHerald@red                 2\n",
       "..               ...                ...             ...               ...\n",
       "680      turret@blue                  3      turret@red                 8\n",
       "681   inhibitor@blue                  0   inhibitor@red                 1\n",
       "682       baron@blue                  0       baron@red                 1\n",
       "683      dragon@blue                  3      dragon@red                 1\n",
       "684  riftHerald@blue                  1  riftHerald@red                 1\n",
       "\n",
       "[685 rows x 4 columns]"
      ]
     },
     "execution_count": 8,
     "metadata": {},
     "output_type": "execute_result"
    }
   ],
   "source": [
    "# 오브젝트만 정리해서 확인하기\n",
    "LEC_object = LEC[['blue_object','blue_object_count','red_object','red_object_count']]\n",
    "LEC_object"
   ]
  },
  {
   "cell_type": "code",
   "execution_count": 9,
   "id": "97baae21",
   "metadata": {},
   "outputs": [],
   "source": [
    "# 터렛,억제기만 가져오기\n",
    "a = LEC_object[LEC_object['blue_object'] == 'turret@blue']\n",
    "aa = LEC_object[LEC_object['blue_object'] == 'inhibitor@blue']\n",
    "\n",
    "LEC_turret = a.drop(columns=['blue_object','red_object'])\n",
    "LEC_inhibitor = aa.drop(columns=['blue_object','red_object'])"
   ]
  },
  {
   "cell_type": "code",
   "execution_count": 10,
   "id": "bbdd581c",
   "metadata": {},
   "outputs": [
    {
     "data": {
      "text/plain": [
       "blue_object_count    6.669355\n",
       "red_object_count     6.975806\n",
       "dtype: float64"
      ]
     },
     "execution_count": 10,
     "metadata": {},
     "output_type": "execute_result"
    }
   ],
   "source": [
    "# 터렛 파괴 갯수를 경기수로 나누어줌\n",
    "LEC_turret.sum()/(90+34)"
   ]
  },
  {
   "cell_type": "markdown",
   "id": "ade0bbe4",
   "metadata": {},
   "source": [
    "경기당 터렛을 12.5개 약 13개에 가까운 포탑을 밀어내는 경기를 보여줌\n",
    "\n",
    "이는 LCK와 비교한다면 2개 더 많은 수치임"
   ]
  },
  {
   "cell_type": "code",
   "execution_count": 11,
   "id": "4faf67da",
   "metadata": {},
   "outputs": [],
   "source": [
    "# 전령도 확인\n",
    "b = LEC_object[LEC_object['blue_object'] == 'riftHerald@blue']\n",
    "LEC_riftHerald = b.drop(columns=['blue_object','red_object'])"
   ]
  },
  {
   "cell_type": "code",
   "execution_count": 12,
   "id": "9805f883",
   "metadata": {},
   "outputs": [
    {
     "data": {
      "text/plain": [
       "blue_object_count    1.282258\n",
       "red_object_count     0.854839\n",
       "dtype: float64"
      ]
     },
     "execution_count": 12,
     "metadata": {},
     "output_type": "execute_result"
    }
   ],
   "source": [
    "# 경기당 전령수\n",
    "LEC_riftHerald.sum()/124"
   ]
  },
  {
   "cell_type": "markdown",
   "id": "23313381",
   "metadata": {},
   "source": [
    "블루팀이 전령을 더 많이 먹는 것은 지형적 원인인가  다른 추가적인 문제점인가\n",
    "\n",
    "<pre>\n",
    " LEC 같은 경우 경기당 거의 2마리 전령 먹음\n",
    " 서로 나눠먹는 경우가 가장 많음\n",
    " \n",
    " </pre>"
   ]
  },
  {
   "cell_type": "markdown",
   "id": "b6f4009a",
   "metadata": {},
   "source": [
    "## 양 진영에서 자주 사용된 픽 확인"
   ]
  },
  {
   "cell_type": "code",
   "execution_count": 13,
   "id": "12c55289",
   "metadata": {},
   "outputs": [],
   "source": [
    "a =LEC['blue_champion'].value_counts().head(8)\n",
    "b = LEC['red_champion'].value_counts().head(8)"
   ]
  },
  {
   "cell_type": "code",
   "execution_count": 14,
   "id": "bae2e24e",
   "metadata": {},
   "outputs": [],
   "source": [
    "# 그래프 설정\n",
    "plt.rcParams['font.family']= 'Malgun Gothic'\n",
    "# plt.rcParams['font.family']= 'AppleGothic'\n",
    "plt.rcParams['font.size']  = 16\n",
    "plt.rcParams['figure.figsize'] = (20,10)\n",
    "plt.rcParams['axes.unicode_minus'] = False"
   ]
  },
  {
   "cell_type": "code",
   "execution_count": 15,
   "id": "a6ee42d4",
   "metadata": {},
   "outputs": [],
   "source": [
    "sns.set_palette('Pastel2')"
   ]
  },
  {
   "cell_type": "code",
   "execution_count": 16,
   "id": "6b105b1a",
   "metadata": {},
   "outputs": [
    {
     "name": "stderr",
     "output_type": "stream",
     "text": [
      "C:\\Users\\LUNA\\anaconda3\\lib\\site-packages\\seaborn\\_decorators.py:36: FutureWarning: Pass the following variables as keyword args: x, y. From version 0.12, the only valid positional argument will be `data`, and passing other arguments without an explicit keyword will result in an error or misinterpretation.\n",
      "  warnings.warn(\n",
      "C:\\Users\\LUNA\\anaconda3\\lib\\site-packages\\seaborn\\_decorators.py:36: FutureWarning: Pass the following variables as keyword args: x, y. From version 0.12, the only valid positional argument will be `data`, and passing other arguments without an explicit keyword will result in an error or misinterpretation.\n",
      "  warnings.warn(\n"
     ]
    },
    {
     "data": {
      "image/png": "[encoded data removed]",
      "text/plain": [
       "<Figure size 1440x720 with 2 Axes>"
      ]
     },
     "metadata": {
      "needs_background": "light"
     },
     "output_type": "display_data"
    }
   ],
   "source": [
    "fig, ax1= plt.subplots(nrows=1, ncols=2, figsize=(20,10))\n",
    "\n",
    "\n",
    "sns.barplot(a.index, a.values, ax=ax1[0])\n",
    "ax1[0].set_title('Blue_pick', weight = 'bold')\n",
    "\n",
    "sns.barplot(b.index, b.values, ax=ax1[1])\n",
    "ax1[1].set_title('Red_pick', weight = 'bold')\n",
    "\n",
    "\n",
    "plt.show()"
   ]
  },
  {
   "cell_type": "markdown",
   "id": "59671ac4",
   "metadata": {},
   "source": [
    "\n",
    "## 트리스타나와 다른원딜의  데미지 비교"
   ]
  },
  {
   "cell_type": "code",
   "execution_count": 17,
   "id": "82fd03cf",
   "metadata": {},
   "outputs": [],
   "source": [
    "# 수집한 데이터 확인\n",
    "lec_forTurret = pd.read_csv('LEC_forTurret_Tris.csv', index_col = 0)\n",
    "lec_forTurret2 = pd.read_csv('LEC_forTurret_Varus.csv', index_col = 0)\n",
    "lec_forTurret3 = pd.read_csv('LEC_forTurret_Kalista.csv', index_col = 0)\n",
    "lec_forTurret4 = pd.read_csv('LEC_forTurret_JIGGS.csv', index_col = 0)"
   ]
  },
  {
   "cell_type": "code",
   "execution_count": 18,
   "id": "cad6d378",
   "metadata": {},
   "outputs": [],
   "source": [
    "all_lec_forTurret = pd.concat([lec_forTurret,lec_forTurret2,lec_forTurret3,lec_forTurret4])"
   ]
  },
  {
   "cell_type": "markdown",
   "id": "b52a7501",
   "metadata": {},
   "source": [
    "# 각 챔프별 데미지 타워 데미지"
   ]
  },
  {
   "cell_type": "code",
   "execution_count": 19,
   "id": "ea48ac03",
   "metadata": {},
   "outputs": [],
   "source": [
    "a = all_lec_forTurret.groupby('champion', as_index=False).mean()\n",
    "b = a[(a['champion'] == ('Tristana')) | (a['champion'] == ('Kalista')) | (a['champion'] == ('Varus')) | (a['champion'] == ('Ziggs'))].sort_values('to_dmg_turrets')"
   ]
  },
  {
   "cell_type": "code",
   "execution_count": 20,
   "id": "8a99376e",
   "metadata": {},
   "outputs": [
    {
     "data": {
      "text/html": [
       "<div>\n",
       "<style scoped>\n",
       "    .dataframe tbody tr th:only-of-type {\n",
       "        vertical-align: middle;\n",
       "    }\n",
       "\n",
       "    .dataframe tbody tr th {\n",
       "        vertical-align: top;\n",
       "    }\n",
       "\n",
       "    .dataframe thead th {\n",
       "        text-align: right;\n",
       "    }\n",
       "</style>\n",
       "<table border=\"1\" class=\"dataframe\">\n",
       "  <thead>\n",
       "    <tr style=\"text-align: right;\">\n",
       "      <th></th>\n",
       "      <th>champion</th>\n",
       "      <th>to_dmg_turrets</th>\n",
       "    </tr>\n",
       "  </thead>\n",
       "  <tbody>\n",
       "    <tr>\n",
       "      <th>72</th>\n",
       "      <td>Varus</td>\n",
       "      <td>4149.473684</td>\n",
       "    </tr>\n",
       "    <tr>\n",
       "      <th>30</th>\n",
       "      <td>Kalista</td>\n",
       "      <td>5472.666667</td>\n",
       "    </tr>\n",
       "    <tr>\n",
       "      <th>67</th>\n",
       "      <td>Tristana</td>\n",
       "      <td>7648.977273</td>\n",
       "    </tr>\n",
       "    <tr>\n",
       "      <th>83</th>\n",
       "      <td>Ziggs</td>\n",
       "      <td>24152.400000</td>\n",
       "    </tr>\n",
       "  </tbody>\n",
       "</table>\n",
       "</div>"
      ],
      "text/plain": [
       "    champion  to_dmg_turrets\n",
       "72     Varus     4149.473684\n",
       "30   Kalista     5472.666667\n",
       "67  Tristana     7648.977273\n",
       "83     Ziggs    24152.400000"
      ]
     },
     "execution_count": 20,
     "metadata": {},
     "output_type": "execute_result"
    }
   ],
   "source": [
    "b[['champion','to_dmg_turrets']]"
   ]
  },
  {
   "cell_type": "code",
   "execution_count": 21,
   "id": "f95d2801",
   "metadata": {},
   "outputs": [
    {
     "data": {
      "image/png": "[encoded data removed]",
      "text/plain": [
       "<Figure size 504x288 with 1 Axes>"
      ]
     },
     "metadata": {
      "needs_background": "light"
     },
     "output_type": "display_data"
    }
   ],
   "source": [
    "flg, ax = plt.subplots(figsize = (7,4))\n",
    "ax.barh(b['champion'], b['to_dmg_turrets'])\n",
    "plt.show()"
   ]
  },
  {
   "cell_type": "markdown",
   "id": "a722847e",
   "metadata": {},
   "source": [
    "트리스타나가 타워에 많은 데미지를 뽑아내는 것을 알 수있음\n",
    "\n",
    "비교해보니 다른 리그에 비해서 타워 철거수가 2개정도 많음을 알 수있었음\n",
    "\n",
    "직스랑비교하니까 그냥 직스는 비교불가.."
   ]
  },
  {
   "cell_type": "markdown",
   "id": "2042e061",
   "metadata": {},
   "source": []
  }
 ],
 "metadata": {
  "kernelspec": {
   "display_name": "Python 3",
   "language": "python",
   "name": "python3"
  },
  "language_info": {
   "codemirror_mode": {
    "name": "ipython",
    "version": 3
   },
   "file_extension": ".py",
   "mimetype": "text/x-python",
   "name": "python",
   "nbconvert_exporter": "python",
   "pygments_lexer": "ipython3",
   "version": "3.8.8"
  }
 },
 "nbformat": 4,
 "nbformat_minor": 5
}
