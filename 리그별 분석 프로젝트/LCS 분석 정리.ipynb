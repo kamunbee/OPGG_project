{
 "cells": [
  {
   "cell_type": "code",
   "execution_count": 1,
   "id": "61d8e706",
   "metadata": {},
   "outputs": [],
   "source": [
    "import pandas as pd\n",
    "import numpy as np\n",
    "import matplotlib.pyplot as plt\n",
    "import seaborn as sns"
   ]
  },
  {
   "cell_type": "code",
   "execution_count": 2,
   "id": "468904a2",
   "metadata": {},
   "outputs": [],
   "source": [
    "# 그래프 설정\n",
    "plt.rcParams['font.family']= 'Malgun Gothic'\n",
    "# plt.rcParams['font.family']= 'AppleGothic'\n",
    "plt.rcParams['font.size']  = 16\n",
    "plt.rcParams['figure.figsize'] = (20,10)\n",
    "plt.rcParams['axes.unicode_minus'] = False"
   ]
  },
  {
   "cell_type": "code",
   "execution_count": 3,
   "id": "89123847",
   "metadata": {},
   "outputs": [],
   "source": [
    "# 데이터 가져오기\n",
    "LCS = pd.read_csv(\"projectData/LCS1.csv\", index_col=0)"
   ]
  },
  {
   "cell_type": "code",
   "execution_count": 4,
   "id": "30c66f27",
   "metadata": {},
   "outputs": [
    {
     "data": {
      "text/html": [
       "<div>\n",
       "<style scoped>\n",
       "    .dataframe tbody tr th:only-of-type {\n",
       "        vertical-align: middle;\n",
       "    }\n",
       "\n",
       "    .dataframe tbody tr th {\n",
       "        vertical-align: top;\n",
       "    }\n",
       "\n",
       "    .dataframe thead th {\n",
       "        text-align: right;\n",
       "    }\n",
       "</style>\n",
       "<table border=\"1\" class=\"dataframe\">\n",
       "  <thead>\n",
       "    <tr style=\"text-align: right;\">\n",
       "      <th></th>\n",
       "      <th>call_name</th>\n",
       "      <th>player_name</th>\n",
       "      <th>line</th>\n",
       "      <th>champion</th>\n",
       "      <th>game</th>\n",
       "      <th>win_rate</th>\n",
       "      <th>kill</th>\n",
       "      <th>death</th>\n",
       "      <th>assist</th>\n",
       "      <th>kda</th>\n",
       "      <th>win</th>\n",
       "      <th>lose</th>\n",
       "      <th>dpm</th>\n",
       "    </tr>\n",
       "  </thead>\n",
       "  <tbody>\n",
       "    <tr>\n",
       "      <th>0</th>\n",
       "      <td>TL Alphari</td>\n",
       "      <td>Barney Morris1999.10.20</td>\n",
       "      <td>TOP</td>\n",
       "      <td>제이스</td>\n",
       "      <td>7</td>\n",
       "      <td>71.4%</td>\n",
       "      <td>4.0</td>\n",
       "      <td>1.9</td>\n",
       "      <td>7.7</td>\n",
       "      <td>6.3</td>\n",
       "      <td>5</td>\n",
       "      <td>2</td>\n",
       "      <td>722</td>\n",
       "    </tr>\n",
       "    <tr>\n",
       "      <th>1</th>\n",
       "      <td>TL Alphari</td>\n",
       "      <td>Barney Morris1999.10.20</td>\n",
       "      <td>TOP</td>\n",
       "      <td>카밀</td>\n",
       "      <td>5</td>\n",
       "      <td>80.0%</td>\n",
       "      <td>2.8</td>\n",
       "      <td>1.4</td>\n",
       "      <td>4.2</td>\n",
       "      <td>5.0</td>\n",
       "      <td>4</td>\n",
       "      <td>1</td>\n",
       "      <td>400</td>\n",
       "    </tr>\n",
       "    <tr>\n",
       "      <th>2</th>\n",
       "      <td>TL Alphari</td>\n",
       "      <td>Barney Morris1999.10.20</td>\n",
       "      <td>TOP</td>\n",
       "      <td>갱플랭크</td>\n",
       "      <td>5</td>\n",
       "      <td>60.0%</td>\n",
       "      <td>2.2</td>\n",
       "      <td>1.4</td>\n",
       "      <td>6.4</td>\n",
       "      <td>6.1</td>\n",
       "      <td>3</td>\n",
       "      <td>2</td>\n",
       "      <td>627</td>\n",
       "    </tr>\n",
       "    <tr>\n",
       "      <th>3</th>\n",
       "      <td>TL Alphari</td>\n",
       "      <td>Barney Morris1999.10.20</td>\n",
       "      <td>TOP</td>\n",
       "      <td>레넥톤</td>\n",
       "      <td>4</td>\n",
       "      <td>25.0%</td>\n",
       "      <td>1.8</td>\n",
       "      <td>2.8</td>\n",
       "      <td>6.0</td>\n",
       "      <td>2.8</td>\n",
       "      <td>1</td>\n",
       "      <td>3</td>\n",
       "      <td>336</td>\n",
       "    </tr>\n",
       "    <tr>\n",
       "      <th>4</th>\n",
       "      <td>TL Alphari</td>\n",
       "      <td>Barney Morris1999.10.20</td>\n",
       "      <td>TOP</td>\n",
       "      <td>나르</td>\n",
       "      <td>3</td>\n",
       "      <td>33.3%</td>\n",
       "      <td>1.3</td>\n",
       "      <td>1.3</td>\n",
       "      <td>4.7</td>\n",
       "      <td>4.5</td>\n",
       "      <td>1</td>\n",
       "      <td>2</td>\n",
       "      <td>424</td>\n",
       "    </tr>\n",
       "    <tr>\n",
       "      <th>...</th>\n",
       "      <td>...</td>\n",
       "      <td>...</td>\n",
       "      <td>...</td>\n",
       "      <td>...</td>\n",
       "      <td>...</td>\n",
       "      <td>...</td>\n",
       "      <td>...</td>\n",
       "      <td>...</td>\n",
       "      <td>...</td>\n",
       "      <td>...</td>\n",
       "      <td>...</td>\n",
       "      <td>...</td>\n",
       "      <td>...</td>\n",
       "    </tr>\n",
       "    <tr>\n",
       "      <th>660</th>\n",
       "      <td>FLY Dreams</td>\n",
       "      <td>한민국1996.03.07</td>\n",
       "      <td>SUP</td>\n",
       "      <td>탐 켄치</td>\n",
       "      <td>1</td>\n",
       "      <td>0%</td>\n",
       "      <td>1.0</td>\n",
       "      <td>4.0</td>\n",
       "      <td>0.0</td>\n",
       "      <td>0.3</td>\n",
       "      <td>0</td>\n",
       "      <td>1</td>\n",
       "      <td>143</td>\n",
       "    </tr>\n",
       "    <tr>\n",
       "      <th>661</th>\n",
       "      <td>FLY Dreams</td>\n",
       "      <td>한민국1996.03.07</td>\n",
       "      <td>SUP</td>\n",
       "      <td>쓰레쉬</td>\n",
       "      <td>1</td>\n",
       "      <td>0%</td>\n",
       "      <td>1.0</td>\n",
       "      <td>5.0</td>\n",
       "      <td>3.0</td>\n",
       "      <td>0.8</td>\n",
       "      <td>0</td>\n",
       "      <td>1</td>\n",
       "      <td>75</td>\n",
       "    </tr>\n",
       "    <tr>\n",
       "      <th>662</th>\n",
       "      <td>FLY Dreams</td>\n",
       "      <td>한민국1996.03.07</td>\n",
       "      <td>SUP</td>\n",
       "      <td>카르마</td>\n",
       "      <td>1</td>\n",
       "      <td>100.0%</td>\n",
       "      <td>2.0</td>\n",
       "      <td>3.0</td>\n",
       "      <td>17.0</td>\n",
       "      <td>6.3</td>\n",
       "      <td>1</td>\n",
       "      <td>0</td>\n",
       "      <td>156</td>\n",
       "    </tr>\n",
       "    <tr>\n",
       "      <th>663</th>\n",
       "      <td>FLY Dreams</td>\n",
       "      <td>한민국1996.03.07</td>\n",
       "      <td>SUP</td>\n",
       "      <td>라칸</td>\n",
       "      <td>1</td>\n",
       "      <td>0%</td>\n",
       "      <td>0.0</td>\n",
       "      <td>2.0</td>\n",
       "      <td>4.0</td>\n",
       "      <td>2.0</td>\n",
       "      <td>0</td>\n",
       "      <td>1</td>\n",
       "      <td>67</td>\n",
       "    </tr>\n",
       "    <tr>\n",
       "      <th>664</th>\n",
       "      <td>FLY Dreams</td>\n",
       "      <td>한민국1996.03.07</td>\n",
       "      <td>SUP</td>\n",
       "      <td>세트</td>\n",
       "      <td>1</td>\n",
       "      <td>100.0%</td>\n",
       "      <td>0.0</td>\n",
       "      <td>3.0</td>\n",
       "      <td>13.0</td>\n",
       "      <td>4.3</td>\n",
       "      <td>1</td>\n",
       "      <td>0</td>\n",
       "      <td>166</td>\n",
       "    </tr>\n",
       "  </tbody>\n",
       "</table>\n",
       "<p>665 rows × 13 columns</p>\n",
       "</div>"
      ],
      "text/plain": [
       "      call_name              player_name line champion  game win_rate  kill  \\\n",
       "0    TL Alphari  Barney Morris1999.10.20  TOP      제이스     7    71.4%   4.0   \n",
       "1    TL Alphari  Barney Morris1999.10.20  TOP       카밀     5    80.0%   2.8   \n",
       "2    TL Alphari  Barney Morris1999.10.20  TOP     갱플랭크     5    60.0%   2.2   \n",
       "3    TL Alphari  Barney Morris1999.10.20  TOP      레넥톤     4    25.0%   1.8   \n",
       "4    TL Alphari  Barney Morris1999.10.20  TOP       나르     3    33.3%   1.3   \n",
       "..          ...                      ...  ...      ...   ...      ...   ...   \n",
       "660  FLY Dreams            한민국1996.03.07  SUP     탐 켄치     1       0%   1.0   \n",
       "661  FLY Dreams            한민국1996.03.07  SUP      쓰레쉬     1       0%   1.0   \n",
       "662  FLY Dreams            한민국1996.03.07  SUP      카르마     1   100.0%   2.0   \n",
       "663  FLY Dreams            한민국1996.03.07  SUP       라칸     1       0%   0.0   \n",
       "664  FLY Dreams            한민국1996.03.07  SUP       세트     1   100.0%   0.0   \n",
       "\n",
       "     death  assist  kda  win  lose  dpm  \n",
       "0      1.9     7.7  6.3    5     2  722  \n",
       "1      1.4     4.2  5.0    4     1  400  \n",
       "2      1.4     6.4  6.1    3     2  627  \n",
       "3      2.8     6.0  2.8    1     3  336  \n",
       "4      1.3     4.7  4.5    1     2  424  \n",
       "..     ...     ...  ...  ...   ...  ...  \n",
       "660    4.0     0.0  0.3    0     1  143  \n",
       "661    5.0     3.0  0.8    0     1   75  \n",
       "662    3.0    17.0  6.3    1     0  156  \n",
       "663    2.0     4.0  2.0    0     1   67  \n",
       "664    3.0    13.0  4.3    1     0  166  \n",
       "\n",
       "[665 rows x 13 columns]"
      ]
     },
     "execution_count": 4,
     "metadata": {},
     "output_type": "execute_result"
    }
   ],
   "source": [
    "LCS"
   ]
  },
  {
   "cell_type": "code",
   "execution_count": 5,
   "id": "51b09edb",
   "metadata": {},
   "outputs": [
    {
     "data": {
      "text/html": [
       "<div>\n",
       "<style scoped>\n",
       "    .dataframe tbody tr th:only-of-type {\n",
       "        vertical-align: middle;\n",
       "    }\n",
       "\n",
       "    .dataframe tbody tr th {\n",
       "        vertical-align: top;\n",
       "    }\n",
       "\n",
       "    .dataframe thead th {\n",
       "        text-align: right;\n",
       "    }\n",
       "</style>\n",
       "<table border=\"1\" class=\"dataframe\">\n",
       "  <thead>\n",
       "    <tr style=\"text-align: right;\">\n",
       "      <th></th>\n",
       "      <th>champion</th>\n",
       "      <th>game</th>\n",
       "      <th>kill</th>\n",
       "      <th>death</th>\n",
       "      <th>assist</th>\n",
       "      <th>kda</th>\n",
       "      <th>win</th>\n",
       "      <th>lose</th>\n",
       "      <th>dpm</th>\n",
       "    </tr>\n",
       "  </thead>\n",
       "  <tbody>\n",
       "    <tr>\n",
       "      <th>23</th>\n",
       "      <td>리 신</td>\n",
       "      <td>99</td>\n",
       "      <td>81.1</td>\n",
       "      <td>94.0</td>\n",
       "      <td>174.8</td>\n",
       "      <td>107.6</td>\n",
       "      <td>47</td>\n",
       "      <td>52</td>\n",
       "      <td>10343</td>\n",
       "    </tr>\n",
       "    <tr>\n",
       "      <th>39</th>\n",
       "      <td>비에고</td>\n",
       "      <td>86</td>\n",
       "      <td>86.5</td>\n",
       "      <td>66.7</td>\n",
       "      <td>129.4</td>\n",
       "      <td>120.0</td>\n",
       "      <td>42</td>\n",
       "      <td>44</td>\n",
       "      <td>9873</td>\n",
       "    </tr>\n",
       "    <tr>\n",
       "      <th>17</th>\n",
       "      <td>레오나</td>\n",
       "      <td>74</td>\n",
       "      <td>6.5</td>\n",
       "      <td>35.3</td>\n",
       "      <td>76.1</td>\n",
       "      <td>25.3</td>\n",
       "      <td>37</td>\n",
       "      <td>37</td>\n",
       "      <td>1060</td>\n",
       "    </tr>\n",
       "    <tr>\n",
       "      <th>33</th>\n",
       "      <td>바루스</td>\n",
       "      <td>67</td>\n",
       "      <td>30.7</td>\n",
       "      <td>27.0</td>\n",
       "      <td>53.0</td>\n",
       "      <td>40.9</td>\n",
       "      <td>34</td>\n",
       "      <td>33</td>\n",
       "      <td>6883</td>\n",
       "    </tr>\n",
       "    <tr>\n",
       "      <th>11</th>\n",
       "      <td>다이애나</td>\n",
       "      <td>61</td>\n",
       "      <td>39.9</td>\n",
       "      <td>33.3</td>\n",
       "      <td>92.8</td>\n",
       "      <td>54.3</td>\n",
       "      <td>41</td>\n",
       "      <td>20</td>\n",
       "      <td>5050</td>\n",
       "    </tr>\n",
       "    <tr>\n",
       "      <th>6</th>\n",
       "      <td>노틸러스</td>\n",
       "      <td>56</td>\n",
       "      <td>7.4</td>\n",
       "      <td>28.4</td>\n",
       "      <td>78.9</td>\n",
       "      <td>33.6</td>\n",
       "      <td>31</td>\n",
       "      <td>25</td>\n",
       "      <td>1377</td>\n",
       "    </tr>\n",
       "    <tr>\n",
       "      <th>16</th>\n",
       "      <td>레넥톤</td>\n",
       "      <td>52</td>\n",
       "      <td>25.3</td>\n",
       "      <td>39.6</td>\n",
       "      <td>62.3</td>\n",
       "      <td>33.1</td>\n",
       "      <td>29</td>\n",
       "      <td>23</td>\n",
       "      <td>4642</td>\n",
       "    </tr>\n",
       "    <tr>\n",
       "      <th>52</th>\n",
       "      <td>신 짜오</td>\n",
       "      <td>52</td>\n",
       "      <td>24.1</td>\n",
       "      <td>33.5</td>\n",
       "      <td>53.9</td>\n",
       "      <td>32.4</td>\n",
       "      <td>28</td>\n",
       "      <td>24</td>\n",
       "      <td>3393</td>\n",
       "    </tr>\n",
       "    <tr>\n",
       "      <th>74</th>\n",
       "      <td>이즈리얼</td>\n",
       "      <td>52</td>\n",
       "      <td>45.1</td>\n",
       "      <td>24.3</td>\n",
       "      <td>63.3</td>\n",
       "      <td>63.4</td>\n",
       "      <td>24</td>\n",
       "      <td>28</td>\n",
       "      <td>9045</td>\n",
       "    </tr>\n",
       "    <tr>\n",
       "      <th>101</th>\n",
       "      <td>트리스타나</td>\n",
       "      <td>49</td>\n",
       "      <td>57.8</td>\n",
       "      <td>39.3</td>\n",
       "      <td>77.4</td>\n",
       "      <td>76.3</td>\n",
       "      <td>28</td>\n",
       "      <td>21</td>\n",
       "      <td>8297</td>\n",
       "    </tr>\n",
       "  </tbody>\n",
       "</table>\n",
       "</div>"
      ],
      "text/plain": [
       "    champion  game  kill  death  assist    kda  win  lose    dpm\n",
       "23       리 신    99  81.1   94.0   174.8  107.6   47    52  10343\n",
       "39       비에고    86  86.5   66.7   129.4  120.0   42    44   9873\n",
       "17       레오나    74   6.5   35.3    76.1   25.3   37    37   1060\n",
       "33       바루스    67  30.7   27.0    53.0   40.9   34    33   6883\n",
       "11      다이애나    61  39.9   33.3    92.8   54.3   41    20   5050\n",
       "6       노틸러스    56   7.4   28.4    78.9   33.6   31    25   1377\n",
       "16       레넥톤    52  25.3   39.6    62.3   33.1   29    23   4642\n",
       "52      신 짜오    52  24.1   33.5    53.9   32.4   28    24   3393\n",
       "74      이즈리얼    52  45.1   24.3    63.3   63.4   24    28   9045\n",
       "101    트리스타나    49  57.8   39.3    77.4   76.3   28    21   8297"
      ]
     },
     "execution_count": 5,
     "metadata": {},
     "output_type": "execute_result"
    }
   ],
   "source": [
    "# 가장 많이 사용된 챔피언 \n",
    "\n",
    "LCS.groupby('champion', as_index=False).sum().sort_values('game', ascending=False).head(10)"
   ]
  },
  {
   "cell_type": "markdown",
   "id": "e38b5f39",
   "metadata": {},
   "source": [
    "- 여기도 생각보다 트리스타나를 많이 쓴다\n",
    "- 메이저리그중에 트타에 관심없는건 LCK 뿐이었다\n",
    "- LCK랑 비슷한 느낌이 들면서도 탑5 아래쪽으로 내려갈수록 라인전이 강한 픽"
   ]
  },
  {
   "cell_type": "code",
   "execution_count": 6,
   "id": "af2924e6",
   "metadata": {},
   "outputs": [
    {
     "data": {
      "text/plain": [
       "106"
      ]
     },
     "execution_count": 6,
     "metadata": {},
     "output_type": "execute_result"
    }
   ],
   "source": [
    "# 총 사용된 챔피언 수\n",
    "len(LCS.groupby('champion', as_index=False).sum().sort_values('game', ascending=False))"
   ]
  },
  {
   "cell_type": "markdown",
   "id": "1e4f3a95",
   "metadata": {},
   "source": [
    "- 가장 많은 챔피언이 사용된 리그는 LCS\n",
    "- 가장 챔피언이 적게 활용된 리그는 LCK 였음"
   ]
  },
  {
   "cell_type": "code",
   "execution_count": 7,
   "id": "b6d25d90",
   "metadata": {},
   "outputs": [
    {
     "data": {
      "text/html": [
       "<div>\n",
       "<style scoped>\n",
       "    .dataframe tbody tr th:only-of-type {\n",
       "        vertical-align: middle;\n",
       "    }\n",
       "\n",
       "    .dataframe tbody tr th {\n",
       "        vertical-align: top;\n",
       "    }\n",
       "\n",
       "    .dataframe thead th {\n",
       "        text-align: right;\n",
       "    }\n",
       "</style>\n",
       "<table border=\"1\" class=\"dataframe\">\n",
       "  <thead>\n",
       "    <tr style=\"text-align: right;\">\n",
       "      <th></th>\n",
       "      <th>champion</th>\n",
       "      <th>game</th>\n",
       "      <th>kill</th>\n",
       "      <th>death</th>\n",
       "      <th>assist</th>\n",
       "      <th>kda</th>\n",
       "      <th>win</th>\n",
       "      <th>lose</th>\n",
       "      <th>dpm</th>\n",
       "    </tr>\n",
       "  </thead>\n",
       "  <tbody>\n",
       "    <tr>\n",
       "      <th>56</th>\n",
       "      <td>아리</td>\n",
       "      <td>1.000000</td>\n",
       "      <td>7.000000</td>\n",
       "      <td>2.000000</td>\n",
       "      <td>9.000000</td>\n",
       "      <td>8.000000</td>\n",
       "      <td>1.000000</td>\n",
       "      <td>0.000000</td>\n",
       "      <td>862.000000</td>\n",
       "    </tr>\n",
       "    <tr>\n",
       "      <th>74</th>\n",
       "      <td>이즈리얼</td>\n",
       "      <td>4.000000</td>\n",
       "      <td>3.469231</td>\n",
       "      <td>1.869231</td>\n",
       "      <td>4.869231</td>\n",
       "      <td>4.876923</td>\n",
       "      <td>1.846154</td>\n",
       "      <td>2.153846</td>\n",
       "      <td>695.769231</td>\n",
       "    </tr>\n",
       "    <tr>\n",
       "      <th>92</th>\n",
       "      <td>케이틀린</td>\n",
       "      <td>1.000000</td>\n",
       "      <td>3.000000</td>\n",
       "      <td>1.000000</td>\n",
       "      <td>5.000000</td>\n",
       "      <td>8.000000</td>\n",
       "      <td>1.000000</td>\n",
       "      <td>0.000000</td>\n",
       "      <td>680.000000</td>\n",
       "    </tr>\n",
       "    <tr>\n",
       "      <th>33</th>\n",
       "      <td>바루스</td>\n",
       "      <td>6.090909</td>\n",
       "      <td>2.790909</td>\n",
       "      <td>2.454545</td>\n",
       "      <td>4.818182</td>\n",
       "      <td>3.718182</td>\n",
       "      <td>3.090909</td>\n",
       "      <td>3.000000</td>\n",
       "      <td>625.727273</td>\n",
       "    </tr>\n",
       "    <tr>\n",
       "      <th>1</th>\n",
       "      <td>갱플랭크</td>\n",
       "      <td>3.714286</td>\n",
       "      <td>1.971429</td>\n",
       "      <td>2.471429</td>\n",
       "      <td>5.057143</td>\n",
       "      <td>4.114286</td>\n",
       "      <td>1.571429</td>\n",
       "      <td>2.142857</td>\n",
       "      <td>613.000000</td>\n",
       "    </tr>\n",
       "    <tr>\n",
       "      <th>40</th>\n",
       "      <td>빅토르</td>\n",
       "      <td>2.333333</td>\n",
       "      <td>3.333333</td>\n",
       "      <td>2.333333</td>\n",
       "      <td>5.066667</td>\n",
       "      <td>5.066667</td>\n",
       "      <td>2.000000</td>\n",
       "      <td>0.333333</td>\n",
       "      <td>602.666667</td>\n",
       "    </tr>\n",
       "    <tr>\n",
       "      <th>79</th>\n",
       "      <td>조이</td>\n",
       "      <td>1.250000</td>\n",
       "      <td>3.125000</td>\n",
       "      <td>4.875000</td>\n",
       "      <td>7.000000</td>\n",
       "      <td>2.450000</td>\n",
       "      <td>0.500000</td>\n",
       "      <td>0.750000</td>\n",
       "      <td>602.250000</td>\n",
       "    </tr>\n",
       "    <tr>\n",
       "      <th>98</th>\n",
       "      <td>탈리야</td>\n",
       "      <td>1.000000</td>\n",
       "      <td>4.000000</td>\n",
       "      <td>3.000000</td>\n",
       "      <td>5.000000</td>\n",
       "      <td>3.000000</td>\n",
       "      <td>0.000000</td>\n",
       "      <td>1.000000</td>\n",
       "      <td>602.000000</td>\n",
       "    </tr>\n",
       "    <tr>\n",
       "      <th>50</th>\n",
       "      <td>스웨인</td>\n",
       "      <td>1.000000</td>\n",
       "      <td>4.000000</td>\n",
       "      <td>3.000000</td>\n",
       "      <td>9.000000</td>\n",
       "      <td>4.300000</td>\n",
       "      <td>1.000000</td>\n",
       "      <td>0.000000</td>\n",
       "      <td>598.000000</td>\n",
       "    </tr>\n",
       "    <tr>\n",
       "      <th>35</th>\n",
       "      <td>베인</td>\n",
       "      <td>2.000000</td>\n",
       "      <td>6.500000</td>\n",
       "      <td>1.500000</td>\n",
       "      <td>11.500000</td>\n",
       "      <td>12.000000</td>\n",
       "      <td>2.000000</td>\n",
       "      <td>0.000000</td>\n",
       "      <td>581.000000</td>\n",
       "    </tr>\n",
       "  </tbody>\n",
       "</table>\n",
       "</div>"
      ],
      "text/plain": [
       "   champion      game      kill     death     assist        kda       win  \\\n",
       "56       아리  1.000000  7.000000  2.000000   9.000000   8.000000  1.000000   \n",
       "74     이즈리얼  4.000000  3.469231  1.869231   4.869231   4.876923  1.846154   \n",
       "92     케이틀린  1.000000  3.000000  1.000000   5.000000   8.000000  1.000000   \n",
       "33      바루스  6.090909  2.790909  2.454545   4.818182   3.718182  3.090909   \n",
       "1      갱플랭크  3.714286  1.971429  2.471429   5.057143   4.114286  1.571429   \n",
       "40      빅토르  2.333333  3.333333  2.333333   5.066667   5.066667  2.000000   \n",
       "79       조이  1.250000  3.125000  4.875000   7.000000   2.450000  0.500000   \n",
       "98      탈리야  1.000000  4.000000  3.000000   5.000000   3.000000  0.000000   \n",
       "50      스웨인  1.000000  4.000000  3.000000   9.000000   4.300000  1.000000   \n",
       "35       베인  2.000000  6.500000  1.500000  11.500000  12.000000  2.000000   \n",
       "\n",
       "        lose         dpm  \n",
       "56  0.000000  862.000000  \n",
       "74  2.153846  695.769231  \n",
       "92  0.000000  680.000000  \n",
       "33  3.000000  625.727273  \n",
       "1   2.142857  613.000000  \n",
       "40  0.333333  602.666667  \n",
       "79  0.750000  602.250000  \n",
       "98  1.000000  602.000000  \n",
       "50  0.000000  598.000000  \n",
       "35  0.000000  581.000000  "
      ]
     },
     "execution_count": 7,
     "metadata": {},
     "output_type": "execute_result"
    }
   ],
   "source": [
    "# DPM은 원딜들이 확실히 높음\n",
    "LCS.groupby('champion', as_index=False).mean().sort_values('dpm', ascending=False).nlargest(10,'dpm')"
   ]
  },
  {
   "cell_type": "markdown",
   "id": "d82b3d73",
   "metadata": {},
   "source": [
    "# 다른 정보도 확인하기 위해 데이터 변경"
   ]
  },
  {
   "cell_type": "code",
   "execution_count": 8,
   "id": "469a05f6",
   "metadata": {
    "scrolled": true
   },
   "outputs": [
    {
     "name": "stdout",
     "output_type": "stream",
     "text": [
      "<class 'pandas.core.frame.DataFrame'>\n",
      "Int64Index: 905 entries, 0 to 669\n",
      "Data columns (total 29 columns):\n",
      " #   Column             Non-Null Count  Dtype \n",
      "---  ------             --------------  ----- \n",
      " 0   game_date          905 non-null    object\n",
      " 1   version            905 non-null    object\n",
      " 2   team1_name         905 non-null    object\n",
      " 3   team1_score        905 non-null    int64 \n",
      " 4   team2_score        905 non-null    int64 \n",
      " 5   team2_name         905 non-null    object\n",
      " 6   gametime           905 non-null    object\n",
      " 7   blue_team          905 non-null    object\n",
      " 8   blue_score         905 non-null    int64 \n",
      " 9   blue_ban           905 non-null    object\n",
      " 10  blue_object        905 non-null    object\n",
      " 11  blue_object_count  905 non-null    int64 \n",
      " 12  blue_call_name     905 non-null    object\n",
      " 13  blue_line          905 non-null    object\n",
      " 14  blue_champion      905 non-null    object\n",
      " 15  blue_kill          905 non-null    int64 \n",
      " 16  blue_death         905 non-null    object\n",
      " 17  blue_assist        905 non-null    object\n",
      " 18  red_team           905 non-null    object\n",
      " 19  red_score          905 non-null    int64 \n",
      " 20  red_ban            905 non-null    object\n",
      " 21  red_object         905 non-null    object\n",
      " 22  red_object_count   905 non-null    int64 \n",
      " 23  red_call_name      905 non-null    object\n",
      " 24  red_line           905 non-null    object\n",
      " 25  red_champion       905 non-null    object\n",
      " 26  red_kill           905 non-null    int64 \n",
      " 27  red_death          905 non-null    object\n",
      " 28  red_assist         905 non-null    object\n",
      "dtypes: int64(8), object(21)\n",
      "memory usage: 212.1+ KB\n"
     ]
    }
   ],
   "source": [
    "LCS = pd.read_csv('projectData/LCS3_RESULT.csv', index_col=0, encoding='CP949')\n",
    "LCS['version'] = LCS['version'].str.replace('버전','')\n",
    "LCS['version'] = LCS['version'].str.replace(' ','')\n",
    "LCS['version'] = LCS['version'].str.replace('<!----><!---->','')\n",
    "ind = LCS[LCS['version'] == '11.5'].index\n",
    "LCS = LCS.drop(index=ind)\n",
    "LCS.info()"
   ]
  },
  {
   "cell_type": "code",
   "execution_count": 9,
   "id": "e72b7ca6",
   "metadata": {},
   "outputs": [],
   "source": [
    "# 챔피언 활용도 체크\n",
    "a = LCS['blue_champion'].value_counts().head(8)\n",
    "b = LCS['red_champion'].value_counts().head(8)"
   ]
  },
  {
   "cell_type": "code",
   "execution_count": 10,
   "id": "137abc29",
   "metadata": {},
   "outputs": [],
   "source": [
    "# 파렛트 설정\n",
    "sns.set_palette('Pastel2')"
   ]
  },
  {
   "cell_type": "code",
   "execution_count": 11,
   "id": "a8f16e6e",
   "metadata": {},
   "outputs": [
    {
     "name": "stderr",
     "output_type": "stream",
     "text": [
      "C:\\Users\\LUNA\\anaconda3\\lib\\site-packages\\seaborn\\_decorators.py:36: FutureWarning: Pass the following variables as keyword args: x, y. From version 0.12, the only valid positional argument will be `data`, and passing other arguments without an explicit keyword will result in an error or misinterpretation.\n",
      "  warnings.warn(\n",
      "C:\\Users\\LUNA\\anaconda3\\lib\\site-packages\\seaborn\\_decorators.py:36: FutureWarning: Pass the following variables as keyword args: x, y. From version 0.12, the only valid positional argument will be `data`, and passing other arguments without an explicit keyword will result in an error or misinterpretation.\n",
      "  warnings.warn(\n"
     ]
    },
    {
     "data": {
      "image/png": "[encoded data removed]",
      "text/plain": [
       "<Figure size 1440x720 with 2 Axes>"
      ]
     },
     "metadata": {
      "needs_background": "light"
     },
     "output_type": "display_data"
    }
   ],
   "source": [
    "# 시각화해서 진영별 픽 확인\n",
    "fig, ax1= plt.subplots(nrows=1, ncols=2, figsize=(20,10))\n",
    "\n",
    "\n",
    "sns.barplot(a.index, a.values, ax=ax1[0])\n",
    "ax1[0].set_title('Blue_pick', weight = 'bold')\n",
    "\n",
    "sns.barplot(b.index, b.values, ax=ax1[1])\n",
    "ax1[1].set_title('Red_pick', weight = 'bold')\n",
    "\n",
    "\n",
    "plt.show()"
   ]
  },
  {
   "cell_type": "markdown",
   "id": "a894388d",
   "metadata": {},
   "source": [
    "- 블루쪽에서 이즈리얼, 바루스같은 원딜픽이 많이보인다\n",
    "- 레드가 바루스 가져가면 이즈리얼 가져오는 형태일 거같음\n",
    "- LCK와 유사한 픽형태로 리신, 비에고 가져가면 레드가 다이애나 가져오는 형태 아닐까\n"
   ]
  },
  {
   "cell_type": "code",
   "execution_count": 12,
   "id": "49c61e41",
   "metadata": {},
   "outputs": [],
   "source": [
    "# 픽 말고 밴이 가장 많이된 챔프를 확인해보자\n",
    "ban_a  =LCS[['blue_ban']]\n",
    "ban_a.columns=['ban']\n",
    "ban_b  =LCS[['red_ban']]\n",
    "ban_b.columns=['ban']\n",
    "ban_all =pd.concat([ban_a,ban_b])"
   ]
  },
  {
   "cell_type": "code",
   "execution_count": 13,
   "id": "4177563a",
   "metadata": {},
   "outputs": [
    {
     "data": {
      "text/plain": [
       "ban \n",
       "쓰레쉬     112\n",
       "신 짜오    107\n",
       "레넥톤      90\n",
       "칼리스타     80\n",
       "그웬       75\n",
       "비에고      69\n",
       "르블랑      67\n",
       "바루스      57\n",
       "루시안      56\n",
       "리 신      53\n",
       "dtype: int64"
      ]
     },
     "execution_count": 13,
     "metadata": {},
     "output_type": "execute_result"
    }
   ],
   "source": [
    "# 밴카드 상위 10개 확인\n",
    "ban_all.value_counts().head(10)"
   ]
  },
  {
   "cell_type": "code",
   "execution_count": 14,
   "id": "b0db8046",
   "metadata": {},
   "outputs": [
    {
     "data": {
      "image/png": "[encoded data removed]",
      "text/plain": [
       "<Figure size 1440x720 with 1 Axes>"
      ]
     },
     "metadata": {
      "needs_background": "light"
     },
     "output_type": "display_data"
    }
   ],
   "source": [
    "# 그래프 형태로 정리해서 확인\n",
    "ban_all.value_counts().head(10).plot.bar(rot=0)\n",
    "plt.show()"
   ]
  },
  {
   "cell_type": "markdown",
   "id": "149cdded",
   "metadata": {},
   "source": [
    "- 쓰레쉬에 벤을 많이 투자함\n",
    "- 유틸 서폿을 활용하는 것도 아닌데 왜 쓰레쉬를 벤하는 걸까\n",
    "- 그 밖에 신짜오, 레넥톤, 칼리스타 같이 초반 강력한 챔프들"
   ]
  },
  {
   "cell_type": "code",
   "execution_count": 15,
   "id": "86e25f6d",
   "metadata": {},
   "outputs": [],
   "source": [
    "# 데이터 잠시 바꿔서 확인해보겠음\n",
    "LCS2 = pd.read_csv(\"projectData/LCS1.csv\", index_col=0)"
   ]
  },
  {
   "cell_type": "code",
   "execution_count": 16,
   "id": "7238ced8",
   "metadata": {},
   "outputs": [
    {
     "data": {
      "text/html": [
       "<div>\n",
       "<style scoped>\n",
       "    .dataframe tbody tr th:only-of-type {\n",
       "        vertical-align: middle;\n",
       "    }\n",
       "\n",
       "    .dataframe tbody tr th {\n",
       "        vertical-align: top;\n",
       "    }\n",
       "\n",
       "    .dataframe thead th {\n",
       "        text-align: right;\n",
       "    }\n",
       "</style>\n",
       "<table border=\"1\" class=\"dataframe\">\n",
       "  <thead>\n",
       "    <tr style=\"text-align: right;\">\n",
       "      <th></th>\n",
       "      <th>game</th>\n",
       "      <th>kill</th>\n",
       "      <th>death</th>\n",
       "      <th>assist</th>\n",
       "      <th>kda</th>\n",
       "      <th>win</th>\n",
       "      <th>lose</th>\n",
       "      <th>dpm</th>\n",
       "    </tr>\n",
       "    <tr>\n",
       "      <th>champion</th>\n",
       "      <th></th>\n",
       "      <th></th>\n",
       "      <th></th>\n",
       "      <th></th>\n",
       "      <th></th>\n",
       "      <th></th>\n",
       "      <th></th>\n",
       "      <th></th>\n",
       "    </tr>\n",
       "  </thead>\n",
       "  <tbody>\n",
       "    <tr>\n",
       "      <th>아펠리오스</th>\n",
       "      <td>41</td>\n",
       "      <td>23.1</td>\n",
       "      <td>23.3</td>\n",
       "      <td>25.7</td>\n",
       "      <td>26.6</td>\n",
       "      <td>15</td>\n",
       "      <td>26</td>\n",
       "      <td>4437</td>\n",
       "    </tr>\n",
       "  </tbody>\n",
       "</table>\n",
       "</div>"
      ],
      "text/plain": [
       "          game  kill  death  assist   kda  win  lose   dpm\n",
       "champion                                                  \n",
       "아펠리오스       41  23.1   23.3    25.7  26.6   15    26  4437"
      ]
     },
     "execution_count": 16,
     "metadata": {},
     "output_type": "execute_result"
    }
   ],
   "source": [
    "LCS2[LCS2['champion'] == '아펠리오스'].groupby('champion').sum()"
   ]
  },
  {
   "cell_type": "code",
   "execution_count": 17,
   "id": "cd22390b",
   "metadata": {},
   "outputs": [
    {
     "data": {
      "text/html": [
       "<div>\n",
       "<style scoped>\n",
       "    .dataframe tbody tr th:only-of-type {\n",
       "        vertical-align: middle;\n",
       "    }\n",
       "\n",
       "    .dataframe tbody tr th {\n",
       "        vertical-align: top;\n",
       "    }\n",
       "\n",
       "    .dataframe thead th {\n",
       "        text-align: right;\n",
       "    }\n",
       "</style>\n",
       "<table border=\"1\" class=\"dataframe\">\n",
       "  <thead>\n",
       "    <tr style=\"text-align: right;\">\n",
       "      <th></th>\n",
       "      <th>game</th>\n",
       "      <th>kill</th>\n",
       "      <th>death</th>\n",
       "      <th>assist</th>\n",
       "      <th>kda</th>\n",
       "      <th>win</th>\n",
       "      <th>lose</th>\n",
       "      <th>dpm</th>\n",
       "    </tr>\n",
       "    <tr>\n",
       "      <th>champion</th>\n",
       "      <th></th>\n",
       "      <th></th>\n",
       "      <th></th>\n",
       "      <th></th>\n",
       "      <th></th>\n",
       "      <th></th>\n",
       "      <th></th>\n",
       "      <th></th>\n",
       "    </tr>\n",
       "  </thead>\n",
       "  <tbody>\n",
       "    <tr>\n",
       "      <th>징크스</th>\n",
       "      <td>8</td>\n",
       "      <td>13.0</td>\n",
       "      <td>14.5</td>\n",
       "      <td>6.8</td>\n",
       "      <td>7.9</td>\n",
       "      <td>2</td>\n",
       "      <td>6</td>\n",
       "      <td>2374</td>\n",
       "    </tr>\n",
       "  </tbody>\n",
       "</table>\n",
       "</div>"
      ],
      "text/plain": [
       "          game  kill  death  assist  kda  win  lose   dpm\n",
       "champion                                                 \n",
       "징크스          8  13.0   14.5     6.8  7.9    2     6  2374"
      ]
     },
     "execution_count": 17,
     "metadata": {},
     "output_type": "execute_result"
    }
   ],
   "source": [
    "LCS2[LCS2['champion'] == '징크스'].groupby('champion').sum()"
   ]
  },
  {
   "cell_type": "code",
   "execution_count": 18,
   "id": "28f4d8a6",
   "metadata": {},
   "outputs": [
    {
     "data": {
      "text/plain": [
       "ban    15\n",
       "dtype: int64"
      ]
     },
     "execution_count": 18,
     "metadata": {},
     "output_type": "execute_result"
    }
   ],
   "source": [
    "ban_all[ban_all['ban'] =='아펠리오스'].count()"
   ]
  },
  {
   "cell_type": "markdown",
   "id": "42801d12",
   "metadata": {},
   "source": [
    "- 쓰레쉬를 벤하는 이유가 아펠리오스,징크스 같은 하드캐리 원딜에 대한 고평가에 있지않을까 생각했음\n",
    "- 근데 둘 다 생각보다 그렇게 좋은 성적은 아님\n",
    "- 랜턴이나 그랩같은 스킬셋을 가진 쓰레쉬 자체에 대한 고평가인듯"
   ]
  },
  {
   "cell_type": "markdown",
   "id": "f07b75f6",
   "metadata": {},
   "source": [
    "## 오브젝트 확인"
   ]
  },
  {
   "cell_type": "code",
   "execution_count": 19,
   "id": "fd476ef0",
   "metadata": {},
   "outputs": [
    {
     "data": {
      "text/html": [
       "<div>\n",
       "<style scoped>\n",
       "    .dataframe tbody tr th:only-of-type {\n",
       "        vertical-align: middle;\n",
       "    }\n",
       "\n",
       "    .dataframe tbody tr th {\n",
       "        vertical-align: top;\n",
       "    }\n",
       "\n",
       "    .dataframe thead th {\n",
       "        text-align: right;\n",
       "    }\n",
       "</style>\n",
       "<table border=\"1\" class=\"dataframe\">\n",
       "  <thead>\n",
       "    <tr style=\"text-align: right;\">\n",
       "      <th></th>\n",
       "      <th>blue_object</th>\n",
       "      <th>blue_object_count</th>\n",
       "      <th>red_object</th>\n",
       "      <th>red_object_count</th>\n",
       "    </tr>\n",
       "  </thead>\n",
       "  <tbody>\n",
       "    <tr>\n",
       "      <th>0</th>\n",
       "      <td>turret@blue</td>\n",
       "      <td>8</td>\n",
       "      <td>turret@red</td>\n",
       "      <td>1</td>\n",
       "    </tr>\n",
       "    <tr>\n",
       "      <th>1</th>\n",
       "      <td>inhibitor@blue</td>\n",
       "      <td>1</td>\n",
       "      <td>inhibitor@red</td>\n",
       "      <td>0</td>\n",
       "    </tr>\n",
       "    <tr>\n",
       "      <th>2</th>\n",
       "      <td>baron@blue</td>\n",
       "      <td>1</td>\n",
       "      <td>baron@red</td>\n",
       "      <td>0</td>\n",
       "    </tr>\n",
       "    <tr>\n",
       "      <th>3</th>\n",
       "      <td>dragon@blue</td>\n",
       "      <td>4</td>\n",
       "      <td>dragon@red</td>\n",
       "      <td>0</td>\n",
       "    </tr>\n",
       "    <tr>\n",
       "      <th>4</th>\n",
       "      <td>riftHerald@blue</td>\n",
       "      <td>2</td>\n",
       "      <td>riftHerald@red</td>\n",
       "      <td>0</td>\n",
       "    </tr>\n",
       "    <tr>\n",
       "      <th>...</th>\n",
       "      <td>...</td>\n",
       "      <td>...</td>\n",
       "      <td>...</td>\n",
       "      <td>...</td>\n",
       "    </tr>\n",
       "    <tr>\n",
       "      <th>665</th>\n",
       "      <td>turret@blue</td>\n",
       "      <td>4</td>\n",
       "      <td>turret@red</td>\n",
       "      <td>11</td>\n",
       "    </tr>\n",
       "    <tr>\n",
       "      <th>666</th>\n",
       "      <td>inhibitor@blue</td>\n",
       "      <td>0</td>\n",
       "      <td>inhibitor@red</td>\n",
       "      <td>3</td>\n",
       "    </tr>\n",
       "    <tr>\n",
       "      <th>667</th>\n",
       "      <td>baron@blue</td>\n",
       "      <td>0</td>\n",
       "      <td>baron@red</td>\n",
       "      <td>3</td>\n",
       "    </tr>\n",
       "    <tr>\n",
       "      <th>668</th>\n",
       "      <td>dragon@blue</td>\n",
       "      <td>1</td>\n",
       "      <td>dragon@red</td>\n",
       "      <td>6</td>\n",
       "    </tr>\n",
       "    <tr>\n",
       "      <th>669</th>\n",
       "      <td>riftHerald@blue</td>\n",
       "      <td>1</td>\n",
       "      <td>riftHerald@red</td>\n",
       "      <td>1</td>\n",
       "    </tr>\n",
       "  </tbody>\n",
       "</table>\n",
       "<p>905 rows × 4 columns</p>\n",
       "</div>"
      ],
      "text/plain": [
       "         blue_object  blue_object_count      red_object  red_object_count\n",
       "0        turret@blue                  8      turret@red                 1\n",
       "1     inhibitor@blue                  1   inhibitor@red                 0\n",
       "2         baron@blue                  1       baron@red                 0\n",
       "3        dragon@blue                  4      dragon@red                 0\n",
       "4    riftHerald@blue                  2  riftHerald@red                 0\n",
       "..               ...                ...             ...               ...\n",
       "665      turret@blue                  4      turret@red                11\n",
       "666   inhibitor@blue                  0   inhibitor@red                 3\n",
       "667       baron@blue                  0       baron@red                 3\n",
       "668      dragon@blue                  1      dragon@red                 6\n",
       "669  riftHerald@blue                  1  riftHerald@red                 1\n",
       "\n",
       "[905 rows x 4 columns]"
      ]
     },
     "execution_count": 19,
     "metadata": {},
     "output_type": "execute_result"
    }
   ],
   "source": [
    "LCS_object = LCS[['blue_object','blue_object_count','red_object','red_object_count']]\n",
    "LCS_object"
   ]
  },
  {
   "cell_type": "code",
   "execution_count": 20,
   "id": "b533037e",
   "metadata": {},
   "outputs": [],
   "source": [
    "# 터렛,억제기만 가져오기\n",
    "LCS_turret = LCS_object[LCS_object['blue_object'] == 'turret@blue']\n",
    "\n",
    "LCS_turret = LCS_turret.drop(columns=['blue_object','red_object'])"
   ]
  },
  {
   "cell_type": "code",
   "execution_count": 21,
   "id": "e8aa138c",
   "metadata": {},
   "outputs": [
    {
     "data": {
      "text/plain": [
       "blue_object_count    6.10\n",
       "red_object_count     6.12\n",
       "dtype: float64"
      ]
     },
     "execution_count": 21,
     "metadata": {},
     "output_type": "execute_result"
    }
   ],
   "source": [
    "# 터렛 파괴 갯수를 경기수로 나누기\n",
    "\n",
    "round(LCS_turret.sum()/(len(LCS)/5), 2)"
   ]
  },
  {
   "cell_type": "code",
   "execution_count": 22,
   "id": "6eedec6e",
   "metadata": {},
   "outputs": [],
   "source": [
    "# 전령 관련 수치 확인\n",
    "LCS_riftHerald  = LCS_object[LCS_object['blue_object'] == 'riftHerald@blue']\n",
    "LCS_riftHerald = LCS_riftHerald.drop(columns=['blue_object','red_object'])"
   ]
  },
  {
   "cell_type": "code",
   "execution_count": 23,
   "id": "7501fea3",
   "metadata": {},
   "outputs": [
    {
     "data": {
      "text/plain": [
       "blue_object_count    1.04\n",
       "red_object_count     0.91\n",
       "dtype: float64"
      ]
     },
     "execution_count": 23,
     "metadata": {},
     "output_type": "execute_result"
    }
   ],
   "source": [
    "round(LCS_riftHerald.sum()/(len(LCS)/5), 2)"
   ]
  },
  {
   "cell_type": "code",
   "execution_count": 24,
   "id": "a2eb02f3",
   "metadata": {},
   "outputs": [],
   "source": [
    "LCS_baron = LCS_object[LCS_object['blue_object'] == 'baron@blue']\n",
    "LCS_baron= LCS_baron.drop(columns=['blue_object','red_object'])"
   ]
  },
  {
   "cell_type": "code",
   "execution_count": 25,
   "id": "88480b31",
   "metadata": {
    "scrolled": true
   },
   "outputs": [
    {
     "data": {
      "text/plain": [
       "blue_object_count    0.59\n",
       "red_object_count     0.77\n",
       "dtype: float64"
      ]
     },
     "execution_count": 25,
     "metadata": {},
     "output_type": "execute_result"
    }
   ],
   "source": [
    "round(LCS_baron.sum()/(len(LCS)/5), 2)"
   ]
  },
  {
   "cell_type": "markdown",
   "id": "acabcb22",
   "metadata": {},
   "source": [
    "- LCS도 바론은 레드가 더 잘먹음"
   ]
  },
  {
   "cell_type": "code",
   "execution_count": 26,
   "id": "a8a36742",
   "metadata": {
    "scrolled": true
   },
   "outputs": [
    {
     "data": {
      "text/plain": [
       "blue_object_count  red_object_count\n",
       "0                  1                   58\n",
       "1                  0                   56\n",
       "0                  2                   20\n",
       "1                  1                   13\n",
       "2                  0                   12\n",
       "0                  0                    8\n",
       "                   3                    5\n",
       "1                  2                    4\n",
       "2                  1                    3\n",
       "1                  3                    1\n",
       "3                  0                    1\n",
       "dtype: int64"
      ]
     },
     "execution_count": 26,
     "metadata": {},
     "output_type": "execute_result"
    }
   ],
   "source": [
    "LCS_baron.value_counts()"
   ]
  },
  {
   "cell_type": "code",
   "execution_count": null,
   "id": "4e07c5ae",
   "metadata": {},
   "outputs": [],
   "source": []
  }
 ],
 "metadata": {
  "kernelspec": {
   "display_name": "Python 3",
   "language": "python",
   "name": "python3"
  },
  "language_info": {
   "codemirror_mode": {
    "name": "ipython",
    "version": 3
   },
   "file_extension": ".py",
   "mimetype": "text/x-python",
   "name": "python",
   "nbconvert_exporter": "python",
   "pygments_lexer": "ipython3",
   "version": "3.8.8"
  }
 },
 "nbformat": 4,
 "nbformat_minor": 5
}
