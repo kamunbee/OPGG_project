{
 "cells": [
  {
   "cell_type": "code",
   "execution_count": 1,
   "id": "362a2c28",
   "metadata": {},
   "outputs": [],
   "source": [
    "import pandas as pd"
   ]
  },
  {
   "cell_type": "code",
   "execution_count": 2,
   "id": "e09c3b92",
   "metadata": {},
   "outputs": [
    {
     "name": "stdout",
     "output_type": "stream",
     "text": [
      "<class 'pandas.core.frame.DataFrame'>\n",
      "Int64Index: 905 entries, 0 to 669\n",
      "Data columns (total 29 columns):\n",
      " #   Column             Non-Null Count  Dtype \n",
      "---  ------             --------------  ----- \n",
      " 0   game_date          905 non-null    object\n",
      " 1   version            905 non-null    object\n",
      " 2   team1_name         905 non-null    object\n",
      " 3   team1_score        905 non-null    int64 \n",
      " 4   team2_score        905 non-null    int64 \n",
      " 5   team2_name         905 non-null    object\n",
      " 6   gametime           905 non-null    object\n",
      " 7   blue_team          905 non-null    object\n",
      " 8   blue_score         905 non-null    int64 \n",
      " 9   blue_ban           905 non-null    object\n",
      " 10  blue_object        905 non-null    object\n",
      " 11  blue_object_count  905 non-null    int64 \n",
      " 12  blue_call_name     905 non-null    object\n",
      " 13  blue_line          905 non-null    object\n",
      " 14  blue_champion      905 non-null    object\n",
      " 15  blue_kill          905 non-null    int64 \n",
      " 16  blue_death         905 non-null    object\n",
      " 17  blue_assist        905 non-null    object\n",
      " 18  red_team           905 non-null    object\n",
      " 19  red_score          905 non-null    int64 \n",
      " 20  red_ban            905 non-null    object\n",
      " 21  red_object         905 non-null    object\n",
      " 22  red_object_count   905 non-null    int64 \n",
      " 23  red_call_name      905 non-null    object\n",
      " 24  red_line           905 non-null    object\n",
      " 25  red_champion       905 non-null    object\n",
      " 26  red_kill           905 non-null    int64 \n",
      " 27  red_death          905 non-null    object\n",
      " 28  red_assist         905 non-null    object\n",
      "dtypes: int64(8), object(21)\n",
      "memory usage: 212.1+ KB\n"
     ]
    }
   ],
   "source": [
    "LCS = pd.read_csv('projectData/LCS3_RESULT.csv', index_col=0, encoding='CP949')\n",
    "LCS['version'] = LCS['version'].str.replace('버전','')\n",
    "LCS['version'] = LCS['version'].str.replace(' ','')\n",
    "LCS['version'] = LCS['version'].str.replace('<!----><!---->','')\n",
    "ind = LCS[LCS['version'] == '11.5'].index\n",
    "LCS = LCS.drop(index=ind)\n",
    "LCS.info()"
   ]
  },
  {
   "cell_type": "markdown",
   "id": "84baeedc",
   "metadata": {},
   "source": [
    "# LCS 리그별 오브젝트 확인"
   ]
  },
  {
   "cell_type": "code",
   "execution_count": 3,
   "id": "3eeff050",
   "metadata": {},
   "outputs": [
    {
     "data": {
      "text/html": [
       "<div>\n",
       "<style scoped>\n",
       "    .dataframe tbody tr th:only-of-type {\n",
       "        vertical-align: middle;\n",
       "    }\n",
       "\n",
       "    .dataframe tbody tr th {\n",
       "        vertical-align: top;\n",
       "    }\n",
       "\n",
       "    .dataframe thead th {\n",
       "        text-align: right;\n",
       "    }\n",
       "</style>\n",
       "<table border=\"1\" class=\"dataframe\">\n",
       "  <thead>\n",
       "    <tr style=\"text-align: right;\">\n",
       "      <th></th>\n",
       "      <th>blue_object</th>\n",
       "      <th>blue_object_count</th>\n",
       "      <th>red_object</th>\n",
       "      <th>red_object_count</th>\n",
       "    </tr>\n",
       "  </thead>\n",
       "  <tbody>\n",
       "    <tr>\n",
       "      <th>0</th>\n",
       "      <td>turret@blue</td>\n",
       "      <td>8</td>\n",
       "      <td>turret@red</td>\n",
       "      <td>1</td>\n",
       "    </tr>\n",
       "    <tr>\n",
       "      <th>1</th>\n",
       "      <td>inhibitor@blue</td>\n",
       "      <td>1</td>\n",
       "      <td>inhibitor@red</td>\n",
       "      <td>0</td>\n",
       "    </tr>\n",
       "    <tr>\n",
       "      <th>2</th>\n",
       "      <td>baron@blue</td>\n",
       "      <td>1</td>\n",
       "      <td>baron@red</td>\n",
       "      <td>0</td>\n",
       "    </tr>\n",
       "    <tr>\n",
       "      <th>3</th>\n",
       "      <td>dragon@blue</td>\n",
       "      <td>4</td>\n",
       "      <td>dragon@red</td>\n",
       "      <td>0</td>\n",
       "    </tr>\n",
       "    <tr>\n",
       "      <th>4</th>\n",
       "      <td>riftHerald@blue</td>\n",
       "      <td>2</td>\n",
       "      <td>riftHerald@red</td>\n",
       "      <td>0</td>\n",
       "    </tr>\n",
       "    <tr>\n",
       "      <th>...</th>\n",
       "      <td>...</td>\n",
       "      <td>...</td>\n",
       "      <td>...</td>\n",
       "      <td>...</td>\n",
       "    </tr>\n",
       "    <tr>\n",
       "      <th>665</th>\n",
       "      <td>turret@blue</td>\n",
       "      <td>4</td>\n",
       "      <td>turret@red</td>\n",
       "      <td>11</td>\n",
       "    </tr>\n",
       "    <tr>\n",
       "      <th>666</th>\n",
       "      <td>inhibitor@blue</td>\n",
       "      <td>0</td>\n",
       "      <td>inhibitor@red</td>\n",
       "      <td>3</td>\n",
       "    </tr>\n",
       "    <tr>\n",
       "      <th>667</th>\n",
       "      <td>baron@blue</td>\n",
       "      <td>0</td>\n",
       "      <td>baron@red</td>\n",
       "      <td>3</td>\n",
       "    </tr>\n",
       "    <tr>\n",
       "      <th>668</th>\n",
       "      <td>dragon@blue</td>\n",
       "      <td>1</td>\n",
       "      <td>dragon@red</td>\n",
       "      <td>6</td>\n",
       "    </tr>\n",
       "    <tr>\n",
       "      <th>669</th>\n",
       "      <td>riftHerald@blue</td>\n",
       "      <td>1</td>\n",
       "      <td>riftHerald@red</td>\n",
       "      <td>1</td>\n",
       "    </tr>\n",
       "  </tbody>\n",
       "</table>\n",
       "<p>905 rows × 4 columns</p>\n",
       "</div>"
      ],
      "text/plain": [
       "         blue_object  blue_object_count      red_object  red_object_count\n",
       "0        turret@blue                  8      turret@red                 1\n",
       "1     inhibitor@blue                  1   inhibitor@red                 0\n",
       "2         baron@blue                  1       baron@red                 0\n",
       "3        dragon@blue                  4      dragon@red                 0\n",
       "4    riftHerald@blue                  2  riftHerald@red                 0\n",
       "..               ...                ...             ...               ...\n",
       "665      turret@blue                  4      turret@red                11\n",
       "666   inhibitor@blue                  0   inhibitor@red                 3\n",
       "667       baron@blue                  0       baron@red                 3\n",
       "668      dragon@blue                  1      dragon@red                 6\n",
       "669  riftHerald@blue                  1  riftHerald@red                 1\n",
       "\n",
       "[905 rows x 4 columns]"
      ]
     },
     "execution_count": 3,
     "metadata": {},
     "output_type": "execute_result"
    }
   ],
   "source": [
    "LCS_object = LCS[['blue_object','blue_object_count','red_object','red_object_count']]\n",
    "LCS_object"
   ]
  },
  {
   "cell_type": "code",
   "execution_count": 4,
   "id": "106c6bfd",
   "metadata": {},
   "outputs": [],
   "source": [
    "a = LCS_object[LCS_object['blue_object'] == 'turret@blue']\n",
    "aa = LCS_object[LCS_object['blue_object'] == 'inhibitor@blue']"
   ]
  },
  {
   "cell_type": "code",
   "execution_count": 5,
   "id": "f0f4ac0c",
   "metadata": {},
   "outputs": [],
   "source": [
    "LCS_turret = a.drop(columns=['blue_object','red_object'])\n",
    "LCS_inhibitor = aa.drop(columns=['blue_object','red_object'])"
   ]
  },
  {
   "cell_type": "code",
   "execution_count": 6,
   "id": "532c206c",
   "metadata": {},
   "outputs": [
    {
     "data": {
      "text/plain": [
       "blue_object_count    1104\n",
       "red_object_count     1107\n",
       "dtype: int64"
      ]
     },
     "execution_count": 6,
     "metadata": {},
     "output_type": "execute_result"
    }
   ],
   "source": [
    "LCS_turret.sum()"
   ]
  },
  {
   "cell_type": "code",
   "execution_count": 1,
   "id": "0a3b1254",
   "metadata": {},
   "outputs": [
    {
     "data": {
      "text/plain": [
       "182"
      ]
     },
     "execution_count": 1,
     "metadata": {},
     "output_type": "execute_result"
    }
   ],
   "source": [
    "135+47"
   ]
  },
  {
   "cell_type": "markdown",
   "id": "24041792",
   "metadata": {},
   "source": [
    "<PRE>\n",
    "LCS는 블루팀일 때 1104개, 레드팀일때 1107개로\n",
    " LCS 서머 경기가 135경기 + 챔피언쉽 47경기\n",
    "\n",
    "둘의 포탑 밀어내기 능력은 큰 차이가 없음    \n",
    "블루팀은 경기당 6.0개\n",
    "레드팀은 경기당 6.0개이며\n",
    "    첫 포탑 획득률도 49: 51 로 서로 매우 비슷한 모습을 보임\n",
    "    \n",
    "포탑은 억제기포탑을 제외하면 거의 모든 포탑을 밀어내는 정도의 갯수임\n",
    " </PRE>"
   ]
  },
  {
   "cell_type": "code",
   "execution_count": 19,
   "id": "2b6731f8",
   "metadata": {},
   "outputs": [],
   "source": [
    "b = LCS_object[LCS_object['blue_object'] == 'riftHerald@blue']"
   ]
  },
  {
   "cell_type": "code",
   "execution_count": 20,
   "id": "a4da9e5f",
   "metadata": {},
   "outputs": [],
   "source": [
    "LCS_riftHerald = b.drop(columns=['blue_object','red_object'])"
   ]
  },
  {
   "cell_type": "code",
   "execution_count": 21,
   "id": "33e8f32d",
   "metadata": {
    "scrolled": true
   },
   "outputs": [
    {
     "data": {
      "text/plain": [
       "blue_object_count    189\n",
       "red_object_count     165\n",
       "dtype: int64"
      ]
     },
     "execution_count": 21,
     "metadata": {},
     "output_type": "execute_result"
    }
   ],
   "source": [
    "LCS_riftHerald.sum()"
   ]
  },
  {
   "cell_type": "markdown",
   "id": "f43312d7",
   "metadata": {},
   "source": [
    "블루나 레드의 전령 획득률이 크게 차이 나지 않는 것을 알 수 있고\n",
    "\n",
    "블루가 전령을 획득했을 때 이를 바탕으로 포탑을 밀어내는 능력이 부족했던건 아닐까 생각함\n",
    "\n",
    "블루팀이 먹는 전령은\n",
    "경기당 1.0마리\n",
    "레드팀의 경우 0.9마리의 전령을 처치함\n",
    "\n",
    "전령은 게임에 두번 나옴\n",
    "\n",
    "LCS는 전령을 서로 나눠먹게 되는 경우가 가장많다\n",
    "\n",
    "이는 첫전령을 활용한 스노우볼 능력이 떨어지기에 발생하는 문제아닐까"
   ]
  },
  {
   "cell_type": "code",
   "execution_count": 11,
   "id": "ae874943",
   "metadata": {},
   "outputs": [],
   "source": [
    "c = LCS_object[LCS_object['blue_object'] == 'dragon@blue']\n",
    "LCS_dragon= c.drop(columns=['blue_object','red_object'])"
   ]
  },
  {
   "cell_type": "code",
   "execution_count": 12,
   "id": "4b5ec3c7",
   "metadata": {
    "scrolled": true
   },
   "outputs": [
    {
     "data": {
      "text/plain": [
       "blue_object_count    372\n",
       "red_object_count     461\n",
       "dtype: int64"
      ]
     },
     "execution_count": 12,
     "metadata": {},
     "output_type": "execute_result"
    }
   ],
   "source": [
    "LCS_dragon.sum()"
   ]
  },
  {
   "cell_type": "markdown",
   "id": "ec4b9b34",
   "metadata": {},
   "source": [
    "LCS의 경우도 LCK와 비슷하게 레드팀이 드래곤에서 우위를 가져감\n",
    "\n",
    "경기당 블루팀은 2.0마리\n",
    "레드팀은 2.5 마리\n",
    "\n",
    "LCK에 비해 부족한 수치"
   ]
  },
  {
   "cell_type": "code",
   "execution_count": 24,
   "id": "b6924a15",
   "metadata": {},
   "outputs": [],
   "source": [
    "d = LCS_object[LCS_object['blue_object'] == 'baron@blue']\n",
    "LCS_baron= d.drop(columns=['blue_object','red_object'])"
   ]
  },
  {
   "cell_type": "code",
   "execution_count": 25,
   "id": "88f61bf3",
   "metadata": {
    "scrolled": true
   },
   "outputs": [
    {
     "data": {
      "text/plain": [
       "blue_object_count    107\n",
       "red_object_count     140\n",
       "dtype: int64"
      ]
     },
     "execution_count": 25,
     "metadata": {},
     "output_type": "execute_result"
    }
   ],
   "source": [
    "LCS_baron.sum()"
   ]
  },
  {
   "cell_type": "markdown",
   "id": "a8116e55",
   "metadata": {},
   "source": [
    " 근데 또 바론의 경우 red가 크게 우위를 가지는 것을 알 수 있음<BR>\n",
    " LCK와 달리 바론은 왜 레드가 잘 먹는걸까\n",
    "    </BR>\n",
    "    \n",
    "    블루팀의 경우 바론 획득은 경기당 0.58마리\n",
    "    레드팀의 경우 0.77마리를 획득함\n",
    "    \n",
    "    LCS는 경기당 1.35마리\n",
    "    "
   ]
  },
  {
   "cell_type": "code",
   "execution_count": 15,
   "id": "6a85d906",
   "metadata": {},
   "outputs": [
    {
     "data": {
      "text/plain": [
       "리 신      54\n",
       "비에고      49\n",
       "이즈리얼     35\n",
       "바루스      32\n",
       "레넥톤      31\n",
       "신 짜오     30\n",
       "레오나      29\n",
       "그웬       24\n",
       "노틸러스     24\n",
       "쓰레쉬      23\n",
       "나르       21\n",
       "다이애나     21\n",
       "트리스타나    21\n",
       "라칸       20\n",
       "럼블       20\n",
       "Name: blue_champion, dtype: int64"
      ]
     },
     "execution_count": 15,
     "metadata": {},
     "output_type": "execute_result"
    }
   ],
   "source": [
    "LCS['blue_champion'].value_counts().head(15)"
   ]
  },
  {
   "cell_type": "code",
   "execution_count": 16,
   "id": "7a3c39fd",
   "metadata": {},
   "outputs": [
    {
     "data": {
      "text/plain": [
       "리 신      45\n",
       "레오나      45\n",
       "다이애나     40\n",
       "비에고      37\n",
       "바루스      35\n",
       "노틸러스     32\n",
       "트리스타나    28\n",
       "칼리스타     27\n",
       "아펠리오스    25\n",
       "루시안      25\n",
       "나르       22\n",
       "신 짜오     22\n",
       "레넥톤      21\n",
       "브라움      20\n",
       "녹턴       19\n",
       "Name: red_champion, dtype: int64"
      ]
     },
     "execution_count": 16,
     "metadata": {},
     "output_type": "execute_result"
    }
   ],
   "source": [
    "LCS['red_champion'].value_counts().head(15)"
   ]
  },
  {
   "cell_type": "code",
   "execution_count": 17,
   "id": "853f6c74",
   "metadata": {},
   "outputs": [
    {
     "data": {
      "text/plain": [
       "쓰레쉬     65\n",
       "레넥톤     43\n",
       "루시안     39\n",
       "칼리스타    38\n",
       "르블랑     35\n",
       "Name: blue_ban, dtype: int64"
      ]
     },
     "execution_count": 17,
     "metadata": {},
     "output_type": "execute_result"
    }
   ],
   "source": [
    "LCS['blue_ban'].value_counts().head(5)"
   ]
  },
  {
   "cell_type": "markdown",
   "id": "8f70f935",
   "metadata": {},
   "source": [
    "드래곤의 부활시간은 5분이며 첫 드래곤 등장시간은 5분\n",
    "\n",
    "LCS 평균 게임시간이 32분50초니까\n",
    "첫 드래곤이후 약 5마리의 드래곤이 나오게 됨\n",
    "\n",
    "첫 드래곤을 레드팀이 가져가는 경우가 63%\n"
   ]
  },
  {
   "cell_type": "markdown",
   "id": "087a15e6",
   "metadata": {},
   "source": [
    "<pre>\n",
    "지금까지 나온걸 정리해보면\n",
    "LCS는 우선 경기당 12개의 포탑을 밀어내는 철거전을 하는데\n",
    "첫 포탑 획득률도 서로 비슷한걸로 보아\n",
    "\n",
    "1. 전령을 활용한 이후 포탑 철거에 능력이 부족하다\n",
    "2. 전령을 통해 포탑을 철거하기 보다는 힘든 라인에 포탑골드를 획득한다\n",
    "\n",
    "두가지의 경우를 생각할 수있음\n",
    "\n",
    "또 특이점으로 전령을 경기당 블루,레드 모두 1마리를 가져오는 수치를 가짐\n",
    "첫 전령을 블루가 획득하면 다음 전령을 레드가 획득하게 되는 경우가 많은거같고\n",
    "이는 결국 전령을 이용한 포탑철거 능력이 비슷해지기에 포탑 갯수가 비슷하다고 생각됨\n",
    "오히려 바론을 더 많이 먹는 레드팀이 결국 포탑 철거를 따라가거나 더 많이 하는거 아닐까\n",
    "\n",
    "\n",
    "## 그렇다면 바론이 레드팀에서 더 많이 획득되는건 왜 그런가\n",
    "\n",
    "블루팀이 가장 먼저 게임에 많은 영향을 줄 수 있는 첫 전령을 먹는 수치가 더 높지만\n",
    "첫 타워 획득률이 블루,레드가 비슷하다는 점 등을 들어\n",
    " LCS의 팀들이 스노우볼 능력이 부족하다고 추측함\n",
    "\n",
    "바론의 등장시간은 20:00\n",
    "드래곤 첫 젠이후 꾸준한 처치가 이뤄졌다면\n",
    "한팀이 독식한 경우 드래곤의 영혼을 바라볼 수도 있는 시간대임\n",
    "\n",
    "레드팀의 첫 드래곤 획득률은 63%로 드래곤 스택에 대한 이점을 가진 레드팀이\n",
    "바론 VS 드래곤 의 선택 상황에서 이점을 가지는 것이 아닐까 생각함\n",
    "\n",
    "실제로 바론을 한마리만 먹은경우 레드나 블루나 둘다 비슷한 수치를 보여주지만 횟수는 레드가 많았고\n",
    "두번째 바론을 레드가 모두 가져간 경우가 블루가 모두 가져간 경우에 비해 2배 많음\n",
    "\n",
    "</pre>\n",
    "\n",
    "LCS랑 경기할때는 전령을 주더라도 드래곤 스택만 잘신경쓰다면\n",
    "크게 위험을 느낄 요소가없지않을까 \n",
    "\n",
    "레드팀의 승률이 높음\n",
    "\n",
    "운영적인 부분에서 실수만 안하면 LCK가 확굴려갈수있다\n",
    "\n",
    "LCK가 전령을 획득한다면 본인들이 잘하는거 하면된다"
   ]
  },
  {
   "cell_type": "code",
   "execution_count": 36,
   "id": "82b74339",
   "metadata": {},
   "outputs": [
    {
     "data": {
      "text/plain": [
       "신 짜오    87\n",
       "레넥톤     47\n",
       "쓰레쉬     47\n",
       "칼리스타    42\n",
       "그웬      40\n",
       "비에고     39\n",
       "르블랑     32\n",
       "레오나     28\n",
       "녹턴      26\n",
       "노틸러스    26\n",
       "리 신     24\n",
       "브라움     24\n",
       "바루스     23\n",
       "이렐리아    22\n",
       "아칼리     22\n",
       "Name: red_ban, dtype: int64"
      ]
     },
     "execution_count": 36,
     "metadata": {},
     "output_type": "execute_result"
    }
   ],
   "source": [
    "LCS['red_ban'].value_counts().head(15)"
   ]
  },
  {
   "cell_type": "code",
   "execution_count": 37,
   "id": "582eb68f",
   "metadata": {},
   "outputs": [
    {
     "data": {
      "text/plain": [
       "쓰레쉬     65\n",
       "레넥톤     43\n",
       "루시안     39\n",
       "칼리스타    38\n",
       "르블랑     35\n",
       "그웬      35\n",
       "바루스     34\n",
       "비에고     30\n",
       "리 신     29\n",
       "아칼리     26\n",
       "이렐리아    26\n",
       "제이스     26\n",
       "카르마     26\n",
       "녹턴      25\n",
       "다이애나    23\n",
       "Name: blue_ban, dtype: int64"
      ]
     },
     "execution_count": 37,
     "metadata": {},
     "output_type": "execute_result"
    }
   ],
   "source": [
    "LCS['blue_ban'].value_counts().head(15)"
   ]
  },
  {
   "cell_type": "code",
   "execution_count": 64,
   "id": "5cdf2e0e",
   "metadata": {},
   "outputs": [
    {
     "data": {
      "text/html": [
       "<div>\n",
       "<style scoped>\n",
       "    .dataframe tbody tr th:only-of-type {\n",
       "        vertical-align: middle;\n",
       "    }\n",
       "\n",
       "    .dataframe tbody tr th {\n",
       "        vertical-align: top;\n",
       "    }\n",
       "\n",
       "    .dataframe thead th {\n",
       "        text-align: right;\n",
       "    }\n",
       "</style>\n",
       "<table border=\"1\" class=\"dataframe\">\n",
       "  <thead>\n",
       "    <tr style=\"text-align: right;\">\n",
       "      <th></th>\n",
       "      <th></th>\n",
       "      <th>game_date</th>\n",
       "    </tr>\n",
       "    <tr>\n",
       "      <th>blue_line</th>\n",
       "      <th>blue_champion</th>\n",
       "      <th></th>\n",
       "    </tr>\n",
       "  </thead>\n",
       "  <tbody>\n",
       "    <tr>\n",
       "      <th rowspan=\"2\" valign=\"top\">AD</th>\n",
       "      <th>이즈리얼</th>\n",
       "      <td>34</td>\n",
       "    </tr>\n",
       "    <tr>\n",
       "      <th>바루스</th>\n",
       "      <td>32</td>\n",
       "    </tr>\n",
       "    <tr>\n",
       "      <th>JG</th>\n",
       "      <th>신 짜오</th>\n",
       "      <td>30</td>\n",
       "    </tr>\n",
       "    <tr>\n",
       "      <th>SUP</th>\n",
       "      <th>레오나</th>\n",
       "      <td>29</td>\n",
       "    </tr>\n",
       "    <tr>\n",
       "      <th>TOP</th>\n",
       "      <th>레넥톤</th>\n",
       "      <td>28</td>\n",
       "    </tr>\n",
       "    <tr>\n",
       "      <th>JG</th>\n",
       "      <th>비에고</th>\n",
       "      <td>26</td>\n",
       "    </tr>\n",
       "    <tr>\n",
       "      <th>SUP</th>\n",
       "      <th>노틸러스</th>\n",
       "      <td>24</td>\n",
       "    </tr>\n",
       "    <tr>\n",
       "      <th>TOP</th>\n",
       "      <th>그웬</th>\n",
       "      <td>23</td>\n",
       "    </tr>\n",
       "    <tr>\n",
       "      <th>JG</th>\n",
       "      <th>리 신</th>\n",
       "      <td>23</td>\n",
       "    </tr>\n",
       "    <tr>\n",
       "      <th>SUP</th>\n",
       "      <th>쓰레쉬</th>\n",
       "      <td>23</td>\n",
       "    </tr>\n",
       "  </tbody>\n",
       "</table>\n",
       "</div>"
      ],
      "text/plain": [
       "                         game_date\n",
       "blue_line blue_champion           \n",
       "AD        이즈리얼                  34\n",
       "          바루스                   32\n",
       "JG        신 짜오                  30\n",
       "SUP       레오나                   29\n",
       "TOP       레넥톤                   28\n",
       "JG        비에고                   26\n",
       "SUP       노틸러스                  24\n",
       "TOP       그웬                    23\n",
       "JG        리 신                   23\n",
       "SUP       쓰레쉬                   23"
      ]
     },
     "execution_count": 64,
     "metadata": {},
     "output_type": "execute_result"
    }
   ],
   "source": [
    "LCS.groupby(['blue_line','blue_champion'])[['game_date']].count().sort_values(by='game_date',ascending=False).head(10)"
   ]
  },
  {
   "cell_type": "code",
   "execution_count": null,
   "id": "a197b053",
   "metadata": {},
   "outputs": [],
   "source": [
    "LCS"
   ]
  },
  {
   "cell_type": "code",
   "execution_count": 63,
   "id": "bce4e0d4",
   "metadata": {},
   "outputs": [
    {
     "data": {
      "text/html": [
       "<div>\n",
       "<style scoped>\n",
       "    .dataframe tbody tr th:only-of-type {\n",
       "        vertical-align: middle;\n",
       "    }\n",
       "\n",
       "    .dataframe tbody tr th {\n",
       "        vertical-align: top;\n",
       "    }\n",
       "\n",
       "    .dataframe thead th {\n",
       "        text-align: right;\n",
       "    }\n",
       "</style>\n",
       "<table border=\"1\" class=\"dataframe\">\n",
       "  <thead>\n",
       "    <tr style=\"text-align: right;\">\n",
       "      <th></th>\n",
       "      <th></th>\n",
       "      <th>game_date</th>\n",
       "    </tr>\n",
       "    <tr>\n",
       "      <th>blue_line</th>\n",
       "      <th>red_champion</th>\n",
       "      <th></th>\n",
       "    </tr>\n",
       "  </thead>\n",
       "  <tbody>\n",
       "    <tr>\n",
       "      <th>SUP</th>\n",
       "      <th>레오나</th>\n",
       "      <td>45</td>\n",
       "    </tr>\n",
       "    <tr>\n",
       "      <th>JG</th>\n",
       "      <th>다이애나</th>\n",
       "      <td>40</td>\n",
       "    </tr>\n",
       "    <tr>\n",
       "      <th>AD</th>\n",
       "      <th>바루스</th>\n",
       "      <td>35</td>\n",
       "    </tr>\n",
       "    <tr>\n",
       "      <th>SUP</th>\n",
       "      <th>노틸러스</th>\n",
       "      <td>32</td>\n",
       "    </tr>\n",
       "    <tr>\n",
       "      <th>AD</th>\n",
       "      <th>아펠리오스</th>\n",
       "      <td>25</td>\n",
       "    </tr>\n",
       "    <tr>\n",
       "      <th>JG</th>\n",
       "      <th>리 신</th>\n",
       "      <td>25</td>\n",
       "    </tr>\n",
       "    <tr>\n",
       "      <th>AD</th>\n",
       "      <th>칼리스타</th>\n",
       "      <td>25</td>\n",
       "    </tr>\n",
       "    <tr>\n",
       "      <th>MID</th>\n",
       "      <th>루시안</th>\n",
       "      <td>23</td>\n",
       "    </tr>\n",
       "    <tr>\n",
       "      <th>JG</th>\n",
       "      <th>신 짜오</th>\n",
       "      <td>22</td>\n",
       "    </tr>\n",
       "    <tr>\n",
       "      <th>AD</th>\n",
       "      <th>트리스타나</th>\n",
       "      <td>22</td>\n",
       "    </tr>\n",
       "  </tbody>\n",
       "</table>\n",
       "</div>"
      ],
      "text/plain": [
       "                        game_date\n",
       "blue_line red_champion           \n",
       "SUP       레오나                  45\n",
       "JG        다이애나                 40\n",
       "AD        바루스                  35\n",
       "SUP       노틸러스                 32\n",
       "AD        아펠리오스                25\n",
       "JG        리 신                  25\n",
       "AD        칼리스타                 25\n",
       "MID       루시안                  23\n",
       "JG        신 짜오                 22\n",
       "AD        트리스타나                22"
      ]
     },
     "execution_count": 63,
     "metadata": {},
     "output_type": "execute_result"
    }
   ],
   "source": [
    "LCS.groupby(['blue_line','red_champion'])[['game_date']].count().sort_values(by='game_date',ascending=False).head(10)"
   ]
  },
  {
   "cell_type": "markdown",
   "id": "29684d86",
   "metadata": {},
   "source": []
  },
  {
   "cell_type": "code",
   "execution_count": null,
   "id": "121dadd9",
   "metadata": {},
   "outputs": [],
   "source": []
  }
 ],
 "metadata": {
  "kernelspec": {
   "display_name": "Python 3",
   "language": "python",
   "name": "python3"
  },
  "language_info": {
   "codemirror_mode": {
    "name": "ipython",
    "version": 3
   },
   "file_extension": ".py",
   "mimetype": "text/x-python",
   "name": "python",
   "nbconvert_exporter": "python",
   "pygments_lexer": "ipython3",
   "version": "3.8.8"
  }
 },
 "nbformat": 4,
 "nbformat_minor": 5
}
