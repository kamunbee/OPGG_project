{
 "cells": [
  {
   "cell_type": "code",
   "execution_count": 1,
   "id": "7cb944e6",
   "metadata": {},
   "outputs": [],
   "source": [
    "import pandas as pd\n",
    "import datetime as dt"
   ]
  },
  {
   "cell_type": "code",
   "execution_count": 2,
   "id": "a56c39a3",
   "metadata": {
    "scrolled": true
   },
   "outputs": [
    {
     "name": "stdout",
     "output_type": "stream",
     "text": [
      "<class 'pandas.core.frame.DataFrame'>\n",
      "Int64Index: 1215 entries, 0 to 1214\n",
      "Data columns (total 29 columns):\n",
      " #   Column             Non-Null Count  Dtype \n",
      "---  ------             --------------  ----- \n",
      " 0   game_date          1215 non-null   object\n",
      " 1   version            1215 non-null   object\n",
      " 2   team1_name         1215 non-null   object\n",
      " 3   team1_score        1215 non-null   int64 \n",
      " 4   team2_score        1215 non-null   int64 \n",
      " 5   team2_name         1215 non-null   object\n",
      " 6   gametime           1215 non-null   object\n",
      " 7   blue_team          1215 non-null   object\n",
      " 8   blue_score         1215 non-null   int64 \n",
      " 9   blue_ban           1215 non-null   object\n",
      " 10  blue_object        1215 non-null   object\n",
      " 11  blue_object_count  1215 non-null   int64 \n",
      " 12  blue_call_name     1215 non-null   object\n",
      " 13  blue_line          1215 non-null   object\n",
      " 14  blue_champion      1215 non-null   object\n",
      " 15  blue_kill          1215 non-null   int64 \n",
      " 16  blue_death         1215 non-null   object\n",
      " 17  blue_assist        1215 non-null   object\n",
      " 18  red_team           1215 non-null   object\n",
      " 19  red_score          1215 non-null   int64 \n",
      " 20  red_ban            1215 non-null   object\n",
      " 21  red_object         1215 non-null   object\n",
      " 22  red_object_count   1215 non-null   int64 \n",
      " 23  red_call_name      1215 non-null   object\n",
      " 24  red_line           1215 non-null   object\n",
      " 25  red_champion       1215 non-null   object\n",
      " 26  red_kill           1215 non-null   int64 \n",
      " 27  red_death          1215 non-null   object\n",
      " 28  red_assist         1215 non-null   object\n",
      "dtypes: int64(8), object(21)\n",
      "memory usage: 284.8+ KB\n"
     ]
    }
   ],
   "source": [
    "LCK = pd.read_csv('projectData/LCK_RESULT.csv', index_col=0)\n",
    "LCK['version'] = LCK['version'].str.replace('버전','')\n",
    "LCK['version'] = LCK['version'].str.replace(' ','')\n",
    "LCK.info()"
   ]
  },
  {
   "cell_type": "code",
   "execution_count": 83,
   "id": "ab6d3677",
   "metadata": {},
   "outputs": [
    {
     "data": {
      "text/html": [
       "<div>\n",
       "<style scoped>\n",
       "    .dataframe tbody tr th:only-of-type {\n",
       "        vertical-align: middle;\n",
       "    }\n",
       "\n",
       "    .dataframe tbody tr th {\n",
       "        vertical-align: top;\n",
       "    }\n",
       "\n",
       "    .dataframe thead th {\n",
       "        text-align: right;\n",
       "    }\n",
       "</style>\n",
       "<table border=\"1\" class=\"dataframe\">\n",
       "  <thead>\n",
       "    <tr style=\"text-align: right;\">\n",
       "      <th></th>\n",
       "      <th>game_date</th>\n",
       "      <th>version</th>\n",
       "      <th>team1_name</th>\n",
       "      <th>team1_score</th>\n",
       "      <th>team2_score</th>\n",
       "      <th>team2_name</th>\n",
       "      <th>gametime</th>\n",
       "      <th>blue_team</th>\n",
       "      <th>blue_score</th>\n",
       "      <th>blue_ban</th>\n",
       "      <th>...</th>\n",
       "      <th>red_score</th>\n",
       "      <th>red_ban</th>\n",
       "      <th>red_object</th>\n",
       "      <th>red_object_count</th>\n",
       "      <th>red_call_name</th>\n",
       "      <th>red_line</th>\n",
       "      <th>red_champion</th>\n",
       "      <th>red_kill</th>\n",
       "      <th>red_death</th>\n",
       "      <th>red_assist</th>\n",
       "    </tr>\n",
       "  </thead>\n",
       "  <tbody>\n",
       "    <tr>\n",
       "      <th>0</th>\n",
       "      <td>2021.09.02 (목)</td>\n",
       "      <td>11.16</td>\n",
       "      <td>T1</td>\n",
       "      <td>3</td>\n",
       "      <td>2</td>\n",
       "      <td>HLE</td>\n",
       "      <td>36:48</td>\n",
       "      <td>T1</td>\n",
       "      <td>20</td>\n",
       "      <td>레넥톤</td>\n",
       "      <td>...</td>\n",
       "      <td>4</td>\n",
       "      <td>라이즈</td>\n",
       "      <td>turret@red</td>\n",
       "      <td>1</td>\n",
       "      <td>HLE Morgan</td>\n",
       "      <td>TOP</td>\n",
       "      <td>나르</td>\n",
       "      <td>1</td>\n",
       "      <td>6</td>\n",
       "      <td>1</td>\n",
       "    </tr>\n",
       "    <tr>\n",
       "      <th>1</th>\n",
       "      <td>2021.09.02 (목)</td>\n",
       "      <td>11.16</td>\n",
       "      <td>T1</td>\n",
       "      <td>3</td>\n",
       "      <td>2</td>\n",
       "      <td>HLE</td>\n",
       "      <td>36:48</td>\n",
       "      <td>T1</td>\n",
       "      <td>20</td>\n",
       "      <td>카밀</td>\n",
       "      <td>...</td>\n",
       "      <td>4</td>\n",
       "      <td>제이스</td>\n",
       "      <td>inhibitor@red</td>\n",
       "      <td>0</td>\n",
       "      <td>HLE Willer</td>\n",
       "      <td>JG</td>\n",
       "      <td>신 짜오</td>\n",
       "      <td>1</td>\n",
       "      <td>4</td>\n",
       "      <td>2</td>\n",
       "    </tr>\n",
       "    <tr>\n",
       "      <th>2</th>\n",
       "      <td>2021.09.02 (목)</td>\n",
       "      <td>11.16</td>\n",
       "      <td>T1</td>\n",
       "      <td>3</td>\n",
       "      <td>2</td>\n",
       "      <td>HLE</td>\n",
       "      <td>36:48</td>\n",
       "      <td>T1</td>\n",
       "      <td>20</td>\n",
       "      <td>르블랑</td>\n",
       "      <td>...</td>\n",
       "      <td>4</td>\n",
       "      <td>비에고</td>\n",
       "      <td>baron@red</td>\n",
       "      <td>0</td>\n",
       "      <td>HLE Chovy</td>\n",
       "      <td>MID</td>\n",
       "      <td>아지르</td>\n",
       "      <td>1</td>\n",
       "      <td>3</td>\n",
       "      <td>3</td>\n",
       "    </tr>\n",
       "    <tr>\n",
       "      <th>3</th>\n",
       "      <td>2021.09.02 (목)</td>\n",
       "      <td>11.16</td>\n",
       "      <td>T1</td>\n",
       "      <td>3</td>\n",
       "      <td>2</td>\n",
       "      <td>HLE</td>\n",
       "      <td>36:48</td>\n",
       "      <td>T1</td>\n",
       "      <td>20</td>\n",
       "      <td>레오나</td>\n",
       "      <td>...</td>\n",
       "      <td>4</td>\n",
       "      <td>칼리스타</td>\n",
       "      <td>dragon@red</td>\n",
       "      <td>2</td>\n",
       "      <td>HLE Deft</td>\n",
       "      <td>AD</td>\n",
       "      <td>바루스</td>\n",
       "      <td>1</td>\n",
       "      <td>4</td>\n",
       "      <td>3</td>\n",
       "    </tr>\n",
       "    <tr>\n",
       "      <th>4</th>\n",
       "      <td>2021.09.02 (목)</td>\n",
       "      <td>11.16</td>\n",
       "      <td>T1</td>\n",
       "      <td>3</td>\n",
       "      <td>2</td>\n",
       "      <td>HLE</td>\n",
       "      <td>36:48</td>\n",
       "      <td>T1</td>\n",
       "      <td>20</td>\n",
       "      <td>브라움</td>\n",
       "      <td>...</td>\n",
       "      <td>4</td>\n",
       "      <td>애쉬</td>\n",
       "      <td>riftHerald@red</td>\n",
       "      <td>0</td>\n",
       "      <td>HLE Vsta</td>\n",
       "      <td>SUP</td>\n",
       "      <td>카르마</td>\n",
       "      <td>0</td>\n",
       "      <td>3</td>\n",
       "      <td>4</td>\n",
       "    </tr>\n",
       "    <tr>\n",
       "      <th>...</th>\n",
       "      <td>...</td>\n",
       "      <td>...</td>\n",
       "      <td>...</td>\n",
       "      <td>...</td>\n",
       "      <td>...</td>\n",
       "      <td>...</td>\n",
       "      <td>...</td>\n",
       "      <td>...</td>\n",
       "      <td>...</td>\n",
       "      <td>...</td>\n",
       "      <td>...</td>\n",
       "      <td>...</td>\n",
       "      <td>...</td>\n",
       "      <td>...</td>\n",
       "      <td>...</td>\n",
       "      <td>...</td>\n",
       "      <td>...</td>\n",
       "      <td>...</td>\n",
       "      <td>...</td>\n",
       "      <td>...</td>\n",
       "      <td>...</td>\n",
       "    </tr>\n",
       "    <tr>\n",
       "      <th>1210</th>\n",
       "      <td>2021.06.11 (금)</td>\n",
       "      <td>11.11</td>\n",
       "      <td>DK</td>\n",
       "      <td>2</td>\n",
       "      <td>1</td>\n",
       "      <td>T1</td>\n",
       "      <td>37:11</td>\n",
       "      <td>DK</td>\n",
       "      <td>15</td>\n",
       "      <td>그웬</td>\n",
       "      <td>...</td>\n",
       "      <td>13</td>\n",
       "      <td>레넥톤</td>\n",
       "      <td>turret@red</td>\n",
       "      <td>2</td>\n",
       "      <td>T1 Canna</td>\n",
       "      <td>TOP</td>\n",
       "      <td>세트</td>\n",
       "      <td>1</td>\n",
       "      <td>2</td>\n",
       "      <td>4</td>\n",
       "    </tr>\n",
       "    <tr>\n",
       "      <th>1211</th>\n",
       "      <td>2021.06.11 (금)</td>\n",
       "      <td>11.11</td>\n",
       "      <td>DK</td>\n",
       "      <td>2</td>\n",
       "      <td>1</td>\n",
       "      <td>T1</td>\n",
       "      <td>37:11</td>\n",
       "      <td>DK</td>\n",
       "      <td>15</td>\n",
       "      <td>이즈리얼</td>\n",
       "      <td>...</td>\n",
       "      <td>13</td>\n",
       "      <td>세나</td>\n",
       "      <td>inhibitor@red</td>\n",
       "      <td>0</td>\n",
       "      <td>T1 Cuzz</td>\n",
       "      <td>JG</td>\n",
       "      <td>럼블</td>\n",
       "      <td>3</td>\n",
       "      <td>3</td>\n",
       "      <td>5</td>\n",
       "    </tr>\n",
       "    <tr>\n",
       "      <th>1212</th>\n",
       "      <td>2021.06.11 (금)</td>\n",
       "      <td>11.11</td>\n",
       "      <td>DK</td>\n",
       "      <td>2</td>\n",
       "      <td>1</td>\n",
       "      <td>T1</td>\n",
       "      <td>37:11</td>\n",
       "      <td>DK</td>\n",
       "      <td>15</td>\n",
       "      <td>리 신</td>\n",
       "      <td>...</td>\n",
       "      <td>13</td>\n",
       "      <td>루시안</td>\n",
       "      <td>baron@red</td>\n",
       "      <td>0</td>\n",
       "      <td>T1 Faker</td>\n",
       "      <td>MID</td>\n",
       "      <td>제이스</td>\n",
       "      <td>2</td>\n",
       "      <td>3</td>\n",
       "      <td>3</td>\n",
       "    </tr>\n",
       "    <tr>\n",
       "      <th>1213</th>\n",
       "      <td>2021.06.11 (금)</td>\n",
       "      <td>11.11</td>\n",
       "      <td>DK</td>\n",
       "      <td>2</td>\n",
       "      <td>1</td>\n",
       "      <td>T1</td>\n",
       "      <td>37:11</td>\n",
       "      <td>DK</td>\n",
       "      <td>15</td>\n",
       "      <td>트위스티드 페이트</td>\n",
       "      <td>...</td>\n",
       "      <td>13</td>\n",
       "      <td>룰루</td>\n",
       "      <td>dragon@red</td>\n",
       "      <td>2</td>\n",
       "      <td>T1 Teddy</td>\n",
       "      <td>AD</td>\n",
       "      <td>칼리스타</td>\n",
       "      <td>7</td>\n",
       "      <td>4</td>\n",
       "      <td>4</td>\n",
       "    </tr>\n",
       "    <tr>\n",
       "      <th>1214</th>\n",
       "      <td>2021.06.11 (금)</td>\n",
       "      <td>11.11</td>\n",
       "      <td>DK</td>\n",
       "      <td>2</td>\n",
       "      <td>1</td>\n",
       "      <td>T1</td>\n",
       "      <td>37:11</td>\n",
       "      <td>DK</td>\n",
       "      <td>15</td>\n",
       "      <td>그라가스</td>\n",
       "      <td>...</td>\n",
       "      <td>13</td>\n",
       "      <td>조이</td>\n",
       "      <td>riftHerald@red</td>\n",
       "      <td>0</td>\n",
       "      <td>T1 Keria</td>\n",
       "      <td>SUP</td>\n",
       "      <td>레오나</td>\n",
       "      <td>0</td>\n",
       "      <td>3</td>\n",
       "      <td>9</td>\n",
       "    </tr>\n",
       "  </tbody>\n",
       "</table>\n",
       "<p>1215 rows × 29 columns</p>\n",
       "</div>"
      ],
      "text/plain": [
       "           game_date version team1_name  team1_score  team2_score team2_name  \\\n",
       "0     2021.09.02 (목)   11.16         T1            3            2        HLE   \n",
       "1     2021.09.02 (목)   11.16         T1            3            2        HLE   \n",
       "2     2021.09.02 (목)   11.16         T1            3            2        HLE   \n",
       "3     2021.09.02 (목)   11.16         T1            3            2        HLE   \n",
       "4     2021.09.02 (목)   11.16         T1            3            2        HLE   \n",
       "...              ...     ...        ...          ...          ...        ...   \n",
       "1210  2021.06.11 (금)   11.11         DK            2            1         T1   \n",
       "1211  2021.06.11 (금)   11.11         DK            2            1         T1   \n",
       "1212  2021.06.11 (금)   11.11         DK            2            1         T1   \n",
       "1213  2021.06.11 (금)   11.11         DK            2            1         T1   \n",
       "1214  2021.06.11 (금)   11.11         DK            2            1         T1   \n",
       "\n",
       "     gametime blue_team  blue_score   blue_ban  ... red_score  red_ban  \\\n",
       "0       36:48        T1          20        레넥톤  ...         4      라이즈   \n",
       "1       36:48        T1          20         카밀  ...         4      제이스   \n",
       "2       36:48        T1          20        르블랑  ...         4      비에고   \n",
       "3       36:48        T1          20        레오나  ...         4     칼리스타   \n",
       "4       36:48        T1          20        브라움  ...         4       애쉬   \n",
       "...       ...       ...         ...        ...  ...       ...      ...   \n",
       "1210    37:11        DK          15         그웬  ...        13      레넥톤   \n",
       "1211    37:11        DK          15       이즈리얼  ...        13       세나   \n",
       "1212    37:11        DK          15        리 신  ...        13      루시안   \n",
       "1213    37:11        DK          15  트위스티드 페이트  ...        13       룰루   \n",
       "1214    37:11        DK          15       그라가스  ...        13       조이   \n",
       "\n",
       "          red_object red_object_count red_call_name  red_line red_champion  \\\n",
       "0         turret@red                1    HLE Morgan       TOP           나르   \n",
       "1      inhibitor@red                0    HLE Willer        JG         신 짜오   \n",
       "2          baron@red                0     HLE Chovy       MID          아지르   \n",
       "3         dragon@red                2      HLE Deft        AD          바루스   \n",
       "4     riftHerald@red                0      HLE Vsta       SUP          카르마   \n",
       "...              ...              ...           ...       ...          ...   \n",
       "1210      turret@red                2      T1 Canna       TOP           세트   \n",
       "1211   inhibitor@red                0       T1 Cuzz        JG           럼블   \n",
       "1212       baron@red                0      T1 Faker       MID          제이스   \n",
       "1213      dragon@red                2      T1 Teddy        AD         칼리스타   \n",
       "1214  riftHerald@red                0      T1 Keria       SUP          레오나   \n",
       "\n",
       "     red_kill red_death  red_assist  \n",
       "0           1         6           1  \n",
       "1           1         4           2  \n",
       "2           1         3           3  \n",
       "3           1         4           3  \n",
       "4           0         3           4  \n",
       "...       ...       ...         ...  \n",
       "1210        1         2           4  \n",
       "1211        3         3           5  \n",
       "1212        2         3           3  \n",
       "1213        7         4           4  \n",
       "1214        0         3           9  \n",
       "\n",
       "[1215 rows x 29 columns]"
      ]
     },
     "execution_count": 83,
     "metadata": {},
     "output_type": "execute_result"
    }
   ],
   "source": [
    "LCK"
   ]
  },
  {
   "cell_type": "code",
   "execution_count": 84,
   "id": "b7a61162",
   "metadata": {},
   "outputs": [],
   "source": [
    "ban_a  =LCK[['blue_ban']]\n",
    "ban_a.columns=['ban']\n",
    "ban_b  =LCK[['red_ban']]\n",
    "ban_b.columns=['ban']\n",
    "ban_all =pd.concat([ban_a,ban_b])"
   ]
  },
  {
   "cell_type": "code",
   "execution_count": 85,
   "id": "2505607c",
   "metadata": {},
   "outputs": [
    {
     "data": {
      "text/plain": [
       "ban \n",
       "루시안     152\n",
       "레넥톤     142\n",
       "칼리스타    109\n",
       "제이스     100\n",
       "신 짜오     97\n",
       "       ... \n",
       "빅토르       1\n",
       "타릭        1\n",
       "소라카       1\n",
       "사미라       1\n",
       "사이온       1\n",
       "Length: 76, dtype: int64"
      ]
     },
     "execution_count": 85,
     "metadata": {},
     "output_type": "execute_result"
    }
   ],
   "source": [
    "ban_all.value_counts()"
   ]
  },
  {
   "cell_type": "code",
   "execution_count": 113,
   "id": "e16c6a21",
   "metadata": {},
   "outputs": [],
   "source": [
    "LCK_ver11 = LCK[LCK['version'] == '11.11']\n",
    "LCK_ver12 = LCK[LCK['version'] == '11.12']\n",
    "LCK_ver13 = LCK[LCK['version'] == '11.13']\n",
    "LCK_ver14 = LCK[LCK['version'] == '11.14']\n",
    "LCK_ver15 = LCK[LCK['version'] == '11.15']"
   ]
  },
  {
   "cell_type": "code",
   "execution_count": 110,
   "id": "c0b23bf5",
   "metadata": {},
   "outputs": [
    {
     "data": {
      "text/plain": [
       "Index(['game_date', 'version', 'team1_name', 'team1_score', 'team2_score',\n",
       "       'team2_name', 'gametime', 'blue_team', 'blue_score', 'blue_ban',\n",
       "       'blue_object', 'blue_object_count', 'blue_call_name', 'blue_line',\n",
       "       'blue_champion', 'blue_kill', 'blue_death', 'blue_assist', 'red_team',\n",
       "       'red_score', 'red_ban', 'red_object', 'red_object_count',\n",
       "       'red_call_name', 'red_line', 'red_champion', 'red_kill', 'red_death',\n",
       "       'red_assist'],\n",
       "      dtype='object')"
      ]
     },
     "execution_count": 110,
     "metadata": {},
     "output_type": "execute_result"
    }
   ],
   "source": [
    "LCK_ver11.columns"
   ]
  },
  {
   "cell_type": "markdown",
   "id": "79680cf5",
   "metadata": {},
   "source": [
    "## 확인할거 평균 게임시간\n",
    "## 오브젝트 관련해서 어떤걸 많이 먹는지\n",
    "## 나는 버전별로 구분해서 확인하겠음"
   ]
  },
  {
   "cell_type": "code",
   "execution_count": 120,
   "id": "317ddf00",
   "metadata": {},
   "outputs": [],
   "source": [
    "\n",
    "# v11.11\n",
    "cham_a_11 = LCK_ver11[['blue_champion']]\n",
    "cham_a_11.columns=['champion']\n",
    "\n",
    "cham_b_11 = LCK_ver11[['red_champion']]\n",
    "cham_b_11.columns=['champion']\n",
    "cahm_all_v11 = pd.concat([cham_a_11, cham_b_11])\n",
    "\n",
    "\n",
    "# v11.12\n",
    "cham_a_12 = LCK_ver12[['blue_champion']]\n",
    "cham_a_12.columns=['champion']\n",
    "\n",
    "cham_b_12 = LCK_ver12[['red_champion']]\n",
    "cham_b_12.columns=['champion']\n",
    "cahm_all_v12 = pd.concat([cham_a_12, cham_b_12])\n",
    "\n",
    "# v11.13\n",
    "cham_a_13 = LCK_ver13[['blue_champion']]\n",
    "cham_a_13.columns=['champion']\n",
    "\n",
    "cham_b_13 = LCK_ver13[['red_champion']]\n",
    "cham_b_13.columns=['champion']\n",
    "cahm_all_v13 = pd.concat([cham_a_13, cham_b_13])\n",
    "\n",
    "\n",
    "# v11.14\n",
    "cham_a_14 = LCK_ver14[['blue_champion']]\n",
    "cham_a_14.columns=['champion']\n",
    "\n",
    "cham_b_14 = LCK_ver14[['red_champion']]\n",
    "cham_b_14.columns=['champion']\n",
    "cahm_all_v14 = pd.concat([cham_a_14, cham_b_14])\n",
    "\n",
    "# v11.15\n",
    "cham_a_15 = LCK_ver15[['blue_champion']]\n",
    "cham_a_15.columns=['champion']\n",
    "\n",
    "cham_b_15 = LCK_ver15[['red_champion']]\n",
    "cham_b_15.columns=['champion']\n",
    "cahm_all_v15 = pd.concat([cham_a_15, cham_b_15])"
   ]
  },
  {
   "cell_type": "code",
   "execution_count": 127,
   "id": "ec05b92d",
   "metadata": {
    "scrolled": true
   },
   "outputs": [
    {
     "data": {
      "text/plain": [
       "champion\n",
       "럼블          22\n",
       "세트          21\n",
       "이즈리얼        19\n",
       "리 신         19\n",
       "우디르         16\n",
       "바루스         16\n",
       "녹턴          16\n",
       "다이애나        16\n",
       "나르          12\n",
       "탐 켄치        12\n",
       "레오나         11\n",
       "아칼리         10\n",
       "카르마         10\n",
       "칼리스타         9\n",
       "비에고          9\n",
       "오리아나         9\n",
       "그웬           9\n",
       "징크스          9\n",
       "쓰레쉬          8\n",
       "카이사          8\n",
       "dtype: int64"
      ]
     },
     "execution_count": 127,
     "metadata": {},
     "output_type": "execute_result"
    }
   ],
   "source": [
    "cahm_all_v11.value_counts().head(20)"
   ]
  },
  {
   "cell_type": "code",
   "execution_count": 123,
   "id": "30328ae9",
   "metadata": {},
   "outputs": [
    {
     "data": {
      "text/plain": [
       "champion\n",
       "럼블          35\n",
       "세트          32\n",
       "리 신         26\n",
       "다이애나        24\n",
       "비에고         23\n",
       "레오나         20\n",
       "칼리스타        19\n",
       "레넥톤         18\n",
       "바루스         17\n",
       "쓰레쉬         16\n",
       "dtype: int64"
      ]
     },
     "execution_count": 123,
     "metadata": {},
     "output_type": "execute_result"
    }
   ],
   "source": [
    "cahm_all_v12.value_counts().head(10)"
   ]
  },
  {
   "cell_type": "code",
   "execution_count": 124,
   "id": "6223507a",
   "metadata": {},
   "outputs": [
    {
     "data": {
      "text/plain": [
       "champion\n",
       "리 신         29\n",
       "레오나         27\n",
       "라이즈         21\n",
       "그웬          21\n",
       "바루스         20\n",
       "다이애나        20\n",
       "레넥톤         18\n",
       "비에고         17\n",
       "아펠리오스       16\n",
       "루시안         14\n",
       "dtype: int64"
      ]
     },
     "execution_count": 124,
     "metadata": {},
     "output_type": "execute_result"
    }
   ],
   "source": [
    "cahm_all_v13.value_counts().head(10)"
   ]
  },
  {
   "cell_type": "code",
   "execution_count": 125,
   "id": "bdc4605d",
   "metadata": {},
   "outputs": [
    {
     "data": {
      "text/plain": [
       "champion\n",
       "레오나         24\n",
       "레넥톤         22\n",
       "리 신         19\n",
       "바루스         19\n",
       "브라움         18\n",
       "라이즈         17\n",
       "그웬          16\n",
       "아펠리오스       16\n",
       "비에고         15\n",
       "칼리스타        13\n",
       "dtype: int64"
      ]
     },
     "execution_count": 125,
     "metadata": {},
     "output_type": "execute_result"
    }
   ],
   "source": [
    "cahm_all_v14.value_counts().head(10)"
   ]
  },
  {
   "cell_type": "code",
   "execution_count": 126,
   "id": "2d6e3ae9",
   "metadata": {},
   "outputs": [
    {
     "data": {
      "text/plain": [
       "champion\n",
       "리 신         28\n",
       "레오나         21\n",
       "비에고         17\n",
       "아펠리오스       17\n",
       "바루스         15\n",
       "트런들         15\n",
       "라이즈         14\n",
       "나르          13\n",
       "제이스         13\n",
       "이즈리얼        12\n",
       "dtype: int64"
      ]
     },
     "execution_count": 126,
     "metadata": {},
     "output_type": "execute_result"
    }
   ],
   "source": [
    "cahm_all_v15.value_counts().head(10)"
   ]
  },
  {
   "cell_type": "code",
   "execution_count": null,
   "id": "b711925c",
   "metadata": {},
   "outputs": [],
   "source": []
  },
  {
   "cell_type": "markdown",
   "id": "8e4339ae",
   "metadata": {},
   "source": [
    "# 리그별 오브젝트 영향도 확인하기"
   ]
  },
  {
   "cell_type": "code",
   "execution_count": 3,
   "id": "1b489193",
   "metadata": {},
   "outputs": [
    {
     "data": {
      "text/html": [
       "<div>\n",
       "<style scoped>\n",
       "    .dataframe tbody tr th:only-of-type {\n",
       "        vertical-align: middle;\n",
       "    }\n",
       "\n",
       "    .dataframe tbody tr th {\n",
       "        vertical-align: top;\n",
       "    }\n",
       "\n",
       "    .dataframe thead th {\n",
       "        text-align: right;\n",
       "    }\n",
       "</style>\n",
       "<table border=\"1\" class=\"dataframe\">\n",
       "  <thead>\n",
       "    <tr style=\"text-align: right;\">\n",
       "      <th></th>\n",
       "      <th>blue_object</th>\n",
       "      <th>blue_object_count</th>\n",
       "      <th>red_object</th>\n",
       "      <th>red_object_count</th>\n",
       "    </tr>\n",
       "  </thead>\n",
       "  <tbody>\n",
       "    <tr>\n",
       "      <th>0</th>\n",
       "      <td>turret@blue</td>\n",
       "      <td>11</td>\n",
       "      <td>turret@red</td>\n",
       "      <td>1</td>\n",
       "    </tr>\n",
       "    <tr>\n",
       "      <th>1</th>\n",
       "      <td>inhibitor@blue</td>\n",
       "      <td>3</td>\n",
       "      <td>inhibitor@red</td>\n",
       "      <td>0</td>\n",
       "    </tr>\n",
       "    <tr>\n",
       "      <th>2</th>\n",
       "      <td>baron@blue</td>\n",
       "      <td>1</td>\n",
       "      <td>baron@red</td>\n",
       "      <td>0</td>\n",
       "    </tr>\n",
       "    <tr>\n",
       "      <th>3</th>\n",
       "      <td>dragon@blue</td>\n",
       "      <td>4</td>\n",
       "      <td>dragon@red</td>\n",
       "      <td>2</td>\n",
       "    </tr>\n",
       "    <tr>\n",
       "      <th>4</th>\n",
       "      <td>riftHerald@blue</td>\n",
       "      <td>2</td>\n",
       "      <td>riftHerald@red</td>\n",
       "      <td>0</td>\n",
       "    </tr>\n",
       "    <tr>\n",
       "      <th>...</th>\n",
       "      <td>...</td>\n",
       "      <td>...</td>\n",
       "      <td>...</td>\n",
       "      <td>...</td>\n",
       "    </tr>\n",
       "    <tr>\n",
       "      <th>1210</th>\n",
       "      <td>turret@blue</td>\n",
       "      <td>11</td>\n",
       "      <td>turret@red</td>\n",
       "      <td>2</td>\n",
       "    </tr>\n",
       "    <tr>\n",
       "      <th>1211</th>\n",
       "      <td>inhibitor@blue</td>\n",
       "      <td>4</td>\n",
       "      <td>inhibitor@red</td>\n",
       "      <td>0</td>\n",
       "    </tr>\n",
       "    <tr>\n",
       "      <th>1212</th>\n",
       "      <td>baron@blue</td>\n",
       "      <td>2</td>\n",
       "      <td>baron@red</td>\n",
       "      <td>0</td>\n",
       "    </tr>\n",
       "    <tr>\n",
       "      <th>1213</th>\n",
       "      <td>dragon@blue</td>\n",
       "      <td>4</td>\n",
       "      <td>dragon@red</td>\n",
       "      <td>2</td>\n",
       "    </tr>\n",
       "    <tr>\n",
       "      <th>1214</th>\n",
       "      <td>riftHerald@blue</td>\n",
       "      <td>2</td>\n",
       "      <td>riftHerald@red</td>\n",
       "      <td>0</td>\n",
       "    </tr>\n",
       "  </tbody>\n",
       "</table>\n",
       "<p>1215 rows × 4 columns</p>\n",
       "</div>"
      ],
      "text/plain": [
       "          blue_object  blue_object_count      red_object  red_object_count\n",
       "0         turret@blue                 11      turret@red                 1\n",
       "1      inhibitor@blue                  3   inhibitor@red                 0\n",
       "2          baron@blue                  1       baron@red                 0\n",
       "3         dragon@blue                  4      dragon@red                 2\n",
       "4     riftHerald@blue                  2  riftHerald@red                 0\n",
       "...               ...                ...             ...               ...\n",
       "1210      turret@blue                 11      turret@red                 2\n",
       "1211   inhibitor@blue                  4   inhibitor@red                 0\n",
       "1212       baron@blue                  2       baron@red                 0\n",
       "1213      dragon@blue                  4      dragon@red                 2\n",
       "1214  riftHerald@blue                  2  riftHerald@red                 0\n",
       "\n",
       "[1215 rows x 4 columns]"
      ]
     },
     "execution_count": 3,
     "metadata": {},
     "output_type": "execute_result"
    }
   ],
   "source": [
    "LCK_object = LCK[['blue_object','blue_object_count','red_object','red_object_count']]\n",
    "LCK_object"
   ]
  },
  {
   "cell_type": "code",
   "execution_count": 4,
   "id": "12be3b20",
   "metadata": {},
   "outputs": [],
   "source": [
    "a = LCK_object[LCK_object['blue_object'] == 'turret@blue']\n",
    "aa = LCK_object[LCK_object['blue_object'] == 'inhibitor@blue']"
   ]
  },
  {
   "cell_type": "code",
   "execution_count": 5,
   "id": "cc8ae447",
   "metadata": {},
   "outputs": [],
   "source": [
    "LCK_turret = a.drop(columns=['blue_object','red_object'])\n",
    "LCK_inhibitor = aa.drop(columns=['blue_object','red_object'])"
   ]
  },
  {
   "cell_type": "code",
   "execution_count": 6,
   "id": "8e3a79e5",
   "metadata": {
    "scrolled": false
   },
   "outputs": [
    {
     "data": {
      "text/plain": [
       "blue_object_count    1504\n",
       "red_object_count     1398\n",
       "dtype: int64"
      ]
     },
     "execution_count": 6,
     "metadata": {},
     "output_type": "execute_result"
    }
   ],
   "source": [
    "LCK_turret.sum()"
   ]
  },
  {
   "cell_type": "code",
   "execution_count": 7,
   "id": "22ca43fd",
   "metadata": {},
   "outputs": [
    {
     "data": {
      "text/plain": [
       "blue_object_count    233\n",
       "red_object_count     210\n",
       "dtype: int64"
      ]
     },
     "execution_count": 7,
     "metadata": {},
     "output_type": "execute_result"
    }
   ],
   "source": [
    "LCK_inhibitor.sum()"
   ]
  },
  {
   "cell_type": "markdown",
   "id": "0c48181f",
   "metadata": {},
   "source": [
    "<pre>\n",
    "서머시즌\n",
    "LCK 는 블루팀일때 1504개, 레드팀일때 1398개\n",
    "서머시즌 경기수는 226 경기로 + 선발전 12 + 플레이오프 18\n",
    "블루팀은 경기당 5.8개\n",
    "레드팀은 경기당 5.4개\n",
    "\n",
    "억제기는 블루가 233개\n",
    "레드가 210개로\n",
    "\n",
    "경기당\n",
    "블루팀  0.9개\n",
    "레드팀 0.8개\n",
    "\n",
    "경기당 11.2개의 포탑을 밀어내며\n",
    "블루팀이 포탑을 밀어내는 운영에서 조금 더 이점을 가짐\n",
    "\n",
    "</pre>"
   ]
  },
  {
   "cell_type": "code",
   "execution_count": 41,
   "id": "329abdf8",
   "metadata": {},
   "outputs": [],
   "source": [
    "b = LCK_object[LCK_object['blue_object'] == 'riftHerald@blue']"
   ]
  },
  {
   "cell_type": "code",
   "execution_count": 42,
   "id": "b9c2624e",
   "metadata": {},
   "outputs": [],
   "source": [
    "LCK_riftHerald = b.drop(columns=['blue_object','red_object'])"
   ]
  },
  {
   "cell_type": "code",
   "execution_count": 43,
   "id": "fdefa758",
   "metadata": {
    "scrolled": true
   },
   "outputs": [
    {
     "data": {
      "text/plain": [
       "blue_object_count    309\n",
       "red_object_count     167\n",
       "dtype: int64"
      ]
     },
     "execution_count": 43,
     "metadata": {},
     "output_type": "execute_result"
    }
   ],
   "source": [
    "LCK_riftHerald.sum()"
   ]
  },
  {
   "cell_type": "markdown",
   "id": "7c1b1622",
   "metadata": {},
   "source": [
    "전령 획득률이 블루팀이 309, 레드팀이 167\n",
    "\n",
    "블루팀이 두배에 가까운 전령획득 능력을 가지는 것을 알 수 있음\n",
    "\n",
    "이렇게 획득된 전령을 바탕으로 포탑에 대한 철거능력이 더 강했음을 알 수 있음\n",
    "\n",
    "경기당 블루는 1.2마리\n",
    "레드팀은 0.6마리의 전령을 챙겼음\n",
    "\n",
    "블루팀이 일방적으로 2개를 가져가는 경우가 가장많으며\n",
    "\n",
    "그 다음이 1개씩 나눠먹게되는 경우임"
   ]
  },
  {
   "cell_type": "code",
   "execution_count": 44,
   "id": "693b21ed",
   "metadata": {},
   "outputs": [],
   "source": [
    "c = LCK_object[LCK_object['blue_object'] == 'dragon@blue']\n",
    "LCK_dragon= c.drop(columns=['blue_object','red_object'])"
   ]
  },
  {
   "cell_type": "code",
   "execution_count": 45,
   "id": "e31f7dc1",
   "metadata": {
    "scrolled": true
   },
   "outputs": [
    {
     "data": {
      "text/plain": [
       "blue_object_count    500\n",
       "red_object_count     637\n",
       "dtype: int64"
      ]
     },
     "execution_count": 45,
     "metadata": {},
     "output_type": "execute_result"
    }
   ],
   "source": [
    "LCK_dragon.sum()"
   ]
  },
  {
   "cell_type": "markdown",
   "id": "4ac2f252",
   "metadata": {},
   "source": [
    "반대로 드래곤의 경우 블루팀이 500개,  레드팀은 637개로\n",
    "\n",
    "레드팀이 우세하게 가져가는 모습을 볼 수 있음\n",
    "\n",
    "LCK의 팀들은 블루진영일 경우 전령에 대한 획득능력이 높으며 레드팀은 이에 대한 대응으로 드래곤을 획득하지 않을까 생각함\n",
    "\n",
    "지리적인 요소가 블루팀의 전령획득률을 도와주는 것이 아닌가\n",
    "\n",
    "경기당 드래곤 처치 수는 5마리\n",
    "\n",
    "블루팀은 2.2마리\n",
    "\n",
    "레드팀은 2.8마리를 처치함"
   ]
  },
  {
   "cell_type": "code",
   "execution_count": 13,
   "id": "50393b76",
   "metadata": {},
   "outputs": [],
   "source": [
    "d = LCK_object[LCK_object['blue_object'] == 'baron@blue']\n",
    "LCK_baron= d.drop(columns=['blue_object','red_object'])"
   ]
  },
  {
   "cell_type": "code",
   "execution_count": 14,
   "id": "dfa363ae",
   "metadata": {
    "scrolled": false
   },
   "outputs": [
    {
     "data": {
      "text/plain": [
       "blue_object_count    179\n",
       "red_object_count     163\n",
       "dtype: int64"
      ]
     },
     "execution_count": 14,
     "metadata": {},
     "output_type": "execute_result"
    }
   ],
   "source": [
    "LCK_baron.sum()"
   ]
  },
  {
   "cell_type": "code",
   "execution_count": 11,
   "id": "046deffb",
   "metadata": {
    "scrolled": true
   },
   "outputs": [
    {
     "data": {
      "text/plain": [
       "1.3359375"
      ]
     },
     "execution_count": 11,
     "metadata": {},
     "output_type": "execute_result"
    }
   ],
   "source": [
    "(179+163)/256"
   ]
  },
  {
   "cell_type": "code",
   "execution_count": 10,
   "id": "f6c4c8d1",
   "metadata": {},
   "outputs": [
    {
     "data": {
      "text/plain": [
       "0.63671875"
      ]
     },
     "execution_count": 10,
     "metadata": {},
     "output_type": "execute_result"
    }
   ],
   "source": [
    "163/256"
   ]
  },
  {
   "cell_type": "code",
   "execution_count": 50,
   "id": "dda5af91",
   "metadata": {},
   "outputs": [
    {
     "data": {
      "text/plain": [
       "blue_object_count  red_object_count\n",
       "0                  1                   69\n",
       "1                  0                   69\n",
       "2                  0                   27\n",
       "0                  2                   23\n",
       "1                  1                   23\n",
       "0                  0                   15\n",
       "1                  2                    6\n",
       "2                  1                    3\n",
       "3                  0                    3\n",
       "2                  2                    2\n",
       "1                  3                    1\n",
       "3                  3                    1\n",
       "4                  0                    1\n",
       "dtype: int64"
      ]
     },
     "execution_count": 50,
     "metadata": {},
     "output_type": "execute_result"
    }
   ],
   "source": [
    "LCK_baron.value_counts()"
   ]
  },
  {
   "cell_type": "markdown",
   "id": "72bcad16",
   "metadata": {},
   "source": [
    "바론의 경우 큰 숫자의 차이는 없지만\n",
    "\n",
    "블루팀 179, 레드팀 163으로 역시 블루팀이 우세함"
   ]
  },
  {
   "cell_type": "markdown",
   "id": "0cc03ff1",
   "metadata": {},
   "source": [
    "# 왜 블루팀이 전령 획득률이 높은걸까?\n",
    "## 첫 번째. 블루팀의 지형적 이점에 있다고 생각함\n",
    "## 두 번째. 블루팀이 가지는 픽의 이점에서 발생한다고 생각함"
   ]
  },
  {
   "cell_type": "code",
   "execution_count": 15,
   "id": "3958651a",
   "metadata": {},
   "outputs": [
    {
     "data": {
      "text/plain": [
       "루시안     67\n",
       "칼리스타    66\n",
       "아칼리     51\n",
       "제이스     50\n",
       "바루스     49\n",
       "Name: blue_ban, dtype: int64"
      ]
     },
     "execution_count": 15,
     "metadata": {},
     "output_type": "execute_result"
    }
   ],
   "source": [
    "LCK['blue_ban'].value_counts().head(5)"
   ]
  },
  {
   "cell_type": "code",
   "execution_count": 18,
   "id": "201ab93f",
   "metadata": {},
   "outputs": [
    {
     "data": {
      "text/plain": [
       "레넥톤     94\n",
       "루시안     85\n",
       "신 짜오    67\n",
       "리 신     50\n",
       "제이스     50\n",
       "Name: red_ban, dtype: int64"
      ]
     },
     "execution_count": 18,
     "metadata": {},
     "output_type": "execute_result"
    }
   ],
   "source": [
    "LCK['red_ban'].value_counts().head(5)"
   ]
  },
  {
   "cell_type": "code",
   "execution_count": 14,
   "id": "5be92b21",
   "metadata": {},
   "outputs": [
    {
     "data": {
      "text/plain": [
       "리 신    70\n",
       "비에고    53\n",
       "레오나    53\n",
       "레넥톤    52\n",
       "럼블     51\n",
       "Name: blue_champion, dtype: int64"
      ]
     },
     "execution_count": 14,
     "metadata": {},
     "output_type": "execute_result"
    }
   ],
   "source": [
    "a =LCK['blue_champion'].value_counts().head(5)\n",
    "a"
   ]
  },
  {
   "cell_type": "code",
   "execution_count": 15,
   "id": "e9185df3",
   "metadata": {
    "scrolled": true
   },
   "outputs": [
    {
     "data": {
      "text/plain": [
       "레오나     68\n",
       "리 신     57\n",
       "다이애나    51\n",
       "바루스     51\n",
       "비에고     47\n",
       "Name: red_champion, dtype: int64"
      ]
     },
     "execution_count": 15,
     "metadata": {},
     "output_type": "execute_result"
    }
   ],
   "source": [
    "b = LCK['red_champion'].value_counts().head(5)\n",
    "b"
   ]
  },
  {
   "cell_type": "markdown",
   "id": "3bc86f8b",
   "metadata": {},
   "source": [
    "블루팀과 레드팀 각각 가장 많이 픽된 챔피언을 확인해보았음\n",
    "\n",
    "서머시즌 가장 많이 등장했던 리신,비에고,레오나 등의 픽이 확인됨\n",
    "\n",
    "블루팀의 상위 5픽은 중반교전에 매우 강한 픽들임을 알 수 있음\n",
    "\n",
    "레드팀의 상위 5픽에는 바텀에서의 픽이 두개나 포함되어있음\n",
    "\n",
    "\n",
    "전령 등장 시간대는 8분으로 서포터가 6렙이 찍어질랑 말랑하는 타이밍임\n",
    "정글러들은 궁극기를 갖추는 레벨임\n",
    "\n",
    "바텀의 영향력이 밀릴 가능성이 높음 \n",
    "\n",
    "블루팀의 상위 5픽에서 리신, 럼블, 레넥톤과 같은 픽이 \n",
    "\n",
    "레드의 픽들에 비해 전령 싸움을 할 때 더욱 강한 픽이기에 전령싸움에서 이점을 가지는 것 아닐까\n",
    "\n",
    "전령타임 더 레벨이 높은 미드,정글,탑의 영향력이 바텀에 비해 강하기에\n",
    "\n",
    "이러한 픽적인 이점에서 블루쪽이 전령을더 많이 가져갈 수 있는 거 아닐까\n",
    "\n",
    "<pre>\n",
    "리신의 경우 블루팀이 13회\n",
    "럼블은 21회\n",
    "레넥톤은 30회 가까이 더 많이 픽되었음\n",
    "</pre>"
   ]
  },
  {
   "cell_type": "markdown",
   "id": "e9f4778a",
   "metadata": {},
   "source": [
    "# 얻은 전령의 효과로 스노우볼\n",
    "\n",
    "## 8분시간대 이후에 블루가 얼마나 많이굴릴수가있는가\n",
    "\n",
    "블루가 전령"
   ]
  },
  {
   "cell_type": "markdown",
   "id": "0806119f",
   "metadata": {},
   "source": [
    "LCK의 바론의 경우 블루가 더 많긴한데\n",
    "\n",
    "서로 한개씩 먹는 경우가 가장 많았고 횟수도 같음\n",
    "\n",
    "그뒤로 한쪽이 2개를 일반적으로 먹는경우도 블루가 4회정도 많음\n",
    "\n",
    "1:1은 23회로 다섯번째에 위치함\n",
    "\n",
    "거의 바론은 서로 비슷하게 먹는다는 느낌임\n",
    "\n",
    "그래도 블루팀이 유리한 부분이 있으니까 바론을 더 많이 먹긴했을거임"
   ]
  },
  {
   "cell_type": "code",
   "execution_count": 102,
   "id": "2e7e1a8f",
   "metadata": {},
   "outputs": [],
   "source": [
    "LCK_gold = pd.read_csv('projectData/lck_totalgold.csv', index_col=0)\n"
   ]
  },
  {
   "cell_type": "code",
   "execution_count": 103,
   "id": "5a73e5e0",
   "metadata": {},
   "outputs": [],
   "source": [
    "LCK_gold = LCK_gold.reset_index()"
   ]
  },
  {
   "cell_type": "code",
   "execution_count": 104,
   "id": "a016ffdb",
   "metadata": {},
   "outputs": [],
   "source": [
    "gold=[]"
   ]
  },
  {
   "cell_type": "code",
   "execution_count": 105,
   "id": "a2e3522d",
   "metadata": {},
   "outputs": [],
   "source": [
    "for i in LCK_gold.index:\n",
    "    if (i % 2) == 0:\n",
    "        gold.append(i)"
   ]
  },
  {
   "cell_type": "code",
   "execution_count": 106,
   "id": "e2217d29",
   "metadata": {
    "scrolled": true
   },
   "outputs": [
    {
     "data": {
      "text/html": [
       "<div>\n",
       "<style scoped>\n",
       "    .dataframe tbody tr th:only-of-type {\n",
       "        vertical-align: middle;\n",
       "    }\n",
       "\n",
       "    .dataframe tbody tr th {\n",
       "        vertical-align: top;\n",
       "    }\n",
       "\n",
       "    .dataframe thead th {\n",
       "        text-align: right;\n",
       "    }\n",
       "</style>\n",
       "<table border=\"1\" class=\"dataframe\">\n",
       "  <thead>\n",
       "    <tr style=\"text-align: right;\">\n",
       "      <th></th>\n",
       "      <th>index</th>\n",
       "      <th>0</th>\n",
       "      <th>1</th>\n",
       "      <th>2</th>\n",
       "      <th>3</th>\n",
       "      <th>4</th>\n",
       "      <th>5</th>\n",
       "      <th>6</th>\n",
       "      <th>7</th>\n",
       "      <th>8</th>\n",
       "      <th>...</th>\n",
       "      <th>59</th>\n",
       "      <th>60</th>\n",
       "      <th>61</th>\n",
       "      <th>62</th>\n",
       "      <th>63</th>\n",
       "      <th>64</th>\n",
       "      <th>65</th>\n",
       "      <th>66</th>\n",
       "      <th>67</th>\n",
       "      <th>68</th>\n",
       "    </tr>\n",
       "  </thead>\n",
       "  <tbody>\n",
       "    <tr>\n",
       "      <th>0</th>\n",
       "      <td>BRO</td>\n",
       "      <td>77</td>\n",
       "      <td>22</td>\n",
       "      <td>-120</td>\n",
       "      <td>-18</td>\n",
       "      <td>244</td>\n",
       "      <td>792</td>\n",
       "      <td>761</td>\n",
       "      <td>1167</td>\n",
       "      <td>1257</td>\n",
       "      <td>...</td>\n",
       "      <td>NaN</td>\n",
       "      <td>NaN</td>\n",
       "      <td>NaN</td>\n",
       "      <td>NaN</td>\n",
       "      <td>NaN</td>\n",
       "      <td>NaN</td>\n",
       "      <td>NaN</td>\n",
       "      <td>NaN</td>\n",
       "      <td>NaN</td>\n",
       "      <td>NaN</td>\n",
       "    </tr>\n",
       "    <tr>\n",
       "      <th>2</th>\n",
       "      <td>LSB</td>\n",
       "      <td>44</td>\n",
       "      <td>380</td>\n",
       "      <td>563</td>\n",
       "      <td>744</td>\n",
       "      <td>1059</td>\n",
       "      <td>726</td>\n",
       "      <td>498</td>\n",
       "      <td>1311</td>\n",
       "      <td>672</td>\n",
       "      <td>...</td>\n",
       "      <td>NaN</td>\n",
       "      <td>NaN</td>\n",
       "      <td>NaN</td>\n",
       "      <td>NaN</td>\n",
       "      <td>NaN</td>\n",
       "      <td>NaN</td>\n",
       "      <td>NaN</td>\n",
       "      <td>NaN</td>\n",
       "      <td>NaN</td>\n",
       "      <td>NaN</td>\n",
       "    </tr>\n",
       "    <tr>\n",
       "      <th>4</th>\n",
       "      <td>T1</td>\n",
       "      <td>77</td>\n",
       "      <td>-228</td>\n",
       "      <td>23</td>\n",
       "      <td>720</td>\n",
       "      <td>700</td>\n",
       "      <td>868</td>\n",
       "      <td>682</td>\n",
       "      <td>918</td>\n",
       "      <td>814</td>\n",
       "      <td>...</td>\n",
       "      <td>NaN</td>\n",
       "      <td>NaN</td>\n",
       "      <td>NaN</td>\n",
       "      <td>NaN</td>\n",
       "      <td>NaN</td>\n",
       "      <td>NaN</td>\n",
       "      <td>NaN</td>\n",
       "      <td>NaN</td>\n",
       "      <td>NaN</td>\n",
       "      <td>NaN</td>\n",
       "    </tr>\n",
       "    <tr>\n",
       "      <th>6</th>\n",
       "      <td>HLE</td>\n",
       "      <td>-41</td>\n",
       "      <td>280</td>\n",
       "      <td>-51</td>\n",
       "      <td>-800</td>\n",
       "      <td>-1249</td>\n",
       "      <td>-1367</td>\n",
       "      <td>-2056</td>\n",
       "      <td>-3025</td>\n",
       "      <td>-3197</td>\n",
       "      <td>...</td>\n",
       "      <td>NaN</td>\n",
       "      <td>NaN</td>\n",
       "      <td>NaN</td>\n",
       "      <td>NaN</td>\n",
       "      <td>NaN</td>\n",
       "      <td>NaN</td>\n",
       "      <td>NaN</td>\n",
       "      <td>NaN</td>\n",
       "      <td>NaN</td>\n",
       "      <td>NaN</td>\n",
       "    </tr>\n",
       "    <tr>\n",
       "      <th>8</th>\n",
       "      <td>KT</td>\n",
       "      <td>36</td>\n",
       "      <td>-227</td>\n",
       "      <td>-46</td>\n",
       "      <td>1809</td>\n",
       "      <td>1529</td>\n",
       "      <td>1879</td>\n",
       "      <td>2023</td>\n",
       "      <td>2723</td>\n",
       "      <td>2973</td>\n",
       "      <td>...</td>\n",
       "      <td>NaN</td>\n",
       "      <td>NaN</td>\n",
       "      <td>NaN</td>\n",
       "      <td>NaN</td>\n",
       "      <td>NaN</td>\n",
       "      <td>NaN</td>\n",
       "      <td>NaN</td>\n",
       "      <td>NaN</td>\n",
       "      <td>NaN</td>\n",
       "      <td>NaN</td>\n",
       "    </tr>\n",
       "    <tr>\n",
       "      <th>...</th>\n",
       "      <td>...</td>\n",
       "      <td>...</td>\n",
       "      <td>...</td>\n",
       "      <td>...</td>\n",
       "      <td>...</td>\n",
       "      <td>...</td>\n",
       "      <td>...</td>\n",
       "      <td>...</td>\n",
       "      <td>...</td>\n",
       "      <td>...</td>\n",
       "      <td>...</td>\n",
       "      <td>...</td>\n",
       "      <td>...</td>\n",
       "      <td>...</td>\n",
       "      <td>...</td>\n",
       "      <td>...</td>\n",
       "      <td>...</td>\n",
       "      <td>...</td>\n",
       "      <td>...</td>\n",
       "      <td>...</td>\n",
       "      <td>...</td>\n",
       "    </tr>\n",
       "    <tr>\n",
       "      <th>478</th>\n",
       "      <td>GEN</td>\n",
       "      <td>-9</td>\n",
       "      <td>6</td>\n",
       "      <td>-413</td>\n",
       "      <td>-212</td>\n",
       "      <td>-109</td>\n",
       "      <td>-324</td>\n",
       "      <td>-909</td>\n",
       "      <td>-1300</td>\n",
       "      <td>-1497</td>\n",
       "      <td>...</td>\n",
       "      <td>NaN</td>\n",
       "      <td>NaN</td>\n",
       "      <td>NaN</td>\n",
       "      <td>NaN</td>\n",
       "      <td>NaN</td>\n",
       "      <td>NaN</td>\n",
       "      <td>NaN</td>\n",
       "      <td>NaN</td>\n",
       "      <td>NaN</td>\n",
       "      <td>NaN</td>\n",
       "    </tr>\n",
       "    <tr>\n",
       "      <th>480</th>\n",
       "      <td>DK</td>\n",
       "      <td>-104</td>\n",
       "      <td>888</td>\n",
       "      <td>949</td>\n",
       "      <td>949</td>\n",
       "      <td>965</td>\n",
       "      <td>1409</td>\n",
       "      <td>1471</td>\n",
       "      <td>1202</td>\n",
       "      <td>913</td>\n",
       "      <td>...</td>\n",
       "      <td>NaN</td>\n",
       "      <td>NaN</td>\n",
       "      <td>NaN</td>\n",
       "      <td>NaN</td>\n",
       "      <td>NaN</td>\n",
       "      <td>NaN</td>\n",
       "      <td>NaN</td>\n",
       "      <td>NaN</td>\n",
       "      <td>NaN</td>\n",
       "      <td>NaN</td>\n",
       "    </tr>\n",
       "    <tr>\n",
       "      <th>482</th>\n",
       "      <td>DK</td>\n",
       "      <td>-61</td>\n",
       "      <td>-368</td>\n",
       "      <td>-376</td>\n",
       "      <td>-178</td>\n",
       "      <td>-105</td>\n",
       "      <td>9</td>\n",
       "      <td>-349</td>\n",
       "      <td>-81</td>\n",
       "      <td>-451</td>\n",
       "      <td>...</td>\n",
       "      <td>NaN</td>\n",
       "      <td>NaN</td>\n",
       "      <td>NaN</td>\n",
       "      <td>NaN</td>\n",
       "      <td>NaN</td>\n",
       "      <td>NaN</td>\n",
       "      <td>NaN</td>\n",
       "      <td>NaN</td>\n",
       "      <td>NaN</td>\n",
       "      <td>NaN</td>\n",
       "    </tr>\n",
       "    <tr>\n",
       "      <th>484</th>\n",
       "      <td>T1</td>\n",
       "      <td>121</td>\n",
       "      <td>536</td>\n",
       "      <td>346</td>\n",
       "      <td>466</td>\n",
       "      <td>208</td>\n",
       "      <td>783</td>\n",
       "      <td>681</td>\n",
       "      <td>1780</td>\n",
       "      <td>2136</td>\n",
       "      <td>...</td>\n",
       "      <td>NaN</td>\n",
       "      <td>NaN</td>\n",
       "      <td>NaN</td>\n",
       "      <td>NaN</td>\n",
       "      <td>NaN</td>\n",
       "      <td>NaN</td>\n",
       "      <td>NaN</td>\n",
       "      <td>NaN</td>\n",
       "      <td>NaN</td>\n",
       "      <td>NaN</td>\n",
       "    </tr>\n",
       "    <tr>\n",
       "      <th>486</th>\n",
       "      <td>T1</td>\n",
       "      <td>-22</td>\n",
       "      <td>-416</td>\n",
       "      <td>-509</td>\n",
       "      <td>24</td>\n",
       "      <td>139</td>\n",
       "      <td>-115</td>\n",
       "      <td>145</td>\n",
       "      <td>179</td>\n",
       "      <td>164</td>\n",
       "      <td>...</td>\n",
       "      <td>NaN</td>\n",
       "      <td>NaN</td>\n",
       "      <td>NaN</td>\n",
       "      <td>NaN</td>\n",
       "      <td>NaN</td>\n",
       "      <td>NaN</td>\n",
       "      <td>NaN</td>\n",
       "      <td>NaN</td>\n",
       "      <td>NaN</td>\n",
       "      <td>NaN</td>\n",
       "    </tr>\n",
       "  </tbody>\n",
       "</table>\n",
       "<p>244 rows × 70 columns</p>\n",
       "</div>"
      ],
      "text/plain": [
       "    index    0    1    2     3     4     5     6     7     8  ...  59  60  61  \\\n",
       "0     BRO   77   22 -120   -18   244   792   761  1167  1257  ... NaN NaN NaN   \n",
       "2     LSB   44  380  563   744  1059   726   498  1311   672  ... NaN NaN NaN   \n",
       "4      T1   77 -228   23   720   700   868   682   918   814  ... NaN NaN NaN   \n",
       "6     HLE  -41  280  -51  -800 -1249 -1367 -2056 -3025 -3197  ... NaN NaN NaN   \n",
       "8      KT   36 -227  -46  1809  1529  1879  2023  2723  2973  ... NaN NaN NaN   \n",
       "..    ...  ...  ...  ...   ...   ...   ...   ...   ...   ...  ...  ..  ..  ..   \n",
       "478   GEN   -9    6 -413  -212  -109  -324  -909 -1300 -1497  ... NaN NaN NaN   \n",
       "480    DK -104  888  949   949   965  1409  1471  1202   913  ... NaN NaN NaN   \n",
       "482    DK  -61 -368 -376  -178  -105     9  -349   -81  -451  ... NaN NaN NaN   \n",
       "484    T1  121  536  346   466   208   783   681  1780  2136  ... NaN NaN NaN   \n",
       "486    T1  -22 -416 -509    24   139  -115   145   179   164  ... NaN NaN NaN   \n",
       "\n",
       "     62  63  64  65  66  67  68  \n",
       "0   NaN NaN NaN NaN NaN NaN NaN  \n",
       "2   NaN NaN NaN NaN NaN NaN NaN  \n",
       "4   NaN NaN NaN NaN NaN NaN NaN  \n",
       "6   NaN NaN NaN NaN NaN NaN NaN  \n",
       "8   NaN NaN NaN NaN NaN NaN NaN  \n",
       "..   ..  ..  ..  ..  ..  ..  ..  \n",
       "478 NaN NaN NaN NaN NaN NaN NaN  \n",
       "480 NaN NaN NaN NaN NaN NaN NaN  \n",
       "482 NaN NaN NaN NaN NaN NaN NaN  \n",
       "484 NaN NaN NaN NaN NaN NaN NaN  \n",
       "486 NaN NaN NaN NaN NaN NaN NaN  \n",
       "\n",
       "[244 rows x 70 columns]"
      ]
     },
     "execution_count": 106,
     "metadata": {},
     "output_type": "execute_result"
    }
   ],
   "source": [
    "lckgold2 = LCK_gold.iloc[gold]\n",
    "lckgold2"
   ]
  },
  {
   "cell_type": "code",
   "execution_count": 94,
   "id": "3453870c",
   "metadata": {},
   "outputs": [
    {
     "name": "stderr",
     "output_type": "stream",
     "text": [
      "<ipython-input-94-94a118eb1f41>:2: SettingWithCopyWarning: \n",
      "A value is trying to be set on a copy of a slice from a DataFrame.\n",
      "Try using .loc[row_indexer,col_indexer] = value instead\n",
      "\n",
      "See the caveats in the documentation: https://pandas.pydata.org/pandas-docs/stable/user_guide/indexing.html#returning-a-view-versus-a-copy\n",
      "  lckgold2[f'{i}'] = abs(lckgold2[f'{i}'])\n"
     ]
    }
   ],
   "source": [
    "for i in range(69):\n",
    "    lckgold2[f'{i}'] = abs(lckgold2[f'{i}'])"
   ]
  },
  {
   "cell_type": "code",
   "execution_count": 101,
   "id": "44293d48",
   "metadata": {},
   "outputs": [
    {
     "data": {
      "text/plain": [
       "6     731.434426\n",
       "7     891.831967\n",
       "8    1003.422131\n",
       "9    1212.295082\n",
       "dtype: float64"
      ]
     },
     "execution_count": 101,
     "metadata": {},
     "output_type": "execute_result"
    }
   ],
   "source": [
    "lckgold2.set_index('index')[['6','7','8','9']]"
   ]
  },
  {
   "cell_type": "code",
   "execution_count": 108,
   "id": "8b9beb95",
   "metadata": {},
   "outputs": [
    {
     "data": {
      "text/plain": [
       "6     47.836066\n",
       "7     15.438525\n",
       "8    129.684426\n",
       "9    169.811475\n",
       "dtype: float64"
      ]
     },
     "execution_count": 108,
     "metadata": {},
     "output_type": "execute_result"
    }
   ],
   "source": [
    "lckgold2[['6','7','8','9']].mean()"
   ]
  },
  {
   "cell_type": "code",
   "execution_count": null,
   "id": "f1f9f5b0",
   "metadata": {},
   "outputs": [],
   "source": []
  }
 ],
 "metadata": {
  "kernelspec": {
   "display_name": "Python 3",
   "language": "python",
   "name": "python3"
  },
  "language_info": {
   "codemirror_mode": {
    "name": "ipython",
    "version": 3
   },
   "file_extension": ".py",
   "mimetype": "text/x-python",
   "name": "python",
   "nbconvert_exporter": "python",
   "pygments_lexer": "ipython3",
   "version": "3.8.8"
  }
 },
 "nbformat": 4,
 "nbformat_minor": 5
}
