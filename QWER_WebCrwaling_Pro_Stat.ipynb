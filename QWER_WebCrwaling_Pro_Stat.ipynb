{
 "cells": [
  {
   "cell_type": "markdown",
   "id": "1021fb72",
   "metadata": {},
   "source": [
    "## 크롤링할 준비"
   ]
  },
  {
   "cell_type": "code",
   "execution_count": null,
   "id": "27575b27",
   "metadata": {},
   "outputs": [],
   "source": [
    "import requests\n",
    "import time\n",
    "import pandas as pd\n",
    "from bs4 import BeautifulSoup\n",
    "from selenium import webdriver"
   ]
  },
  {
   "cell_type": "code",
   "execution_count": null,
   "id": "bc09e922",
   "metadata": {},
   "outputs": [],
   "source": [
    "# selenium을 백그라운드로 실행하기 위해 옵션 설정\n",
    "options = webdriver.ChromeOptions()\n",
    "options.add_argument('headless')\n",
    "options.add_argument('window-size=1920x1080')"
   ]
  },
  {
   "cell_type": "code",
   "execution_count": null,
   "id": "cfd640bc",
   "metadata": {},
   "outputs": [],
   "source": [
    "# 우리가 데이터를 가져올 웹 페이지입니다.\n",
    "qwergg_url = 'https://qwer.gg/stats/top'\n",
    "\n",
    "# selenium이 제어할 chrome을 실행합니다.\n",
    "driver = webdriver.Chrome(\"C:/Users/LUNA/Desktop/OPGG/chromedriver_win32/chromedriver\")\n",
    "# driver = webdriver.Chrome(\"C:/Users/LUNA/Desktop/OPGG/chromedriver_win32/chromedriver\", options= options)"
   ]
  },
  {
   "cell_type": "code",
   "execution_count": null,
   "id": "803d1e32",
   "metadata": {},
   "outputs": [],
   "source": [
    "# 데이터를 가져올 페이지로 이동합니다.\n",
    "driver.get(qwergg_url)"
   ]
  },
  {
   "cell_type": "code",
   "execution_count": null,
   "id": "b1b8b4e6",
   "metadata": {},
   "outputs": [],
   "source": [
    "# 채팅뜨는거 내려주기\n",
    "time.sleep(1)\n",
    "driver.find_element_by_css_selector('#root > div.Chat.Chat--opened > div.Chat__window > div.Chat__header > svg').click()"
   ]
  },
  {
   "cell_type": "code",
   "execution_count": null,
   "id": "fffa46b8",
   "metadata": {},
   "outputs": [],
   "source": [
    "def leaguePick():\n",
    "    ## 4대리그 픽용 \n",
    "    # LCK 를 보기위해 LCK 로 선택해준다.\n",
    "    ## 모든 리그 필터를 클릭\n",
    "    a = driver.find_element_by_css_selector('#root > div:nth-child(4) > div > div.LeagueFilter.dark')\n",
    "    a.click()\n",
    "    time.sleep(1)\n",
    "    ## LCK 를 선택함\n",
    "    for i in range(1,5):\n",
    "        a2 = driver.find_element_by_css_selector(f'#root > div:nth-child(4) > div > div.LeagueFilter.dark > div.LeagueFilter__primary.Gilroy.LeagueFilter__primary--extended > div.LeagueFilter__primary__list > div:nth-child({i})')\n",
    "        a2.click()\n",
    "        time.sleep(1)\n",
    "    #  필요시 대회도 필터도 활용하기\n",
    "    # summer 기록 체크를 위한 필터 클릭\n",
    "        a3 = driver.find_element_by_css_selector('#root > div:nth-child(4) > div > div.LeagueFilter.dark > div:nth-child(2) > div.LeagueFilter__primary__value')\n",
    "        a3.click()\n",
    "        time.sleep(1)\n",
    "\n",
    "        # SUMMER Season 클릭 \n",
    "        a4 = driver.find_element_by_css_selector('#root > div:nth-child(4) > div > div.LeagueFilter.dark > div.LeagueFilter__primary.Gilroy.LeagueFilter__primary--extended > div.LeagueFilter__primary__list > div.LeagueFilter__primary__list__item.Gilroy.LeagueFilter__primary__list__item--selected')\n",
    "        a4.click()\n",
    "        time.sleep(1)\n",
    "\n"
   ]
  },
  {
   "cell_type": "markdown",
   "id": "6fd129f0",
   "metadata": {},
   "source": [
    "## 선수 정보 가져오기"
   ]
  },
  {
   "cell_type": "code",
   "execution_count": null,
   "id": "3df558e0",
   "metadata": {},
   "outputs": [],
   "source": [
    "# # 라인별 스탯랭킹 1위에있는 선수를 가져오기\n",
    "# player1 = driver.find_element_by_css_selector('#root > div:nth-child(4) > div > div.ProStatsCC > div.ProStats__container > div.ProStats__ranks > a:nth-child(1)')\n",
    "# player1.click()\n",
    "# time.sleep(1)"
   ]
  },
  {
   "cell_type": "code",
   "execution_count": null,
   "id": "0f5a4432",
   "metadata": {},
   "outputs": [],
   "source": [
    "# # 선수의 챔피언 관련 정보창 정보 저장\n",
    "# stat = driver.find_elements_by_css_selector('#root > div.Player > div:nth-child(2) > div > section > table > tbody')"
   ]
  },
  {
   "cell_type": "code",
   "execution_count": null,
   "id": "f2ef49f9",
   "metadata": {},
   "outputs": [],
   "source": [
    "# ## 선수 이름 가져오는거 테스트\n",
    "# for i in stat:\n",
    "#     for n in i.find_elements_by_css_selector('tr'):\n",
    "#         name = driver.find_element_by_css_selector('#root > div.Player > div.FluidContainer.container-fluid.Player__profile__container > div > h1')\n",
    "#         print(name.text.strip())\n",
    "#         time.sleep(2)"
   ]
  },
  {
   "cell_type": "code",
   "execution_count": null,
   "id": "f85215b3",
   "metadata": {},
   "outputs": [],
   "source": [
    "def statappend():\n",
    "    \n",
    "    stat = driver.find_elements_by_css_selector('#root > div.Player > div:nth-child(2) > div > section > table > tbody')\n",
    "    time.sleep(2)\n",
    "    for i in stat:\n",
    "        for n in i.find_elements_by_css_selector('tr'):\n",
    "            name.append(driver.find_element_by_css_selector('#root > div.Player > div.FluidContainer.container-fluid.Player__profile__container > div > h1').text.strip())\n",
    "            champions.append(n.find_element_by_css_selector('td:nth-child(1)').text.strip())\n",
    "            game.append(n.find_element_by_css_selector('td:nth-child(2)').text.strip())\n",
    "            win_rate.append(n.find_element_by_css_selector('td:nth-child(3)').text.strip())\n",
    "            kill.append(n.find_element_by_css_selector('td:nth-child(4)').text.strip())\n",
    "            death.append(n.find_element_by_css_selector('td:nth-child(5)').text.strip())\n",
    "            assist.append(n.find_element_by_css_selector('td:nth-child(6)').text.strip())\n",
    "            kda.append(n.find_element_by_css_selector('td:nth-child(7)').text.strip())\n",
    "            win.append(n.find_element_by_css_selector('td:nth-child(8)').text.strip())\n",
    "            lose.append(n.find_element_by_css_selector('td:nth-child(9)').text.strip())\n",
    "            dpm.append(n.find_element_by_css_selector('td:nth-child(10)').text.strip())\n",
    "            time.sleep(1)"
   ]
  },
  {
   "cell_type": "code",
   "execution_count": null,
   "id": "f69456ed",
   "metadata": {},
   "outputs": [],
   "source": [
    "# 결과가 들어갈 리스트\n",
    "name = []\n",
    "champions = []\n",
    "game = []\n",
    "win_rate = []\n",
    "kill = []\n",
    "death = []\n",
    "assist = []\n",
    "kda = []\n",
    "win = []\n",
    "lose = []\n",
    "dpm = []"
   ]
  },
  {
   "cell_type": "code",
   "execution_count": null,
   "id": "895d348a",
   "metadata": {},
   "outputs": [],
   "source": [
    "# 게임 기록 및 선수 이름 넣어주기\n",
    "\n",
    "statappend()"
   ]
  },
  {
   "cell_type": "code",
   "execution_count": null,
   "id": "4e0dca49",
   "metadata": {},
   "outputs": [],
   "source": [
    "# 다른 선수 데이터도 가져오기 위해 뒤로가기\n",
    "driver.back()"
   ]
  },
  {
   "cell_type": "markdown",
   "id": "a30be907",
   "metadata": {},
   "source": [
    "## 화면에서 두번째 선수"
   ]
  },
  {
   "cell_type": "code",
   "execution_count": null,
   "id": "3deb8517",
   "metadata": {},
   "outputs": [],
   "source": [
    "player2 = driver.find_element_by_css_selector('#root > div:nth-child(4) > div > div.ProStatsCC > div.ProStats__container > div.ProStats__ranks > a:nth-child(2)')\n",
    "player2.click()\n",
    "time.sleep(5)"
   ]
  },
  {
   "cell_type": "code",
   "execution_count": null,
   "id": "8f8fe79f",
   "metadata": {
    "scrolled": true
   },
   "outputs": [],
   "source": [
    "# 게임 기록 및 선수 이름 넣어주기\n",
    "statappend()"
   ]
  },
  {
   "cell_type": "markdown",
   "id": "430bfca4",
   "metadata": {},
   "source": [
    "# 데이터프레임으로 만들기"
   ]
  },
  {
   "cell_type": "code",
   "execution_count": null,
   "id": "029313fd",
   "metadata": {},
   "outputs": [],
   "source": [
    "# DataFrame으로 변환 후 출력해봄\n",
    "# 나중에 뒤로 옮겨야함\n",
    "total_df = pd.DataFrame([name,\n",
    "                         champions,\n",
    "                         game,\n",
    "                                win_rate,\n",
    "                                kill,\n",
    "                                death,\n",
    "                                assist,\n",
    "                        kda,\n",
    "                        win,\n",
    "                        lose,\n",
    "                        dpm],\n",
    "                               index = ['player_name','champion','game', 'win_rate', 'kill', 'death', 'assist','kda','win','lose','dpm']).T\n",
    "total_df"
   ]
  },
  {
   "cell_type": "markdown",
   "id": "6e495029",
   "metadata": {},
   "source": [
    "## 한번에 라인선수 모두 가져오도록하기"
   ]
  },
  {
   "cell_type": "code",
   "execution_count": null,
   "id": "9cd08a56",
   "metadata": {},
   "outputs": [],
   "source": [
    "# 결과가 들어갈 리스트\n",
    "name = []\n",
    "champions = []\n",
    "game = []\n",
    "win_rate = []\n",
    "kill = []\n",
    "death = []\n",
    "assist = []\n",
    "kda = []\n",
    "win = []\n",
    "lose = []\n",
    "dpm = []\n",
    "line = []"
   ]
  },
  {
   "cell_type": "code",
   "execution_count": null,
   "id": "16f19dc8",
   "metadata": {},
   "outputs": [],
   "source": [
    "    \n",
    "def full_statappend(leagueNum): # 리그 넘버는 2부터 시작임\n",
    "    ## 리그 필터 선택하기\n",
    "    a = driver.find_element_by_css_selector('#root > div:nth-child(4) > div > div.LeagueFilter.dark')\n",
    "    a.click()\n",
    "    time.sleep(1)\n",
    "    \n",
    "    ## 4대리그 선택하기\n",
    "    a2 = driver.find_element_by_css_selector(f'#root > div:nth-child(4) > div > div.LeagueFilter.dark > div.LeagueFilter__primary.Gilroy.LeagueFilter__primary--extended > div.LeagueFilter__primary__list > div:nth-child({leagueNum})')\n",
    "    a2.click()\n",
    "    time.sleep(1)\n",
    "\n",
    "# summer 기록 체크를 위한 필터 클릭\n",
    "    a3 = driver.find_element_by_css_selector('#root > div:nth-child(4) > div > div.LeagueFilter.dark > div:nth-child(2) > div.LeagueFilter__primary__value')\n",
    "    a3.click()\n",
    "    time.sleep(1)\n",
    "\n",
    "# SUMMER Season 클릭 \n",
    "    a4 = driver.find_element_by_css_selector('#root > div:nth-child(4) > div > div.LeagueFilter.dark > div.LeagueFilter__primary.Gilroy.LeagueFilter__primary--extended > div.LeagueFilter__primary__list > div:nth-child(3)')\n",
    "    a4.click()\n",
    "    time.sleep(1)\n",
    "\n",
    "    for linenum in range(1, 6):\n",
    "        line= driver.find_element_by_css_selector(f'#root > div:nth-child(4) > div > div.ProStatsCC > div.ProStats__positions > div:nth-child({linenum})')\n",
    "        line.click()\n",
    "        time.sleep(2)\n",
    "            \n",
    "    ## 라인 선수 수에 맞춰서 설정\n",
    "        player_len = driver.find_elements_by_css_selector('#root > div:nth-child(4) > div > div.ProStatsCC > div.ProStats__container > div.ProStats__ranks > a')    \n",
    "        time.sleep(2)\n",
    "    ## 정한 라인의 선수들의 상세스탯을 확인하기 위해 클릭 \n",
    "        for num in range(1, len(player_len)):\n",
    "            player = driver.find_element_by_css_selector(f'#root > div:nth-child(4) > div > div.ProStatsCC > div.ProStats__container > div.ProStats__ranks > a:nth-child({num})')\n",
    "            player.click()\n",
    "            time.sleep(3)\n",
    "\n",
    "            stat = driver.find_elements_by_css_selector('#root > div.Player > div:nth-child(2) > div > section > table > tbody')\n",
    "            time.sleep(2)\n",
    "\n",
    "    ## 선수들의 챔피언 관련 스탯 리스트에 담기\n",
    "            for i in stat:\n",
    "                for n in i.find_elements_by_css_selector('tr'):\n",
    "                    name.append(driver.find_element_by_css_selector('#root > div.Player > div.FluidContainer.container-fluid.Player__profile__container > div > h1').text.strip())\n",
    "                    champions.append(n.find_element_by_css_selector('td:nth-child(1)').text.strip())\n",
    "                    game.append(n.find_element_by_css_selector('td:nth-child(2)').text.strip())\n",
    "                    win_rate.append(n.find_element_by_css_selector('td:nth-child(3)').text.strip())\n",
    "                    kill.append(n.find_element_by_css_selector('td:nth-child(4)').text.strip())\n",
    "                    death.append(n.find_element_by_css_selector('td:nth-child(5)').text.strip())\n",
    "                    assist.append(n.find_element_by_css_selector('td:nth-child(6)').text.strip())\n",
    "                    kda.append(n.find_element_by_css_selector('td:nth-child(7)').text.strip())\n",
    "                    win.append(n.find_element_by_css_selector('td:nth-child(8)').text.strip())\n",
    "                    lose.append(n.find_element_by_css_selector('td:nth-child(9)').text.strip())\n",
    "                    dpm.append(n.find_element_by_css_selector('td:nth-child(10)').text.strip())\n",
    "                    time.sleep(1)\n",
    "                    \n",
    "                    if linenum == 1:\n",
    "                        line.append('TOP')\n",
    "                    elif linenum == 2:\n",
    "                        line.append('JG')\n",
    "                    elif linenum == 3:\n",
    "                        line.append('MID')\n",
    "                    elif linenum == 4:\n",
    "                        line.append('AD')\n",
    "                    elif linenum == 5:\n",
    "                        line.append('SUP')\n",
    "\n",
    "            time.sleep(2)\n",
    "            # 한 선수가 끝나면 다음 선수를 확인하기위해 뒤로가기\n",
    "            driver.back()"
   ]
  },
  {
   "cell_type": "code",
   "execution_count": null,
   "id": "def24eeb",
   "metadata": {
    "scrolled": true
   },
   "outputs": [],
   "source": [
    "full_statappend(2) #"
   ]
  },
  {
   "cell_type": "code",
   "execution_count": null,
   "id": "eae62a16",
   "metadata": {},
   "outputs": [],
   "source": [
    "# DataFrame으로 변환 후 출력해봄\n",
    "# 다른 라인 만들어지면 넘어가기\n",
    "total_df = pd.DataFrame([name,\n",
    "                         champions,\n",
    "                         game,\n",
    "                        win_rate,\n",
    "                        kill,\n",
    "                        death,\n",
    "                        assist,\n",
    "                        kda,\n",
    "                        win,\n",
    "                        lose,\n",
    "                        dpm],\n",
    "                               index = ['player_name','champion','game', 'win_rate', 'kill', 'death', 'assist','kda','win','lose','dpm']).T"
   ]
  },
  {
   "cell_type": "code",
   "execution_count": null,
   "id": "4f0642b8",
   "metadata": {},
   "outputs": [],
   "source": [
    "total_df.to_csv('progamers.csv', encoding='cp949')"
   ]
  },
  {
   "cell_type": "code",
   "execution_count": null,
   "id": "0e925021",
   "metadata": {},
   "outputs": [],
   "source": [
    "driver.quit()"
   ]
  },
  {
   "cell_type": "markdown",
   "id": "88b49960",
   "metadata": {},
   "source": [
    "##  데이터 간단히 확인해보기"
   ]
  },
  {
   "cell_type": "code",
   "execution_count": null,
   "id": "8b54555f",
   "metadata": {
    "scrolled": true
   },
   "outputs": [],
   "source": [
    "total_df.groupby('champion').count().sort_values(by='game')"
   ]
  },
  {
   "cell_type": "code",
   "execution_count": null,
   "id": "eb06adf2",
   "metadata": {},
   "outputs": [],
   "source": [
    "total_df"
   ]
  },
  {
   "cell_type": "code",
   "execution_count": null,
   "id": "0d46ce36",
   "metadata": {},
   "outputs": [],
   "source": [
    "doran = total_df[total_df['player_name'] == 'KT Doran']"
   ]
  },
  {
   "cell_type": "code",
   "execution_count": null,
   "id": "f4ce56f6",
   "metadata": {},
   "outputs": [],
   "source": [
    "total_df[total_df['champion'] == '제이스'].sort_values(by='game')"
   ]
  },
  {
   "cell_type": "code",
   "execution_count": null,
   "id": "07a32680",
   "metadata": {},
   "outputs": [],
   "source": [
    "total_df.dtypes"
   ]
  },
  {
   "cell_type": "code",
   "execution_count": null,
   "id": "56bcf5bc",
   "metadata": {},
   "outputs": [],
   "source": [
    "total_df['win_rate'] = total_df['win_rate'].str.replace('%','')\n",
    "total_df"
   ]
  },
  {
   "cell_type": "code",
   "execution_count": null,
   "id": "ec95f090",
   "metadata": {},
   "outputs": [],
   "source": [
    "total_df2 = total_df.astype( {\"game\": \"int16\",  \"kill\":\"float32\", \"death\":\"float32\",\n",
    "                             \"assist\":\"float32\", \"win\":\"int16\", \"lose\":\"int16\",\n",
    "                             \"dpm\":\"float32\", \"win_rate\":\"float32\",\"kda\":\"float32\"})"
   ]
  },
  {
   "cell_type": "code",
   "execution_count": null,
   "id": "5fb74b6d",
   "metadata": {},
   "outputs": [],
   "source": [
    "total_df2.dtypes"
   ]
  },
  {
   "cell_type": "code",
   "execution_count": null,
   "id": "b2bf72a0",
   "metadata": {},
   "outputs": [],
   "source": [
    "\n",
    "total_df2.groupby('champion').sum().sort_values(by='game')"
   ]
  },
  {
   "cell_type": "code",
   "execution_count": null,
   "id": "2a5568e8",
   "metadata": {},
   "outputs": [],
   "source": [
    "total_df2[total_df['champion'] == '라이즈'].sort_values(by='game')"
   ]
  },
  {
   "cell_type": "code",
   "execution_count": null,
   "id": "b34339d6",
   "metadata": {},
   "outputs": [],
   "source": [
    "gen_df = total_df2[total_df2['player_name'].str.contains('GEN')]"
   ]
  },
  {
   "cell_type": "code",
   "execution_count": null,
   "id": "2e61c011",
   "metadata": {},
   "outputs": [],
   "source": [
    "t1_df = total_df2[total_df2['player_name'].str.contains('T1')]"
   ]
  },
  {
   "cell_type": "code",
   "execution_count": null,
   "id": "bf09700e",
   "metadata": {},
   "outputs": [],
   "source": [
    "DK_df = total_df2[total_df2['player_name'].str.contains('DK')]"
   ]
  },
  {
   "cell_type": "code",
   "execution_count": null,
   "id": "f0c3283d",
   "metadata": {},
   "outputs": [],
   "source": [
    "len(gen_df) , len(t1_df)"
   ]
  },
  {
   "cell_type": "code",
   "execution_count": null,
   "id": "95d00b93",
   "metadata": {},
   "outputs": [],
   "source": [
    "t1_df.sort_values(by='game', ascending=False).head(10)"
   ]
  },
  {
   "cell_type": "code",
   "execution_count": null,
   "id": "c64aba8b",
   "metadata": {
    "scrolled": true
   },
   "outputs": [],
   "source": [
    "t1_df[t1_df['player_name'] == 'T1 Faker']"
   ]
  },
  {
   "cell_type": "code",
   "execution_count": null,
   "id": "4d7e2028",
   "metadata": {},
   "outputs": [],
   "source": [
    "t1_df"
   ]
  },
  {
   "cell_type": "code",
   "execution_count": null,
   "id": "9fc32fa8",
   "metadata": {},
   "outputs": [],
   "source": [
    "DK_df"
   ]
  },
  {
   "cell_type": "code",
   "execution_count": null,
   "id": "182627f1",
   "metadata": {},
   "outputs": [],
   "source": [
    "DK_df[DK_df['player_name'] == 'DK be']"
   ]
  },
  {
   "cell_type": "code",
   "execution_count": null,
   "id": "7e1d8739",
   "metadata": {
    "scrolled": true
   },
   "outputs": [],
   "source": [
    "t1_df.groupby('champion').sum().sort_values(by='game', ascending=False)"
   ]
  },
  {
   "cell_type": "code",
   "execution_count": null,
   "id": "2f222e60",
   "metadata": {},
   "outputs": [],
   "source": []
  }
 ],
 "metadata": {
  "kernelspec": {
   "display_name": "Python 3",
   "language": "python",
   "name": "python3"
  },
  "language_info": {
   "codemirror_mode": {
    "name": "ipython",
    "version": 3
   },
   "file_extension": ".py",
   "mimetype": "text/x-python",
   "name": "python",
   "nbconvert_exporter": "python",
   "pygments_lexer": "ipython3",
   "version": "3.8.8"
  }
 },
 "nbformat": 4,
 "nbformat_minor": 5
}
